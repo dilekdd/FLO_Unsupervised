{
 "cells": [
  {
   "cell_type": "code",
   "execution_count": 1,
   "id": "66d71001",
   "metadata": {
    "execution": {
     "iopub.execute_input": "2024-10-27T11:40:46.789905Z",
     "iopub.status.busy": "2024-10-27T11:40:46.789463Z",
     "iopub.status.idle": "2024-10-27T11:40:49.846500Z",
     "shell.execute_reply": "2024-10-27T11:40:49.845279Z"
    },
    "papermill": {
     "duration": 3.070229,
     "end_time": "2024-10-27T11:40:49.849159",
     "exception": false,
     "start_time": "2024-10-27T11:40:46.778930",
     "status": "completed"
    },
    "tags": []
   },
   "outputs": [],
   "source": [
    "# pip install yellowbrick\n",
    "import datetime as dt\n",
    "import numpy as np\n",
    "import pandas as pd\n",
    "import seaborn as sns\n",
    "import random\n",
    "import matplotlib.pyplot as plt\n",
    "from sklearn.cluster import KMeans\n",
    "from sklearn.preprocessing import MinMaxScaler\n",
    "from yellowbrick.cluster import KElbowVisualizer\n",
    "from scipy.cluster.hierarchy import linkage\n",
    "from scipy.cluster.hierarchy import dendrogram\n",
    "from sklearn.preprocessing import StandardScaler\n",
    "from sklearn.decomposition import PCA\n",
    "from sklearn.model_selection import cross_val_score, GridSearchCV\n",
    "from sklearn.preprocessing import LabelEncoder\n",
    "pd.set_option('display.width', 500)\n",
    "#adjusting the display settings\n",
    "pd.set_option('display.max_columns', None)\n",
    "pd.set_option('display.max_rows', None)\n",
    "pd.set_option('display.max_colwidth', None)\n",
    "pd.set_option('display.width', 500)\n",
    "pd.set_option('display.float_format', lambda x: '%.3f' % x)\n",
    "import warnings\n",
    "warnings.simplefilter(action='ignore', category=FutureWarning)"
   ]
  },
  {
   "cell_type": "code",
   "execution_count": 2,
   "id": "5943b8e5",
   "metadata": {
    "execution": {
     "iopub.execute_input": "2024-10-27T11:40:49.867421Z",
     "iopub.status.busy": "2024-10-27T11:40:49.866867Z",
     "iopub.status.idle": "2024-10-27T11:40:49.993967Z",
     "shell.execute_reply": "2024-10-27T11:40:49.992868Z"
    },
    "papermill": {
     "duration": 0.138749,
     "end_time": "2024-10-27T11:40:49.996404",
     "exception": false,
     "start_time": "2024-10-27T11:40:49.857655",
     "status": "completed"
    },
    "tags": []
   },
   "outputs": [],
   "source": [
    "df_ = pd.read_csv(\"/kaggle/input/flo-data/flo_data_20k.csv\")\n",
    "df = df_.copy()"
   ]
  },
  {
   "cell_type": "code",
   "execution_count": 3,
   "id": "1d2c02af",
   "metadata": {
    "execution": {
     "iopub.execute_input": "2024-10-27T11:40:50.013729Z",
     "iopub.status.busy": "2024-10-27T11:40:50.013359Z",
     "iopub.status.idle": "2024-10-27T11:40:50.053809Z",
     "shell.execute_reply": "2024-10-27T11:40:50.052638Z"
    },
    "papermill": {
     "duration": 0.052005,
     "end_time": "2024-10-27T11:40:50.056432",
     "exception": false,
     "start_time": "2024-10-27T11:40:50.004427",
     "status": "completed"
    },
    "tags": []
   },
   "outputs": [
    {
     "name": "stdout",
     "output_type": "stream",
     "text": [
      "##################### Shape #####################\n",
      "(19945, 12)\n",
      "##################### Types #####################\n",
      "master_id                             object\n",
      "order_channel                         object\n",
      "last_order_channel                    object\n",
      "first_order_date                      object\n",
      "last_order_date                       object\n",
      "last_order_date_online                object\n",
      "last_order_date_offline               object\n",
      "order_num_total_ever_online          float64\n",
      "order_num_total_ever_offline         float64\n",
      "customer_value_total_ever_offline    float64\n",
      "customer_value_total_ever_online     float64\n",
      "interested_in_categories_12           object\n",
      "dtype: object\n",
      "##################### Head #####################\n",
      "                              master_id order_channel last_order_channel first_order_date last_order_date last_order_date_online last_order_date_offline  order_num_total_ever_online  order_num_total_ever_offline  customer_value_total_ever_offline  customer_value_total_ever_online       interested_in_categories_12\n",
      "0  cc294636-19f0-11eb-8d74-000d3a38a36f   Android App            Offline       2020-10-30      2021-02-26             2021-02-21              2021-02-26                        4.000                         1.000                            139.990                           799.380                           [KADIN]\n",
      "1  f431bd5a-ab7b-11e9-a2fc-000d3a38a36f   Android App             Mobile       2017-02-08      2021-02-16             2021-02-16              2020-01-10                       19.000                         2.000                            159.970                          1853.580  [ERKEK, COCUK, KADIN, AKTIFSPOR]\n",
      "2  69b69676-1a40-11ea-941b-000d3a38a36f   Android App        Android App       2019-11-27      2020-11-27             2020-11-27              2019-12-01                        3.000                         2.000                            189.970                           395.350                    [ERKEK, KADIN]\n",
      "3  1854e56c-491f-11eb-806e-000d3a38a36f   Android App        Android App       2021-01-06      2021-01-17             2021-01-17              2021-01-06                        1.000                         1.000                             39.990                            81.980               [AKTIFCOCUK, COCUK]\n",
      "4  d6ea1074-f1f5-11e9-9346-000d3a38a36f       Desktop            Desktop       2019-08-03      2021-03-07             2021-03-07              2019-08-03                        1.000                         1.000                             49.990                           159.990                       [AKTIFSPOR]\n",
      "##################### Tail #####################\n",
      "                                  master_id order_channel last_order_channel first_order_date last_order_date last_order_date_online last_order_date_offline  order_num_total_ever_online  order_num_total_ever_offline  customer_value_total_ever_offline  customer_value_total_ever_online interested_in_categories_12\n",
      "19940  727e2b6e-ddd4-11e9-a848-000d3a38a36f   Android App            Offline       2019-09-21      2020-07-05             2020-06-05              2020-07-05                        1.000                         2.000                            289.980                           111.980          [ERKEK, AKTIFSPOR]\n",
      "19941  25cd53d4-61bf-11ea-8dd8-000d3a38a36f       Desktop            Desktop       2020-03-01      2020-12-22             2020-12-22              2020-03-01                        1.000                         1.000                            150.480                           239.990                 [AKTIFSPOR]\n",
      "19942  8aea4c2a-d6fc-11e9-93bc-000d3a38a36f       Ios App            Ios App       2019-09-11      2021-05-24             2021-05-24              2019-09-11                        2.000                         1.000                            139.980                           492.960                 [AKTIFSPOR]\n",
      "19943  e50bb46c-ff30-11e9-a5e8-000d3a38a36f   Android App        Android App       2019-03-27      2021-02-13             2021-02-13              2021-01-08                        1.000                         5.000                            711.790                           297.980          [ERKEK, AKTIFSPOR]\n",
      "19944  740998d2-b1f7-11e9-89fa-000d3a38a36f   Android App        Android App       2019-09-03      2020-06-06             2020-06-06              2019-09-03                        1.000                         1.000                             39.990                           221.980          [KADIN, AKTIFSPOR]\n",
      "##################### NA #####################\n",
      "master_id                            0\n",
      "order_channel                        0\n",
      "last_order_channel                   0\n",
      "first_order_date                     0\n",
      "last_order_date                      0\n",
      "last_order_date_online               0\n",
      "last_order_date_offline              0\n",
      "order_num_total_ever_online          0\n",
      "order_num_total_ever_offline         0\n",
      "customer_value_total_ever_offline    0\n",
      "customer_value_total_ever_online     0\n",
      "interested_in_categories_12          0\n",
      "dtype: int64\n",
      "##################### Quantiles #####################\n",
      "                                   0.000  0.050   0.500    0.950    0.990     1.000\n",
      "order_num_total_ever_online        1.000  1.000   2.000   10.000   20.000   200.000\n",
      "order_num_total_ever_offline       1.000  1.000   1.000    4.000    7.000   109.000\n",
      "customer_value_total_ever_offline 10.000 39.990 179.980  694.222 1219.947 18119.140\n",
      "customer_value_total_ever_online  12.990 63.990 286.460 1556.726 3143.810 45220.130\n"
     ]
    }
   ],
   "source": [
    "def check_df(dataframe, head=5):\n",
    "    print(\"##################### Shape #####################\")\n",
    "    print(dataframe.shape)\n",
    "    print(\"##################### Types #####################\")\n",
    "    print(dataframe.dtypes)\n",
    "    print(\"##################### Head #####################\")\n",
    "    print(dataframe.head(head))\n",
    "    print(\"##################### Tail #####################\")\n",
    "    print(dataframe.tail(head))\n",
    "    print(\"##################### NA #####################\")\n",
    "    print(dataframe.isnull().sum())\n",
    "    print(\"##################### Quantiles #####################\")\n",
    "    print(dataframe.select_dtypes(include=[np.number]).quantile([0, 0.05, 0.50, 0.95, 0.99, 1]).T)\n",
    "\n",
    "\n",
    "check_df(df)"
   ]
  },
  {
   "cell_type": "code",
   "execution_count": 4,
   "id": "95f7de73",
   "metadata": {
    "execution": {
     "iopub.execute_input": "2024-10-27T11:40:50.076002Z",
     "iopub.status.busy": "2024-10-27T11:40:50.074741Z",
     "iopub.status.idle": "2024-10-27T11:40:50.114544Z",
     "shell.execute_reply": "2024-10-27T11:40:50.113402Z"
    },
    "papermill": {
     "duration": 0.052407,
     "end_time": "2024-10-27T11:40:50.117208",
     "exception": false,
     "start_time": "2024-10-27T11:40:50.064801",
     "status": "completed"
    },
    "tags": []
   },
   "outputs": [],
   "source": [
    "date_columns = df.columns[df.columns.str.contains(\"date\")]\n",
    "df[date_columns] = df[date_columns].apply(pd.to_datetime)"
   ]
  },
  {
   "cell_type": "code",
   "execution_count": 5,
   "id": "85080e81",
   "metadata": {
    "execution": {
     "iopub.execute_input": "2024-10-27T11:40:50.137083Z",
     "iopub.status.busy": "2024-10-27T11:40:50.136191Z",
     "iopub.status.idle": "2024-10-27T11:40:50.143667Z",
     "shell.execute_reply": "2024-10-27T11:40:50.142637Z"
    },
    "papermill": {
     "duration": 0.019029,
     "end_time": "2024-10-27T11:40:50.145828",
     "exception": false,
     "start_time": "2024-10-27T11:40:50.126799",
     "status": "completed"
    },
    "tags": []
   },
   "outputs": [],
   "source": [
    "df[\"order_num_total\"] = df[\"order_num_total_ever_online\"] + df[\"order_num_total_ever_offline\"]\n",
    "df[\"customer_value_total\"] = df[\"customer_value_total_ever_offline\"] + df[\"customer_value_total_ever_online\"]"
   ]
  },
  {
   "cell_type": "code",
   "execution_count": 6,
   "id": "1be3a364",
   "metadata": {
    "execution": {
     "iopub.execute_input": "2024-10-27T11:40:50.164213Z",
     "iopub.status.busy": "2024-10-27T11:40:50.163793Z",
     "iopub.status.idle": "2024-10-27T11:40:50.174693Z",
     "shell.execute_reply": "2024-10-27T11:40:50.173654Z"
    },
    "papermill": {
     "duration": 0.022708,
     "end_time": "2024-10-27T11:40:50.176997",
     "exception": false,
     "start_time": "2024-10-27T11:40:50.154289",
     "status": "completed"
    },
    "tags": []
   },
   "outputs": [],
   "source": [
    "analysis_date = df['last_order_date'].max() + dt.timedelta(days=2)\n",
    "df[\"recency\"] = (analysis_date - df[\"last_order_date\"]).dt.days\n",
    "df[\"tenure\"] = (analysis_date - df[\"first_order_date\"]).dt.days"
   ]
  },
  {
   "cell_type": "code",
   "execution_count": 7,
   "id": "2491514e",
   "metadata": {
    "execution": {
     "iopub.execute_input": "2024-10-27T11:40:50.195599Z",
     "iopub.status.busy": "2024-10-27T11:40:50.194695Z",
     "iopub.status.idle": "2024-10-27T11:40:50.214747Z",
     "shell.execute_reply": "2024-10-27T11:40:50.213703Z"
    },
    "papermill": {
     "duration": 0.031637,
     "end_time": "2024-10-27T11:40:50.217128",
     "exception": false,
     "start_time": "2024-10-27T11:40:50.185491",
     "status": "completed"
    },
    "tags": []
   },
   "outputs": [
    {
     "data": {
      "text/html": [
       "<div>\n",
       "<style scoped>\n",
       "    .dataframe tbody tr th:only-of-type {\n",
       "        vertical-align: middle;\n",
       "    }\n",
       "\n",
       "    .dataframe tbody tr th {\n",
       "        vertical-align: top;\n",
       "    }\n",
       "\n",
       "    .dataframe thead th {\n",
       "        text-align: right;\n",
       "    }\n",
       "</style>\n",
       "<table border=\"1\" class=\"dataframe\">\n",
       "  <thead>\n",
       "    <tr style=\"text-align: right;\">\n",
       "      <th></th>\n",
       "      <th>master_id</th>\n",
       "      <th>order_channel</th>\n",
       "      <th>last_order_channel</th>\n",
       "      <th>first_order_date</th>\n",
       "      <th>last_order_date</th>\n",
       "      <th>last_order_date_online</th>\n",
       "      <th>last_order_date_offline</th>\n",
       "      <th>order_num_total_ever_online</th>\n",
       "      <th>order_num_total_ever_offline</th>\n",
       "      <th>customer_value_total_ever_offline</th>\n",
       "      <th>customer_value_total_ever_online</th>\n",
       "      <th>interested_in_categories_12</th>\n",
       "      <th>order_num_total</th>\n",
       "      <th>customer_value_total</th>\n",
       "      <th>recency</th>\n",
       "      <th>tenure</th>\n",
       "    </tr>\n",
       "  </thead>\n",
       "  <tbody>\n",
       "    <tr>\n",
       "      <th>0</th>\n",
       "      <td>cc294636-19f0-11eb-8d74-000d3a38a36f</td>\n",
       "      <td>Android App</td>\n",
       "      <td>Offline</td>\n",
       "      <td>2020-10-30</td>\n",
       "      <td>2021-02-26</td>\n",
       "      <td>2021-02-21</td>\n",
       "      <td>2021-02-26</td>\n",
       "      <td>4.000</td>\n",
       "      <td>1.000</td>\n",
       "      <td>139.990</td>\n",
       "      <td>799.380</td>\n",
       "      <td>[KADIN]</td>\n",
       "      <td>5.000</td>\n",
       "      <td>939.370</td>\n",
       "      <td>95</td>\n",
       "      <td>214</td>\n",
       "    </tr>\n",
       "    <tr>\n",
       "      <th>1</th>\n",
       "      <td>f431bd5a-ab7b-11e9-a2fc-000d3a38a36f</td>\n",
       "      <td>Android App</td>\n",
       "      <td>Mobile</td>\n",
       "      <td>2017-02-08</td>\n",
       "      <td>2021-02-16</td>\n",
       "      <td>2021-02-16</td>\n",
       "      <td>2020-01-10</td>\n",
       "      <td>19.000</td>\n",
       "      <td>2.000</td>\n",
       "      <td>159.970</td>\n",
       "      <td>1853.580</td>\n",
       "      <td>[ERKEK, COCUK, KADIN, AKTIFSPOR]</td>\n",
       "      <td>21.000</td>\n",
       "      <td>2013.550</td>\n",
       "      <td>105</td>\n",
       "      <td>1574</td>\n",
       "    </tr>\n",
       "    <tr>\n",
       "      <th>2</th>\n",
       "      <td>69b69676-1a40-11ea-941b-000d3a38a36f</td>\n",
       "      <td>Android App</td>\n",
       "      <td>Android App</td>\n",
       "      <td>2019-11-27</td>\n",
       "      <td>2020-11-27</td>\n",
       "      <td>2020-11-27</td>\n",
       "      <td>2019-12-01</td>\n",
       "      <td>3.000</td>\n",
       "      <td>2.000</td>\n",
       "      <td>189.970</td>\n",
       "      <td>395.350</td>\n",
       "      <td>[ERKEK, KADIN]</td>\n",
       "      <td>5.000</td>\n",
       "      <td>585.320</td>\n",
       "      <td>186</td>\n",
       "      <td>552</td>\n",
       "    </tr>\n",
       "    <tr>\n",
       "      <th>3</th>\n",
       "      <td>1854e56c-491f-11eb-806e-000d3a38a36f</td>\n",
       "      <td>Android App</td>\n",
       "      <td>Android App</td>\n",
       "      <td>2021-01-06</td>\n",
       "      <td>2021-01-17</td>\n",
       "      <td>2021-01-17</td>\n",
       "      <td>2021-01-06</td>\n",
       "      <td>1.000</td>\n",
       "      <td>1.000</td>\n",
       "      <td>39.990</td>\n",
       "      <td>81.980</td>\n",
       "      <td>[AKTIFCOCUK, COCUK]</td>\n",
       "      <td>2.000</td>\n",
       "      <td>121.970</td>\n",
       "      <td>135</td>\n",
       "      <td>146</td>\n",
       "    </tr>\n",
       "    <tr>\n",
       "      <th>4</th>\n",
       "      <td>d6ea1074-f1f5-11e9-9346-000d3a38a36f</td>\n",
       "      <td>Desktop</td>\n",
       "      <td>Desktop</td>\n",
       "      <td>2019-08-03</td>\n",
       "      <td>2021-03-07</td>\n",
       "      <td>2021-03-07</td>\n",
       "      <td>2019-08-03</td>\n",
       "      <td>1.000</td>\n",
       "      <td>1.000</td>\n",
       "      <td>49.990</td>\n",
       "      <td>159.990</td>\n",
       "      <td>[AKTIFSPOR]</td>\n",
       "      <td>2.000</td>\n",
       "      <td>209.980</td>\n",
       "      <td>86</td>\n",
       "      <td>668</td>\n",
       "    </tr>\n",
       "  </tbody>\n",
       "</table>\n",
       "</div>"
      ],
      "text/plain": [
       "                              master_id order_channel last_order_channel first_order_date last_order_date last_order_date_online last_order_date_offline  order_num_total_ever_online  order_num_total_ever_offline  customer_value_total_ever_offline  customer_value_total_ever_online       interested_in_categories_12  order_num_total  customer_value_total  recency  tenure\n",
       "0  cc294636-19f0-11eb-8d74-000d3a38a36f   Android App            Offline       2020-10-30      2021-02-26             2021-02-21              2021-02-26                        4.000                         1.000                            139.990                           799.380                           [KADIN]            5.000               939.370       95     214\n",
       "1  f431bd5a-ab7b-11e9-a2fc-000d3a38a36f   Android App             Mobile       2017-02-08      2021-02-16             2021-02-16              2020-01-10                       19.000                         2.000                            159.970                          1853.580  [ERKEK, COCUK, KADIN, AKTIFSPOR]           21.000              2013.550      105    1574\n",
       "2  69b69676-1a40-11ea-941b-000d3a38a36f   Android App        Android App       2019-11-27      2020-11-27             2020-11-27              2019-12-01                        3.000                         2.000                            189.970                           395.350                    [ERKEK, KADIN]            5.000               585.320      186     552\n",
       "3  1854e56c-491f-11eb-806e-000d3a38a36f   Android App        Android App       2021-01-06      2021-01-17             2021-01-17              2021-01-06                        1.000                         1.000                             39.990                            81.980               [AKTIFCOCUK, COCUK]            2.000               121.970      135     146\n",
       "4  d6ea1074-f1f5-11e9-9346-000d3a38a36f       Desktop            Desktop       2019-08-03      2021-03-07             2021-03-07              2019-08-03                        1.000                         1.000                             49.990                           159.990                       [AKTIFSPOR]            2.000               209.980       86     668"
      ]
     },
     "execution_count": 7,
     "metadata": {},
     "output_type": "execute_result"
    }
   ],
   "source": [
    "df.head()"
   ]
  },
  {
   "cell_type": "code",
   "execution_count": 8,
   "id": "b4eb1674",
   "metadata": {
    "execution": {
     "iopub.execute_input": "2024-10-27T11:40:50.236234Z",
     "iopub.status.busy": "2024-10-27T11:40:50.235804Z",
     "iopub.status.idle": "2024-10-27T11:40:50.281863Z",
     "shell.execute_reply": "2024-10-27T11:40:50.280516Z"
    },
    "papermill": {
     "duration": 0.058574,
     "end_time": "2024-10-27T11:40:50.284521",
     "exception": false,
     "start_time": "2024-10-27T11:40:50.225947",
     "status": "completed"
    },
    "tags": []
   },
   "outputs": [
    {
     "name": "stdout",
     "output_type": "stream",
     "text": [
      "Observations: 19945\n",
      "Variables: 16\n",
      "cat_cols: 2\n",
      "num_cols: 8\n",
      "cat_but_car: 2\n",
      "num_but_cat: 0\n",
      "date_cols: 4\n"
     ]
    }
   ],
   "source": [
    "def grab_col_names(dataframe, cat_th=5, car_th=20):\n",
    "    \"\"\"\n",
    "\n",
    "    Veri setindeki kategorik, numerik ve kategorik fakat kardinal değişkenlerin isimlerini verir.\n",
    "    Not: Kategorik değişkenlerin içerisine numerik görünümlü kategorik değişkenler de dahildir.\n",
    "\n",
    "    Parameters\n",
    "    ------\n",
    "        dataframe: dataframe\n",
    "                Değişken isimleri alınmak istenilen dataframe\n",
    "        cat_th: int, optional\n",
    "                numerik fakat kategorik olan değişkenler için sınıf eşik değeri\n",
    "        car_th: int, optinal\n",
    "                kategorik fakat kardinal değişkenler için sınıf eşik değeri\n",
    "\n",
    "    Returns\n",
    "    ------\n",
    "        cat_cols: list\n",
    "                Kategorik değişken listesi\n",
    "        num_cols: list\n",
    "                Numerik değişken listesi\n",
    "        cat_but_car: list\n",
    "                Kategorik görünümlü kardinal değişken listesi\n",
    "\n",
    "    Examples\n",
    "    ------\n",
    "        import seaborn as sns\n",
    "        df = sns.load_dataset(\"iris\")\n",
    "        print(grab_col_names(df))\n",
    "\n",
    "\n",
    "    Notes\n",
    "    ------\n",
    "        cat_cols + num_cols + cat_but_car = toplam değişken sayısı\n",
    "        num_but_cat cat_cols'un içerisinde.\n",
    "        Return olan 3 liste toplamı toplam değişken sayısına eşittir: cat_cols + num_cols + cat_but_car = değişken sayısı\n",
    "\n",
    "    \"\"\"\n",
    "\n",
    "    # cat_cols, cat_but_car\n",
    "    cat_cols = [col for col in dataframe.columns if dataframe[col].dtypes == \"O\"]\n",
    "    num_but_cat = [col for col in dataframe.columns if dataframe[col].nunique() < cat_th and\n",
    "                   dataframe[col].dtypes != \"O\"]\n",
    "    cat_but_car = [col for col in dataframe.columns if dataframe[col].nunique() > car_th and\n",
    "                   dataframe[col].dtypes == \"O\"]\n",
    "    cat_cols = cat_cols + num_but_cat\n",
    "    cat_cols = [col for col in cat_cols if col not in cat_but_car]\n",
    "\n",
    "    #date cols\n",
    "    date_cols = [col for col in dataframe.columns if dataframe[col].dtypes == 'datetime64[ns]']\n",
    "\n",
    "\n",
    "    # num_cols\n",
    "    num_cols = [col for col in dataframe.columns if dataframe[col].dtypes != \"O\"]\n",
    "    num_cols = [col for col in num_cols if col not in num_but_cat and col not in date_cols]\n",
    "\n",
    "\n",
    "    print(f\"Observations: {dataframe.shape[0]}\")\n",
    "    print(f\"Variables: {dataframe.shape[1]}\")\n",
    "    print(f'cat_cols: {len(cat_cols)}')\n",
    "    print(f'num_cols: {len(num_cols)}')\n",
    "    print(f'cat_but_car: {len(cat_but_car)}')\n",
    "    print(f'num_but_cat: {len(num_but_cat)}')\n",
    "    print(f'date_cols: {len(date_cols)}')\n",
    "\n",
    "    return cat_cols, num_cols, cat_but_car, date_cols\n",
    "\n",
    "cat_cols, num_cols, cat_but_car, date_cols = grab_col_names(df)"
   ]
  },
  {
   "cell_type": "code",
   "execution_count": 9,
   "id": "408832f6",
   "metadata": {
    "execution": {
     "iopub.execute_input": "2024-10-27T11:40:50.304096Z",
     "iopub.status.busy": "2024-10-27T11:40:50.302932Z",
     "iopub.status.idle": "2024-10-27T11:40:50.310229Z",
     "shell.execute_reply": "2024-10-27T11:40:50.309101Z"
    },
    "papermill": {
     "duration": 0.019594,
     "end_time": "2024-10-27T11:40:50.312713",
     "exception": false,
     "start_time": "2024-10-27T11:40:50.293119",
     "status": "completed"
    },
    "tags": []
   },
   "outputs": [
    {
     "data": {
      "text/plain": [
       "['order_num_total_ever_online',\n",
       " 'order_num_total_ever_offline',\n",
       " 'customer_value_total_ever_offline',\n",
       " 'customer_value_total_ever_online',\n",
       " 'order_num_total',\n",
       " 'customer_value_total',\n",
       " 'recency',\n",
       " 'tenure']"
      ]
     },
     "execution_count": 9,
     "metadata": {},
     "output_type": "execute_result"
    }
   ],
   "source": [
    "num_cols"
   ]
  },
  {
   "cell_type": "code",
   "execution_count": 10,
   "id": "3e9be3c4",
   "metadata": {
    "execution": {
     "iopub.execute_input": "2024-10-27T11:40:50.332420Z",
     "iopub.status.busy": "2024-10-27T11:40:50.331716Z",
     "iopub.status.idle": "2024-10-27T11:40:50.374079Z",
     "shell.execute_reply": "2024-10-27T11:40:50.372899Z"
    },
    "papermill": {
     "duration": 0.054729,
     "end_time": "2024-10-27T11:40:50.376400",
     "exception": false,
     "start_time": "2024-10-27T11:40:50.321671",
     "status": "completed"
    },
    "tags": []
   },
   "outputs": [
    {
     "name": "stdout",
     "output_type": "stream",
     "text": [
      "order_num_total_ever_online True\n",
      "order_num_total_ever_offline True\n",
      "customer_value_total_ever_offline True\n",
      "customer_value_total_ever_online True\n",
      "order_num_total True\n",
      "customer_value_total True\n",
      "recency False\n",
      "tenure False\n"
     ]
    }
   ],
   "source": [
    "def outlier_thresholds(dataframe, col_name, q1=0.01, q3=0.99):\n",
    "    quartile1 = dataframe[col_name].quantile(q1)\n",
    "    quartile3 = dataframe[col_name].quantile(q3)\n",
    "    interquantile_range = quartile3 - quartile1\n",
    "    up_limit = quartile3 + 1.5 * interquantile_range\n",
    "    low_limit = quartile1 - 1.5 * interquantile_range\n",
    "    return low_limit, up_limit\n",
    "\n",
    "def replace_with_thresholds(dataframe, variable):\n",
    "    low_limit, up_limit = outlier_thresholds(dataframe, variable)\n",
    "    dataframe.loc[(dataframe[variable] < low_limit), variable] = low_limit\n",
    "    dataframe.loc[(dataframe[variable] > up_limit), variable] = up_limit\n",
    "\n",
    "def check_outlier(dataframe, col_name, q1=0.01, q3=0.99):\n",
    "    low_limit, up_limit = outlier_thresholds(dataframe, col_name, q1, q3)\n",
    "    if dataframe[(dataframe[col_name] > up_limit) | (dataframe[col_name] < low_limit)].any(axis=None):\n",
    "        return True\n",
    "    else:\n",
    "        return False\n",
    "\n",
    "for col in num_cols:\n",
    "    print(col, check_outlier(df, col))\n"
   ]
  },
  {
   "cell_type": "code",
   "execution_count": 11,
   "id": "2ce55437",
   "metadata": {
    "execution": {
     "iopub.execute_input": "2024-10-27T11:40:50.396596Z",
     "iopub.status.busy": "2024-10-27T11:40:50.396132Z",
     "iopub.status.idle": "2024-10-27T11:40:50.475817Z",
     "shell.execute_reply": "2024-10-27T11:40:50.474595Z"
    },
    "papermill": {
     "duration": 0.092982,
     "end_time": "2024-10-27T11:40:50.478280",
     "exception": false,
     "start_time": "2024-10-27T11:40:50.385298",
     "status": "completed"
    },
    "tags": []
   },
   "outputs": [
    {
     "name": "stdout",
     "output_type": "stream",
     "text": [
      "order_num_total_ever_online True\n",
      "order_num_total_ever_offline True\n",
      "customer_value_total_ever_offline True\n",
      "customer_value_total_ever_online True\n",
      "order_num_total True\n",
      "customer_value_total True\n",
      "recency False\n",
      "tenure False\n"
     ]
    }
   ],
   "source": [
    "for col in num_cols:\n",
    "    print(col, check_outlier(df, col))  \n",
    "    if check_outlier(df, col):  # Check for outliers in the column\n",
    "        replace_with_thresholds(df, col)  # Replace outliers in `df` directly"
   ]
  },
  {
   "cell_type": "code",
   "execution_count": 12,
   "id": "63062c11",
   "metadata": {
    "execution": {
     "iopub.execute_input": "2024-10-27T11:40:50.497399Z",
     "iopub.status.busy": "2024-10-27T11:40:50.496985Z",
     "iopub.status.idle": "2024-10-27T11:40:50.534030Z",
     "shell.execute_reply": "2024-10-27T11:40:50.532569Z"
    },
    "papermill": {
     "duration": 0.049496,
     "end_time": "2024-10-27T11:40:50.536478",
     "exception": false,
     "start_time": "2024-10-27T11:40:50.486982",
     "status": "completed"
    },
    "tags": []
   },
   "outputs": [
    {
     "name": "stdout",
     "output_type": "stream",
     "text": [
      "order_num_total_ever_online False\n",
      "order_num_total_ever_offline False\n",
      "customer_value_total_ever_offline False\n",
      "customer_value_total_ever_online False\n",
      "order_num_total False\n",
      "customer_value_total False\n",
      "recency False\n",
      "tenure False\n"
     ]
    }
   ],
   "source": [
    "for col in num_cols:\n",
    "    print(col, check_outlier(df, col))"
   ]
  },
  {
   "cell_type": "code",
   "execution_count": 13,
   "id": "6c8d7f44",
   "metadata": {
    "execution": {
     "iopub.execute_input": "2024-10-27T11:40:50.555881Z",
     "iopub.status.busy": "2024-10-27T11:40:50.555469Z",
     "iopub.status.idle": "2024-10-27T11:40:51.338046Z",
     "shell.execute_reply": "2024-10-27T11:40:51.336914Z"
    },
    "papermill": {
     "duration": 0.795883,
     "end_time": "2024-10-27T11:40:51.341199",
     "exception": false,
     "start_time": "2024-10-27T11:40:50.545316",
     "status": "completed"
    },
    "tags": []
   },
   "outputs": [
    {
     "data": {
      "image/png": "[encoded data removed]",
      "text/plain": [
       "<Figure size 1200x1200 with 2 Axes>"
      ]
     },
     "metadata": {},
     "output_type": "display_data"
    }
   ],
   "source": [
    "# Sayısal sütunlarla veri çerçevesini filtreleyin\n",
    "df_numeric = df[num_cols]\n",
    "# Korelasyon Analizi (Analysis of Correlation)\n",
    "corr = df_numeric.corr()\n",
    "# Korelasyonların gösterilmesi\n",
    "sns.set(rc={'figure.figsize': (12, 12)})\n",
    "sns.heatmap(corr, cmap=\"RdBu\", annot=True, fmt=\".2f\", annot_kws={\"size\": 8})\n",
    "plt.tight_layout()\n",
    "plt.show()"
   ]
  },
  {
   "cell_type": "code",
   "execution_count": 14,
   "id": "17504794",
   "metadata": {
    "execution": {
     "iopub.execute_input": "2024-10-27T11:40:51.364213Z",
     "iopub.status.busy": "2024-10-27T11:40:51.363776Z",
     "iopub.status.idle": "2024-10-27T11:40:51.409284Z",
     "shell.execute_reply": "2024-10-27T11:40:51.408268Z"
    },
    "papermill": {
     "duration": 0.059656,
     "end_time": "2024-10-27T11:40:51.411719",
     "exception": false,
     "start_time": "2024-10-27T11:40:51.352063",
     "status": "completed"
    },
    "tags": []
   },
   "outputs": [
    {
     "name": "stdout",
     "output_type": "stream",
     "text": [
      "Observations: 19945\n",
      "Variables: 16\n",
      "cat_cols: 2\n",
      "num_cols: 8\n",
      "cat_but_car: 2\n",
      "num_but_cat: 0\n",
      "date_cols: 4\n"
     ]
    },
    {
     "data": {
      "text/html": [
       "<div>\n",
       "<style scoped>\n",
       "    .dataframe tbody tr th:only-of-type {\n",
       "        vertical-align: middle;\n",
       "    }\n",
       "\n",
       "    .dataframe tbody tr th {\n",
       "        vertical-align: top;\n",
       "    }\n",
       "\n",
       "    .dataframe thead th {\n",
       "        text-align: right;\n",
       "    }\n",
       "</style>\n",
       "<table border=\"1\" class=\"dataframe\">\n",
       "  <thead>\n",
       "    <tr style=\"text-align: right;\">\n",
       "      <th></th>\n",
       "      <th>order_num_total_ever_online</th>\n",
       "      <th>order_num_total_ever_offline</th>\n",
       "      <th>customer_value_total_ever_offline</th>\n",
       "      <th>customer_value_total_ever_online</th>\n",
       "      <th>order_num_total</th>\n",
       "      <th>customer_value_total</th>\n",
       "      <th>recency</th>\n",
       "      <th>tenure</th>\n",
       "    </tr>\n",
       "  </thead>\n",
       "  <tbody>\n",
       "    <tr>\n",
       "      <th>0</th>\n",
       "      <td>4.000</td>\n",
       "      <td>1.000</td>\n",
       "      <td>139.990</td>\n",
       "      <td>799.380</td>\n",
       "      <td>5.000</td>\n",
       "      <td>939.370</td>\n",
       "      <td>95</td>\n",
       "      <td>214</td>\n",
       "    </tr>\n",
       "    <tr>\n",
       "      <th>1</th>\n",
       "      <td>19.000</td>\n",
       "      <td>2.000</td>\n",
       "      <td>159.970</td>\n",
       "      <td>1853.580</td>\n",
       "      <td>21.000</td>\n",
       "      <td>2013.550</td>\n",
       "      <td>105</td>\n",
       "      <td>1574</td>\n",
       "    </tr>\n",
       "    <tr>\n",
       "      <th>2</th>\n",
       "      <td>3.000</td>\n",
       "      <td>2.000</td>\n",
       "      <td>189.970</td>\n",
       "      <td>395.350</td>\n",
       "      <td>5.000</td>\n",
       "      <td>585.320</td>\n",
       "      <td>186</td>\n",
       "      <td>552</td>\n",
       "    </tr>\n",
       "    <tr>\n",
       "      <th>3</th>\n",
       "      <td>1.000</td>\n",
       "      <td>1.000</td>\n",
       "      <td>39.990</td>\n",
       "      <td>81.980</td>\n",
       "      <td>2.000</td>\n",
       "      <td>121.970</td>\n",
       "      <td>135</td>\n",
       "      <td>146</td>\n",
       "    </tr>\n",
       "    <tr>\n",
       "      <th>4</th>\n",
       "      <td>1.000</td>\n",
       "      <td>1.000</td>\n",
       "      <td>49.990</td>\n",
       "      <td>159.990</td>\n",
       "      <td>2.000</td>\n",
       "      <td>209.980</td>\n",
       "      <td>86</td>\n",
       "      <td>668</td>\n",
       "    </tr>\n",
       "  </tbody>\n",
       "</table>\n",
       "</div>"
      ],
      "text/plain": [
       "   order_num_total_ever_online  order_num_total_ever_offline  customer_value_total_ever_offline  customer_value_total_ever_online  order_num_total  customer_value_total  recency  tenure\n",
       "0                        4.000                         1.000                            139.990                           799.380            5.000               939.370       95     214\n",
       "1                       19.000                         2.000                            159.970                          1853.580           21.000              2013.550      105    1574\n",
       "2                        3.000                         2.000                            189.970                           395.350            5.000               585.320      186     552\n",
       "3                        1.000                         1.000                             39.990                            81.980            2.000               121.970      135     146\n",
       "4                        1.000                         1.000                             49.990                           159.990            2.000               209.980       86     668"
      ]
     },
     "execution_count": 14,
     "metadata": {},
     "output_type": "execute_result"
    }
   ],
   "source": [
    "cat_cols, num_cols, cat_but_car, date_cols = grab_col_names(df)\n",
    "df_new = df[num_cols]\n",
    "df_new.head()"
   ]
  },
  {
   "cell_type": "code",
   "execution_count": 15,
   "id": "91f11d84",
   "metadata": {
    "execution": {
     "iopub.execute_input": "2024-10-27T11:40:51.435073Z",
     "iopub.status.busy": "2024-10-27T11:40:51.434641Z",
     "iopub.status.idle": "2024-10-27T11:40:51.449246Z",
     "shell.execute_reply": "2024-10-27T11:40:51.448116Z"
    },
    "papermill": {
     "duration": 0.028804,
     "end_time": "2024-10-27T11:40:51.451478",
     "exception": false,
     "start_time": "2024-10-27T11:40:51.422674",
     "status": "completed"
    },
    "tags": []
   },
   "outputs": [
    {
     "data": {
      "text/plain": [
       "array([[0.06315789, 0.        , 0.04318774, 0.10099337, 0.06      ,\n",
       "        0.10163593, 0.25479452, 0.06841244],\n",
       "       [0.37894737, 0.06666667, 0.04982587, 0.23638065, 0.38      ,\n",
       "        0.22370269, 0.28219178, 0.51358429],\n",
       "       [0.04210526, 0.06666667, 0.05979304, 0.04910518, 0.06      ,\n",
       "        0.0614027 , 0.50410959, 0.17905074],\n",
       "       [0.        , 0.        , 0.00996385, 0.00886015, 0.        ,\n",
       "        0.00874892, 0.36438356, 0.04615385],\n",
       "       [0.        , 0.        , 0.01328624, 0.01887871, 0.        ,\n",
       "        0.01875013, 0.23013699, 0.21702128]])"
      ]
     },
     "execution_count": 15,
     "metadata": {},
     "output_type": "execute_result"
    }
   ],
   "source": [
    "sc = MinMaxScaler((0, 1))\n",
    "df_new = sc.fit_transform(df_new)\n",
    "df_new[0:5]"
   ]
  },
  {
   "cell_type": "code",
   "execution_count": 16,
   "id": "775bd7b9",
   "metadata": {
    "execution": {
     "iopub.execute_input": "2024-10-27T11:40:51.475813Z",
     "iopub.status.busy": "2024-10-27T11:40:51.474374Z",
     "iopub.status.idle": "2024-10-27T11:41:21.970719Z",
     "shell.execute_reply": "2024-10-27T11:41:21.969594Z"
    },
    "papermill": {
     "duration": 30.525206,
     "end_time": "2024-10-27T11:41:21.987441",
     "exception": false,
     "start_time": "2024-10-27T11:40:51.462235",
     "status": "completed"
    },
    "tags": []
   },
   "outputs": [
    {
     "data": {
      "image/png": "[encoded data removed]",
      "text/plain": [
       "<Figure size 1200x1200 with 2 Axes>"
      ]
     },
     "metadata": {},
     "output_type": "display_data"
    },
    {
     "data": {
      "text/plain": [
       "<Axes: title={'center': 'Distortion Score Elbow for KMeans Clustering'}, xlabel='k', ylabel='distortion score'>"
      ]
     },
     "execution_count": 16,
     "metadata": {},
     "output_type": "execute_result"
    }
   ],
   "source": [
    "kmeans = KMeans()\n",
    "elbow = KElbowVisualizer(kmeans, k=(2, 20))\n",
    "elbow.fit(df_new)\n",
    "elbow.show()"
   ]
  },
  {
   "cell_type": "code",
   "execution_count": 17,
   "id": "a1f3b2e4",
   "metadata": {
    "execution": {
     "iopub.execute_input": "2024-10-27T11:41:22.015374Z",
     "iopub.status.busy": "2024-10-27T11:41:22.014517Z",
     "iopub.status.idle": "2024-10-27T11:41:22.021445Z",
     "shell.execute_reply": "2024-10-27T11:41:22.020429Z"
    },
    "papermill": {
     "duration": 0.022961,
     "end_time": "2024-10-27T11:41:22.023528",
     "exception": false,
     "start_time": "2024-10-27T11:41:22.000567",
     "status": "completed"
    },
    "tags": []
   },
   "outputs": [
    {
     "data": {
      "text/plain": [
       "7"
      ]
     },
     "execution_count": 17,
     "metadata": {},
     "output_type": "execute_result"
    }
   ],
   "source": [
    "elbow.elbow_value_"
   ]
  },
  {
   "cell_type": "code",
   "execution_count": 18,
   "id": "32cfc7c2",
   "metadata": {
    "execution": {
     "iopub.execute_input": "2024-10-27T11:41:22.051785Z",
     "iopub.status.busy": "2024-10-27T11:41:22.050925Z",
     "iopub.status.idle": "2024-10-27T11:41:23.505531Z",
     "shell.execute_reply": "2024-10-27T11:41:23.504494Z"
    },
    "papermill": {
     "duration": 1.471761,
     "end_time": "2024-10-27T11:41:23.508122",
     "exception": false,
     "start_time": "2024-10-27T11:41:22.036361",
     "status": "completed"
    },
    "tags": []
   },
   "outputs": [],
   "source": [
    "kmeans = KMeans(n_clusters=elbow.elbow_value_).fit(df_new)"
   ]
  },
  {
   "cell_type": "code",
   "execution_count": 19,
   "id": "1b9348a8",
   "metadata": {
    "execution": {
     "iopub.execute_input": "2024-10-27T11:41:23.535964Z",
     "iopub.status.busy": "2024-10-27T11:41:23.535248Z",
     "iopub.status.idle": "2024-10-27T11:41:23.541874Z",
     "shell.execute_reply": "2024-10-27T11:41:23.540963Z"
    },
    "papermill": {
     "duration": 0.022993,
     "end_time": "2024-10-27T11:41:23.544004",
     "exception": false,
     "start_time": "2024-10-27T11:41:23.521011",
     "status": "completed"
    },
    "tags": []
   },
   "outputs": [
    {
     "data": {
      "text/plain": [
       "7"
      ]
     },
     "execution_count": 19,
     "metadata": {},
     "output_type": "execute_result"
    }
   ],
   "source": [
    "kmeans.n_clusters"
   ]
  },
  {
   "cell_type": "code",
   "execution_count": 20,
   "id": "13b99e5a",
   "metadata": {
    "execution": {
     "iopub.execute_input": "2024-10-27T11:41:23.571596Z",
     "iopub.status.busy": "2024-10-27T11:41:23.570916Z",
     "iopub.status.idle": "2024-10-27T11:41:23.578632Z",
     "shell.execute_reply": "2024-10-27T11:41:23.577632Z"
    },
    "papermill": {
     "duration": 0.023917,
     "end_time": "2024-10-27T11:41:23.580736",
     "exception": false,
     "start_time": "2024-10-27T11:41:23.556819",
     "status": "completed"
    },
    "tags": []
   },
   "outputs": [
    {
     "data": {
      "text/plain": [
       "array([[0.03241088, 0.0397599 , 0.06635419, 0.05358333, 0.04271831,\n",
       "        0.06760929, 0.11144581, 0.18334152],\n",
       "       [0.02151595, 0.04401568, 0.06563133, 0.04004746, 0.03364486,\n",
       "        0.05538495, 0.81874775, 0.22281201],\n",
       "       [0.07273664, 0.05968689, 0.07983527, 0.06862145, 0.08700587,\n",
       "        0.08552664, 0.71837118, 0.63245714],\n",
       "       [0.38083974, 0.07815231, 0.08826669, 0.39905826, 0.38632959,\n",
       "        0.38276389, 0.21721307, 0.46875939],\n",
       "       [0.02399145, 0.04099589, 0.06586808, 0.04367334, 0.03509065,\n",
       "        0.05867425, 0.43236264, 0.20377275],\n",
       "       [0.04465652, 0.30514662, 0.28296082, 0.06628139, 0.14066427,\n",
       "        0.15557887, 0.19826123, 0.25176051],\n",
       "       [0.08346749, 0.05905421, 0.07878213, 0.07983619, 0.09701038,\n",
       "        0.09508969, 0.19828222, 0.60602586]])"
      ]
     },
     "execution_count": 20,
     "metadata": {},
     "output_type": "execute_result"
    }
   ],
   "source": [
    "kmeans.cluster_centers_"
   ]
  },
  {
   "cell_type": "code",
   "execution_count": 21,
   "id": "bb85446f",
   "metadata": {
    "execution": {
     "iopub.execute_input": "2024-10-27T11:41:23.608807Z",
     "iopub.status.busy": "2024-10-27T11:41:23.607963Z",
     "iopub.status.idle": "2024-10-27T11:41:23.615293Z",
     "shell.execute_reply": "2024-10-27T11:41:23.614057Z"
    },
    "papermill": {
     "duration": 0.023754,
     "end_time": "2024-10-27T11:41:23.617487",
     "exception": false,
     "start_time": "2024-10-27T11:41:23.593733",
     "status": "completed"
    },
    "tags": []
   },
   "outputs": [
    {
     "data": {
      "text/plain": [
       "array([0, 3, 4, ..., 0, 5, 1], dtype=int32)"
      ]
     },
     "execution_count": 21,
     "metadata": {},
     "output_type": "execute_result"
    }
   ],
   "source": [
    "kmeans.labels_"
   ]
  },
  {
   "cell_type": "code",
   "execution_count": 22,
   "id": "616417ed",
   "metadata": {
    "execution": {
     "iopub.execute_input": "2024-10-27T11:41:23.645949Z",
     "iopub.status.busy": "2024-10-27T11:41:23.644964Z",
     "iopub.status.idle": "2024-10-27T11:41:23.650043Z",
     "shell.execute_reply": "2024-10-27T11:41:23.648909Z"
    },
    "papermill": {
     "duration": 0.021749,
     "end_time": "2024-10-27T11:41:23.652269",
     "exception": false,
     "start_time": "2024-10-27T11:41:23.630520",
     "status": "completed"
    },
    "tags": []
   },
   "outputs": [],
   "source": [
    "clusters_kmeans = kmeans.labels_"
   ]
  },
  {
   "cell_type": "code",
   "execution_count": 23,
   "id": "48d77e5d",
   "metadata": {
    "execution": {
     "iopub.execute_input": "2024-10-27T11:41:23.681105Z",
     "iopub.status.busy": "2024-10-27T11:41:23.680173Z",
     "iopub.status.idle": "2024-10-27T11:41:23.685738Z",
     "shell.execute_reply": "2024-10-27T11:41:23.684657Z"
    },
    "papermill": {
     "duration": 0.022386,
     "end_time": "2024-10-27T11:41:23.688278",
     "exception": false,
     "start_time": "2024-10-27T11:41:23.665892",
     "status": "completed"
    },
    "tags": []
   },
   "outputs": [],
   "source": [
    "df_new = pd.DataFrame(df_new, columns=num_cols)"
   ]
  },
  {
   "cell_type": "code",
   "execution_count": 24,
   "id": "654feaae",
   "metadata": {
    "execution": {
     "iopub.execute_input": "2024-10-27T11:41:23.722156Z",
     "iopub.status.busy": "2024-10-27T11:41:23.721190Z",
     "iopub.status.idle": "2024-10-27T11:41:23.727173Z",
     "shell.execute_reply": "2024-10-27T11:41:23.726093Z"
    },
    "papermill": {
     "duration": 0.028169,
     "end_time": "2024-10-27T11:41:23.729661",
     "exception": false,
     "start_time": "2024-10-27T11:41:23.701492",
     "status": "completed"
    },
    "tags": []
   },
   "outputs": [],
   "source": [
    "df_new[\"cluster\"] = clusters_kmeans"
   ]
  },
  {
   "cell_type": "code",
   "execution_count": 25,
   "id": "396c29da",
   "metadata": {
    "execution": {
     "iopub.execute_input": "2024-10-27T11:41:23.758504Z",
     "iopub.status.busy": "2024-10-27T11:41:23.757579Z",
     "iopub.status.idle": "2024-10-27T11:41:23.763814Z",
     "shell.execute_reply": "2024-10-27T11:41:23.762823Z"
    },
    "papermill": {
     "duration": 0.022876,
     "end_time": "2024-10-27T11:41:23.766011",
     "exception": false,
     "start_time": "2024-10-27T11:41:23.743135",
     "status": "completed"
    },
    "tags": []
   },
   "outputs": [],
   "source": [
    "df_new[\"cluster\"] = df_new[\"cluster\"] + 1"
   ]
  },
  {
   "cell_type": "code",
   "execution_count": 26,
   "id": "c5eed738",
   "metadata": {
    "execution": {
     "iopub.execute_input": "2024-10-27T11:41:23.794164Z",
     "iopub.status.busy": "2024-10-27T11:41:23.793272Z",
     "iopub.status.idle": "2024-10-27T11:41:23.808563Z",
     "shell.execute_reply": "2024-10-27T11:41:23.807347Z"
    },
    "papermill": {
     "duration": 0.032366,
     "end_time": "2024-10-27T11:41:23.811324",
     "exception": false,
     "start_time": "2024-10-27T11:41:23.778958",
     "status": "completed"
    },
    "tags": []
   },
   "outputs": [
    {
     "data": {
      "text/html": [
       "<div>\n",
       "<style scoped>\n",
       "    .dataframe tbody tr th:only-of-type {\n",
       "        vertical-align: middle;\n",
       "    }\n",
       "\n",
       "    .dataframe tbody tr th {\n",
       "        vertical-align: top;\n",
       "    }\n",
       "\n",
       "    .dataframe thead th {\n",
       "        text-align: right;\n",
       "    }\n",
       "</style>\n",
       "<table border=\"1\" class=\"dataframe\">\n",
       "  <thead>\n",
       "    <tr style=\"text-align: right;\">\n",
       "      <th></th>\n",
       "      <th>order_num_total_ever_online</th>\n",
       "      <th>order_num_total_ever_offline</th>\n",
       "      <th>customer_value_total_ever_offline</th>\n",
       "      <th>customer_value_total_ever_online</th>\n",
       "      <th>order_num_total</th>\n",
       "      <th>customer_value_total</th>\n",
       "      <th>recency</th>\n",
       "      <th>tenure</th>\n",
       "      <th>cluster</th>\n",
       "    </tr>\n",
       "  </thead>\n",
       "  <tbody>\n",
       "    <tr>\n",
       "      <th>0</th>\n",
       "      <td>0.063</td>\n",
       "      <td>0.000</td>\n",
       "      <td>0.043</td>\n",
       "      <td>0.101</td>\n",
       "      <td>0.060</td>\n",
       "      <td>0.102</td>\n",
       "      <td>0.255</td>\n",
       "      <td>0.068</td>\n",
       "      <td>1</td>\n",
       "    </tr>\n",
       "    <tr>\n",
       "      <th>1</th>\n",
       "      <td>0.379</td>\n",
       "      <td>0.067</td>\n",
       "      <td>0.050</td>\n",
       "      <td>0.236</td>\n",
       "      <td>0.380</td>\n",
       "      <td>0.224</td>\n",
       "      <td>0.282</td>\n",
       "      <td>0.514</td>\n",
       "      <td>4</td>\n",
       "    </tr>\n",
       "    <tr>\n",
       "      <th>2</th>\n",
       "      <td>0.042</td>\n",
       "      <td>0.067</td>\n",
       "      <td>0.060</td>\n",
       "      <td>0.049</td>\n",
       "      <td>0.060</td>\n",
       "      <td>0.061</td>\n",
       "      <td>0.504</td>\n",
       "      <td>0.179</td>\n",
       "      <td>5</td>\n",
       "    </tr>\n",
       "    <tr>\n",
       "      <th>3</th>\n",
       "      <td>0.000</td>\n",
       "      <td>0.000</td>\n",
       "      <td>0.010</td>\n",
       "      <td>0.009</td>\n",
       "      <td>0.000</td>\n",
       "      <td>0.009</td>\n",
       "      <td>0.364</td>\n",
       "      <td>0.046</td>\n",
       "      <td>5</td>\n",
       "    </tr>\n",
       "    <tr>\n",
       "      <th>4</th>\n",
       "      <td>0.000</td>\n",
       "      <td>0.000</td>\n",
       "      <td>0.013</td>\n",
       "      <td>0.019</td>\n",
       "      <td>0.000</td>\n",
       "      <td>0.019</td>\n",
       "      <td>0.230</td>\n",
       "      <td>0.217</td>\n",
       "      <td>1</td>\n",
       "    </tr>\n",
       "  </tbody>\n",
       "</table>\n",
       "</div>"
      ],
      "text/plain": [
       "   order_num_total_ever_online  order_num_total_ever_offline  customer_value_total_ever_offline  customer_value_total_ever_online  order_num_total  customer_value_total  recency  tenure  cluster\n",
       "0                        0.063                         0.000                              0.043                             0.101            0.060                 0.102    0.255   0.068        1\n",
       "1                        0.379                         0.067                              0.050                             0.236            0.380                 0.224    0.282   0.514        4\n",
       "2                        0.042                         0.067                              0.060                             0.049            0.060                 0.061    0.504   0.179        5\n",
       "3                        0.000                         0.000                              0.010                             0.009            0.000                 0.009    0.364   0.046        5\n",
       "4                        0.000                         0.000                              0.013                             0.019            0.000                 0.019    0.230   0.217        1"
      ]
     },
     "execution_count": 26,
     "metadata": {},
     "output_type": "execute_result"
    }
   ],
   "source": [
    "df_new.head()"
   ]
  },
  {
   "cell_type": "code",
   "execution_count": 27,
   "id": "88dc4946",
   "metadata": {
    "execution": {
     "iopub.execute_input": "2024-10-27T11:41:23.849016Z",
     "iopub.status.busy": "2024-10-27T11:41:23.847918Z",
     "iopub.status.idle": "2024-10-27T11:41:23.921923Z",
     "shell.execute_reply": "2024-10-27T11:41:23.920793Z"
    },
    "papermill": {
     "duration": 0.09713,
     "end_time": "2024-10-27T11:41:23.924347",
     "exception": false,
     "start_time": "2024-10-27T11:41:23.827217",
     "status": "completed"
    },
    "tags": []
   },
   "outputs": [
    {
     "data": {
      "text/html": [
       "<div>\n",
       "<style scoped>\n",
       "    .dataframe tbody tr th:only-of-type {\n",
       "        vertical-align: middle;\n",
       "    }\n",
       "\n",
       "    .dataframe tbody tr th {\n",
       "        vertical-align: top;\n",
       "    }\n",
       "\n",
       "    .dataframe thead tr th {\n",
       "        text-align: left;\n",
       "    }\n",
       "\n",
       "    .dataframe thead tr:last-of-type th {\n",
       "        text-align: right;\n",
       "    }\n",
       "</style>\n",
       "<table border=\"1\" class=\"dataframe\">\n",
       "  <thead>\n",
       "    <tr>\n",
       "      <th></th>\n",
       "      <th colspan=\"5\" halign=\"left\">order_num_total_ever_online</th>\n",
       "      <th colspan=\"5\" halign=\"left\">order_num_total_ever_offline</th>\n",
       "      <th colspan=\"5\" halign=\"left\">customer_value_total_ever_offline</th>\n",
       "      <th colspan=\"5\" halign=\"left\">customer_value_total_ever_online</th>\n",
       "      <th colspan=\"5\" halign=\"left\">order_num_total</th>\n",
       "      <th colspan=\"5\" halign=\"left\">customer_value_total</th>\n",
       "      <th colspan=\"5\" halign=\"left\">recency</th>\n",
       "      <th colspan=\"5\" halign=\"left\">tenure</th>\n",
       "    </tr>\n",
       "    <tr>\n",
       "      <th></th>\n",
       "      <th>min</th>\n",
       "      <th>max</th>\n",
       "      <th>mean</th>\n",
       "      <th>median</th>\n",
       "      <th>count</th>\n",
       "      <th>min</th>\n",
       "      <th>max</th>\n",
       "      <th>mean</th>\n",
       "      <th>median</th>\n",
       "      <th>count</th>\n",
       "      <th>min</th>\n",
       "      <th>max</th>\n",
       "      <th>mean</th>\n",
       "      <th>median</th>\n",
       "      <th>count</th>\n",
       "      <th>min</th>\n",
       "      <th>max</th>\n",
       "      <th>mean</th>\n",
       "      <th>median</th>\n",
       "      <th>count</th>\n",
       "      <th>min</th>\n",
       "      <th>max</th>\n",
       "      <th>mean</th>\n",
       "      <th>median</th>\n",
       "      <th>count</th>\n",
       "      <th>min</th>\n",
       "      <th>max</th>\n",
       "      <th>mean</th>\n",
       "      <th>median</th>\n",
       "      <th>count</th>\n",
       "      <th>min</th>\n",
       "      <th>max</th>\n",
       "      <th>mean</th>\n",
       "      <th>median</th>\n",
       "      <th>count</th>\n",
       "      <th>min</th>\n",
       "      <th>max</th>\n",
       "      <th>mean</th>\n",
       "      <th>median</th>\n",
       "      <th>count</th>\n",
       "    </tr>\n",
       "    <tr>\n",
       "      <th>cluster</th>\n",
       "      <th></th>\n",
       "      <th></th>\n",
       "      <th></th>\n",
       "      <th></th>\n",
       "      <th></th>\n",
       "      <th></th>\n",
       "      <th></th>\n",
       "      <th></th>\n",
       "      <th></th>\n",
       "      <th></th>\n",
       "      <th></th>\n",
       "      <th></th>\n",
       "      <th></th>\n",
       "      <th></th>\n",
       "      <th></th>\n",
       "      <th></th>\n",
       "      <th></th>\n",
       "      <th></th>\n",
       "      <th></th>\n",
       "      <th></th>\n",
       "      <th></th>\n",
       "      <th></th>\n",
       "      <th></th>\n",
       "      <th></th>\n",
       "      <th></th>\n",
       "      <th></th>\n",
       "      <th></th>\n",
       "      <th></th>\n",
       "      <th></th>\n",
       "      <th></th>\n",
       "      <th></th>\n",
       "      <th></th>\n",
       "      <th></th>\n",
       "      <th></th>\n",
       "      <th></th>\n",
       "      <th></th>\n",
       "      <th></th>\n",
       "      <th></th>\n",
       "      <th></th>\n",
       "      <th></th>\n",
       "    </tr>\n",
       "  </thead>\n",
       "  <tbody>\n",
       "    <tr>\n",
       "      <th>1</th>\n",
       "      <td>0.000</td>\n",
       "      <td>0.358</td>\n",
       "      <td>0.032</td>\n",
       "      <td>0.021</td>\n",
       "      <td>6998</td>\n",
       "      <td>0.000</td>\n",
       "      <td>0.267</td>\n",
       "      <td>0.040</td>\n",
       "      <td>0.000</td>\n",
       "      <td>6998</td>\n",
       "      <td>0.001</td>\n",
       "      <td>0.464</td>\n",
       "      <td>0.066</td>\n",
       "      <td>0.053</td>\n",
       "      <td>6998</td>\n",
       "      <td>0.000</td>\n",
       "      <td>0.457</td>\n",
       "      <td>0.054</td>\n",
       "      <td>0.036</td>\n",
       "      <td>6998</td>\n",
       "      <td>0.000</td>\n",
       "      <td>0.340</td>\n",
       "      <td>0.043</td>\n",
       "      <td>0.040</td>\n",
       "      <td>6998</td>\n",
       "      <td>0.001</td>\n",
       "      <td>0.436</td>\n",
       "      <td>0.068</td>\n",
       "      <td>0.055</td>\n",
       "      <td>6998</td>\n",
       "      <td>0.000</td>\n",
       "      <td>0.282</td>\n",
       "      <td>0.111</td>\n",
       "      <td>0.093</td>\n",
       "      <td>6998</td>\n",
       "      <td>0.000</td>\n",
       "      <td>0.441</td>\n",
       "      <td>0.183</td>\n",
       "      <td>0.189</td>\n",
       "      <td>6998</td>\n",
       "    </tr>\n",
       "    <tr>\n",
       "      <th>2</th>\n",
       "      <td>0.000</td>\n",
       "      <td>0.358</td>\n",
       "      <td>0.022</td>\n",
       "      <td>0.000</td>\n",
       "      <td>3316</td>\n",
       "      <td>0.000</td>\n",
       "      <td>0.733</td>\n",
       "      <td>0.044</td>\n",
       "      <td>0.000</td>\n",
       "      <td>3316</td>\n",
       "      <td>0.000</td>\n",
       "      <td>0.568</td>\n",
       "      <td>0.066</td>\n",
       "      <td>0.047</td>\n",
       "      <td>3316</td>\n",
       "      <td>0.000</td>\n",
       "      <td>0.452</td>\n",
       "      <td>0.040</td>\n",
       "      <td>0.027</td>\n",
       "      <td>3316</td>\n",
       "      <td>0.000</td>\n",
       "      <td>0.340</td>\n",
       "      <td>0.034</td>\n",
       "      <td>0.020</td>\n",
       "      <td>3316</td>\n",
       "      <td>0.000</td>\n",
       "      <td>0.406</td>\n",
       "      <td>0.055</td>\n",
       "      <td>0.045</td>\n",
       "      <td>3316</td>\n",
       "      <td>0.622</td>\n",
       "      <td>1.000</td>\n",
       "      <td>0.819</td>\n",
       "      <td>0.841</td>\n",
       "      <td>3316</td>\n",
       "      <td>0.077</td>\n",
       "      <td>0.490</td>\n",
       "      <td>0.223</td>\n",
       "      <td>0.209</td>\n",
       "      <td>3316</td>\n",
       "    </tr>\n",
       "    <tr>\n",
       "      <th>3</th>\n",
       "      <td>0.000</td>\n",
       "      <td>0.505</td>\n",
       "      <td>0.073</td>\n",
       "      <td>0.042</td>\n",
       "      <td>1023</td>\n",
       "      <td>0.000</td>\n",
       "      <td>0.667</td>\n",
       "      <td>0.060</td>\n",
       "      <td>0.000</td>\n",
       "      <td>1023</td>\n",
       "      <td>0.001</td>\n",
       "      <td>0.613</td>\n",
       "      <td>0.080</td>\n",
       "      <td>0.056</td>\n",
       "      <td>1023</td>\n",
       "      <td>0.000</td>\n",
       "      <td>0.430</td>\n",
       "      <td>0.069</td>\n",
       "      <td>0.046</td>\n",
       "      <td>1023</td>\n",
       "      <td>0.000</td>\n",
       "      <td>0.500</td>\n",
       "      <td>0.087</td>\n",
       "      <td>0.060</td>\n",
       "      <td>1023</td>\n",
       "      <td>0.005</td>\n",
       "      <td>0.403</td>\n",
       "      <td>0.086</td>\n",
       "      <td>0.069</td>\n",
       "      <td>1023</td>\n",
       "      <td>0.447</td>\n",
       "      <td>1.000</td>\n",
       "      <td>0.719</td>\n",
       "      <td>0.704</td>\n",
       "      <td>1023</td>\n",
       "      <td>0.355</td>\n",
       "      <td>0.996</td>\n",
       "      <td>0.632</td>\n",
       "      <td>0.613</td>\n",
       "      <td>1023</td>\n",
       "    </tr>\n",
       "    <tr>\n",
       "      <th>4</th>\n",
       "      <td>0.042</td>\n",
       "      <td>1.000</td>\n",
       "      <td>0.381</td>\n",
       "      <td>0.337</td>\n",
       "      <td>534</td>\n",
       "      <td>0.000</td>\n",
       "      <td>1.000</td>\n",
       "      <td>0.078</td>\n",
       "      <td>0.067</td>\n",
       "      <td>534</td>\n",
       "      <td>0.001</td>\n",
       "      <td>1.000</td>\n",
       "      <td>0.088</td>\n",
       "      <td>0.060</td>\n",
       "      <td>534</td>\n",
       "      <td>0.115</td>\n",
       "      <td>1.000</td>\n",
       "      <td>0.399</td>\n",
       "      <td>0.349</td>\n",
       "      <td>534</td>\n",
       "      <td>0.040</td>\n",
       "      <td>1.000</td>\n",
       "      <td>0.386</td>\n",
       "      <td>0.340</td>\n",
       "      <td>534</td>\n",
       "      <td>0.141</td>\n",
       "      <td>1.000</td>\n",
       "      <td>0.383</td>\n",
       "      <td>0.334</td>\n",
       "      <td>534</td>\n",
       "      <td>0.000</td>\n",
       "      <td>0.940</td>\n",
       "      <td>0.217</td>\n",
       "      <td>0.153</td>\n",
       "      <td>534</td>\n",
       "      <td>0.028</td>\n",
       "      <td>1.000</td>\n",
       "      <td>0.469</td>\n",
       "      <td>0.453</td>\n",
       "      <td>534</td>\n",
       "    </tr>\n",
       "    <tr>\n",
       "      <th>5</th>\n",
       "      <td>0.000</td>\n",
       "      <td>0.358</td>\n",
       "      <td>0.024</td>\n",
       "      <td>0.000</td>\n",
       "      <td>5516</td>\n",
       "      <td>0.000</td>\n",
       "      <td>0.333</td>\n",
       "      <td>0.041</td>\n",
       "      <td>0.000</td>\n",
       "      <td>5516</td>\n",
       "      <td>0.000</td>\n",
       "      <td>0.442</td>\n",
       "      <td>0.066</td>\n",
       "      <td>0.050</td>\n",
       "      <td>5516</td>\n",
       "      <td>0.001</td>\n",
       "      <td>0.383</td>\n",
       "      <td>0.044</td>\n",
       "      <td>0.029</td>\n",
       "      <td>5516</td>\n",
       "      <td>0.000</td>\n",
       "      <td>0.340</td>\n",
       "      <td>0.035</td>\n",
       "      <td>0.020</td>\n",
       "      <td>5516</td>\n",
       "      <td>0.001</td>\n",
       "      <td>0.363</td>\n",
       "      <td>0.059</td>\n",
       "      <td>0.048</td>\n",
       "      <td>5516</td>\n",
       "      <td>0.263</td>\n",
       "      <td>0.630</td>\n",
       "      <td>0.432</td>\n",
       "      <td>0.433</td>\n",
       "      <td>5516</td>\n",
       "      <td>0.033</td>\n",
       "      <td>0.502</td>\n",
       "      <td>0.204</td>\n",
       "      <td>0.201</td>\n",
       "      <td>5516</td>\n",
       "    </tr>\n",
       "    <tr>\n",
       "      <th>6</th>\n",
       "      <td>0.000</td>\n",
       "      <td>0.337</td>\n",
       "      <td>0.045</td>\n",
       "      <td>0.021</td>\n",
       "      <td>1115</td>\n",
       "      <td>0.000</td>\n",
       "      <td>1.000</td>\n",
       "      <td>0.305</td>\n",
       "      <td>0.267</td>\n",
       "      <td>1115</td>\n",
       "      <td>0.027</td>\n",
       "      <td>1.000</td>\n",
       "      <td>0.283</td>\n",
       "      <td>0.240</td>\n",
       "      <td>1115</td>\n",
       "      <td>0.000</td>\n",
       "      <td>0.445</td>\n",
       "      <td>0.066</td>\n",
       "      <td>0.045</td>\n",
       "      <td>1115</td>\n",
       "      <td>0.020</td>\n",
       "      <td>1.000</td>\n",
       "      <td>0.141</td>\n",
       "      <td>0.120</td>\n",
       "      <td>1115</td>\n",
       "      <td>0.033</td>\n",
       "      <td>1.000</td>\n",
       "      <td>0.156</td>\n",
       "      <td>0.134</td>\n",
       "      <td>1115</td>\n",
       "      <td>0.000</td>\n",
       "      <td>0.915</td>\n",
       "      <td>0.198</td>\n",
       "      <td>0.178</td>\n",
       "      <td>1115</td>\n",
       "      <td>0.016</td>\n",
       "      <td>0.909</td>\n",
       "      <td>0.252</td>\n",
       "      <td>0.249</td>\n",
       "      <td>1115</td>\n",
       "    </tr>\n",
       "    <tr>\n",
       "      <th>7</th>\n",
       "      <td>0.000</td>\n",
       "      <td>0.316</td>\n",
       "      <td>0.083</td>\n",
       "      <td>0.063</td>\n",
       "      <td>1443</td>\n",
       "      <td>0.000</td>\n",
       "      <td>0.533</td>\n",
       "      <td>0.059</td>\n",
       "      <td>0.067</td>\n",
       "      <td>1443</td>\n",
       "      <td>0.001</td>\n",
       "      <td>0.468</td>\n",
       "      <td>0.079</td>\n",
       "      <td>0.063</td>\n",
       "      <td>1443</td>\n",
       "      <td>0.001</td>\n",
       "      <td>0.364</td>\n",
       "      <td>0.080</td>\n",
       "      <td>0.063</td>\n",
       "      <td>1443</td>\n",
       "      <td>0.000</td>\n",
       "      <td>0.320</td>\n",
       "      <td>0.097</td>\n",
       "      <td>0.080</td>\n",
       "      <td>1443</td>\n",
       "      <td>0.000</td>\n",
       "      <td>0.384</td>\n",
       "      <td>0.095</td>\n",
       "      <td>0.084</td>\n",
       "      <td>1443</td>\n",
       "      <td>0.000</td>\n",
       "      <td>0.463</td>\n",
       "      <td>0.199</td>\n",
       "      <td>0.200</td>\n",
       "      <td>1443</td>\n",
       "      <td>0.344</td>\n",
       "      <td>0.998</td>\n",
       "      <td>0.606</td>\n",
       "      <td>0.584</td>\n",
       "      <td>1443</td>\n",
       "    </tr>\n",
       "  </tbody>\n",
       "</table>\n",
       "</div>"
      ],
      "text/plain": [
       "        order_num_total_ever_online                          order_num_total_ever_offline                          customer_value_total_ever_offline                          customer_value_total_ever_online                          order_num_total                          customer_value_total                          recency                          tenure                         \n",
       "                                min   max  mean median count                          min   max  mean median count                               min   max  mean median count                              min   max  mean median count             min   max  mean median count                  min   max  mean median count     min   max  mean median count    min   max  mean median count\n",
       "cluster                                                                                                                                                                                                                                                                                                                                                                                        \n",
       "1                             0.000 0.358 0.032  0.021  6998                        0.000 0.267 0.040  0.000  6998                             0.001 0.464 0.066  0.053  6998                            0.000 0.457 0.054  0.036  6998           0.000 0.340 0.043  0.040  6998                0.001 0.436 0.068  0.055  6998   0.000 0.282 0.111  0.093  6998  0.000 0.441 0.183  0.189  6998\n",
       "2                             0.000 0.358 0.022  0.000  3316                        0.000 0.733 0.044  0.000  3316                             0.000 0.568 0.066  0.047  3316                            0.000 0.452 0.040  0.027  3316           0.000 0.340 0.034  0.020  3316                0.000 0.406 0.055  0.045  3316   0.622 1.000 0.819  0.841  3316  0.077 0.490 0.223  0.209  3316\n",
       "3                             0.000 0.505 0.073  0.042  1023                        0.000 0.667 0.060  0.000  1023                             0.001 0.613 0.080  0.056  1023                            0.000 0.430 0.069  0.046  1023           0.000 0.500 0.087  0.060  1023                0.005 0.403 0.086  0.069  1023   0.447 1.000 0.719  0.704  1023  0.355 0.996 0.632  0.613  1023\n",
       "4                             0.042 1.000 0.381  0.337   534                        0.000 1.000 0.078  0.067   534                             0.001 1.000 0.088  0.060   534                            0.115 1.000 0.399  0.349   534           0.040 1.000 0.386  0.340   534                0.141 1.000 0.383  0.334   534   0.000 0.940 0.217  0.153   534  0.028 1.000 0.469  0.453   534\n",
       "5                             0.000 0.358 0.024  0.000  5516                        0.000 0.333 0.041  0.000  5516                             0.000 0.442 0.066  0.050  5516                            0.001 0.383 0.044  0.029  5516           0.000 0.340 0.035  0.020  5516                0.001 0.363 0.059  0.048  5516   0.263 0.630 0.432  0.433  5516  0.033 0.502 0.204  0.201  5516\n",
       "6                             0.000 0.337 0.045  0.021  1115                        0.000 1.000 0.305  0.267  1115                             0.027 1.000 0.283  0.240  1115                            0.000 0.445 0.066  0.045  1115           0.020 1.000 0.141  0.120  1115                0.033 1.000 0.156  0.134  1115   0.000 0.915 0.198  0.178  1115  0.016 0.909 0.252  0.249  1115\n",
       "7                             0.000 0.316 0.083  0.063  1443                        0.000 0.533 0.059  0.067  1443                             0.001 0.468 0.079  0.063  1443                            0.001 0.364 0.080  0.063  1443           0.000 0.320 0.097  0.080  1443                0.000 0.384 0.095  0.084  1443   0.000 0.463 0.199  0.200  1443  0.344 0.998 0.606  0.584  1443"
      ]
     },
     "execution_count": 27,
     "metadata": {},
     "output_type": "execute_result"
    }
   ],
   "source": [
    "df_new.groupby(\"cluster\").agg({\"mean\",\"median\", \"min\", \"max\",\"count\"})"
   ]
  },
  {
   "cell_type": "markdown",
   "id": "5100b6dd",
   "metadata": {
    "papermill": {
     "duration": 0.013396,
     "end_time": "2024-10-27T11:41:23.951707",
     "exception": false,
     "start_time": "2024-10-27T11:41:23.938311",
     "status": "completed"
    },
    "tags": []
   },
   "source": [
    "*** Cluster 7 has highest max/mean values for 'customer_value_total',  relatively recent engagement 'recency' and 'highest order_num_total'. Cluster 7 fits the definition of Champions better than other clusters.**\n",
    "\n",
    "*** Cluster 4 and 5 could represent Loyal Customers / Potential Loyalists due to its high tenure but not the most recent engagement.**\n",
    "\n",
    "*** Cluster 6 could represent \"About to Sleep\" or \"Hibernating\" as they have  low customer_value_total mean and max, low order_num_total.**\n",
    "\n",
    "*** Cluster 1 could represent 'Promising' as they have moderate values in customer_value_total and order_num_total with decent recency.**\n",
    "\n",
    "*** Cluster 2 and 3 could represent 'At-Risk Customers'. These customers may have made significant purchases in the past but haven’t engaged recently. They could be a focus for win-back campaigns to prevent churn.**\n",
    "\n",
    "\n",
    "**Targeted Strategies:**\n",
    "**High-Value Clusters: Consider retention strategies, loyalty programs, or exclusive offers.**\n",
    "\n",
    "**Frequent Buyers: Clusters where order_num_total strongly correlates with customer_value_total might respond well to volume-based discounts or subscription models.**\n",
    "\n",
    "**New or Low Tenure Customers: For clusters with low tenure but high potential (e.g., Cluster 6), we should consider engagement strategies to increase their customer lifetime value.**\n"
   ]
  },
  {
   "cell_type": "code",
   "execution_count": 28,
   "id": "a1ea07c4",
   "metadata": {
    "execution": {
     "iopub.execute_input": "2024-10-27T11:41:23.981453Z",
     "iopub.status.busy": "2024-10-27T11:41:23.981019Z",
     "iopub.status.idle": "2024-10-27T11:41:24.029115Z",
     "shell.execute_reply": "2024-10-27T11:41:24.028069Z"
    },
    "papermill": {
     "duration": 0.06739,
     "end_time": "2024-10-27T11:41:24.032609",
     "exception": false,
     "start_time": "2024-10-27T11:41:23.965219",
     "status": "completed"
    },
    "tags": []
   },
   "outputs": [
    {
     "name": "stdout",
     "output_type": "stream",
     "text": [
      "Normality tests for Cluster 1:\n",
      "order_num_total_ever_online - Shapiro-Wilk p-value: 1.4082417160375743e-73\n",
      "order_num_total_ever_offline - Shapiro-Wilk p-value: 2.5013600347090256e-75\n",
      "customer_value_total_ever_offline - Shapiro-Wilk p-value: 1.1430259551300964e-58\n",
      "customer_value_total_ever_online - Shapiro-Wilk p-value: 2.0492769621192576e-69\n",
      "order_num_total - Shapiro-Wilk p-value: 5.827698785593597e-65\n",
      "customer_value_total - Shapiro-Wilk p-value: 8.550137189871038e-62\n",
      "recency - Shapiro-Wilk p-value: 1.7997527337000267e-47\n",
      "tenure - Shapiro-Wilk p-value: 1.4461754830699596e-28\n",
      "\n",
      "\n",
      "Normality tests for Cluster 4:\n",
      "order_num_total_ever_online - Shapiro-Wilk p-value: 4.792803653964101e-22\n",
      "order_num_total_ever_offline - Shapiro-Wilk p-value: 1.12333048698512e-30\n",
      "customer_value_total_ever_offline - Shapiro-Wilk p-value: 1.2196838766142699e-29\n",
      "customer_value_total_ever_online - Shapiro-Wilk p-value: 9.09588448824861e-22\n",
      "order_num_total - Shapiro-Wilk p-value: 5.113723918836894e-22\n",
      "customer_value_total - Shapiro-Wilk p-value: 8.979953033376728e-23\n",
      "recency - Shapiro-Wilk p-value: 2.592055962841709e-19\n",
      "tenure - Shapiro-Wilk p-value: 3.1974331704361697e-10\n",
      "\n",
      "\n",
      "Normality tests for Cluster 5:\n",
      "order_num_total_ever_online - Shapiro-Wilk p-value: 5.275575012289003e-72\n",
      "order_num_total_ever_offline - Shapiro-Wilk p-value: 5.448262084600085e-71\n",
      "customer_value_total_ever_offline - Shapiro-Wilk p-value: 1.5256246696695619e-56\n",
      "customer_value_total_ever_online - Shapiro-Wilk p-value: 1.2053440731715539e-67\n",
      "order_num_total - Shapiro-Wilk p-value: 7.671024189973286e-62\n",
      "customer_value_total - Shapiro-Wilk p-value: 1.1316178992695128e-58\n",
      "recency - Shapiro-Wilk p-value: 1.0032401236815509e-38\n",
      "tenure - Shapiro-Wilk p-value: 1.2522482198576467e-29\n",
      "\n",
      "\n",
      "Normality tests for Cluster 2:\n",
      "order_num_total_ever_online - Shapiro-Wilk p-value: 1.3407169200940865e-63\n",
      "order_num_total_ever_offline - Shapiro-Wilk p-value: 1.0658304578322768e-62\n",
      "customer_value_total_ever_offline - Shapiro-Wilk p-value: 1.8931208564004631e-53\n",
      "customer_value_total_ever_online - Shapiro-Wilk p-value: 1.0545430515442855e-57\n",
      "order_num_total - Shapiro-Wilk p-value: 2.900046956097964e-55\n",
      "customer_value_total - Shapiro-Wilk p-value: 4.940904851069596e-50\n",
      "recency - Shapiro-Wilk p-value: 1.9888702575004008e-36\n",
      "tenure - Shapiro-Wilk p-value: 4.8240395203577866e-31\n",
      "\n",
      "\n",
      "Normality tests for Cluster 7:\n",
      "order_num_total_ever_online - Shapiro-Wilk p-value: 1.3292576616682155e-28\n",
      "order_num_total_ever_offline - Shapiro-Wilk p-value: 1.2613489523173483e-41\n",
      "customer_value_total_ever_offline - Shapiro-Wilk p-value: 1.0304922200440793e-32\n",
      "customer_value_total_ever_online - Shapiro-Wilk p-value: 1.5226371108479614e-28\n",
      "order_num_total - Shapiro-Wilk p-value: 1.980007558395472e-23\n",
      "customer_value_total - Shapiro-Wilk p-value: 3.7982576480403144e-23\n",
      "recency - Shapiro-Wilk p-value: 3.509747487412734e-18\n",
      "tenure - Shapiro-Wilk p-value: 3.453455756290557e-20\n",
      "\n",
      "\n",
      "Normality tests for Cluster 6:\n",
      "order_num_total_ever_online - Shapiro-Wilk p-value: 8.517224643476776e-36\n",
      "order_num_total_ever_offline - Shapiro-Wilk p-value: 4.543447590707449e-35\n",
      "customer_value_total_ever_offline - Shapiro-Wilk p-value: 7.631822926138733e-35\n",
      "customer_value_total_ever_online - Shapiro-Wilk p-value: 4.568370969036264e-33\n",
      "order_num_total - Shapiro-Wilk p-value: 2.012359220390101e-44\n",
      "customer_value_total - Shapiro-Wilk p-value: 1.1357431421322693e-38\n",
      "recency - Shapiro-Wilk p-value: 4.1215961463008265e-23\n",
      "tenure - Shapiro-Wilk p-value: 7.716600420884675e-31\n",
      "\n",
      "\n",
      "Normality tests for Cluster 3:\n",
      "order_num_total_ever_online - Shapiro-Wilk p-value: 6.395887336977405e-32\n",
      "order_num_total_ever_offline - Shapiro-Wilk p-value: 2.0272860185398713e-39\n",
      "customer_value_total_ever_offline - Shapiro-Wilk p-value: 9.516709719253466e-34\n",
      "customer_value_total_ever_online - Shapiro-Wilk p-value: 5.455909201137529e-32\n",
      "order_num_total - Shapiro-Wilk p-value: 4.549042357132772e-28\n",
      "customer_value_total - Shapiro-Wilk p-value: 1.9338568786199398e-28\n",
      "recency - Shapiro-Wilk p-value: 1.1473019655030111e-17\n",
      "tenure - Shapiro-Wilk p-value: 1.4096215410592605e-15\n",
      "\n",
      "\n"
     ]
    },
    {
     "name": "stderr",
     "output_type": "stream",
     "text": [
      "/opt/conda/lib/python3.10/site-packages/scipy/stats/_axis_nan_policy.py:573: UserWarning: scipy.stats.shapiro: For N > 5000, computed p-value may not be accurate. Current N is 6998.\n",
      "  res = hypotest_fun_out(*samples, **kwds)\n",
      "/opt/conda/lib/python3.10/site-packages/scipy/stats/_axis_nan_policy.py:573: UserWarning: scipy.stats.shapiro: For N > 5000, computed p-value may not be accurate. Current N is 5516.\n",
      "  res = hypotest_fun_out(*samples, **kwds)\n"
     ]
    }
   ],
   "source": [
    "#Hypothesis\n",
    "# H0; normality is met\n",
    "# H1: normality isn't met\n",
    "\n",
    "from scipy.stats import shapiro\n",
    "\n",
    "# Specify the numeric columns to be analyzed\n",
    "numeric_columns = df_new.drop([\"cluster\"], axis=1)\n",
    "\n",
    "# Test for normality for each cluster and each numeric column\n",
    "for label in df_new[\"cluster\"].unique():\n",
    "    print(f\"Normality tests for Cluster {label}:\")\n",
    "    cluster_data = df_new[df_new[\"cluster\"] == label]\n",
    "    \n",
    "    for column in numeric_columns:\n",
    "        stat, p = shapiro(cluster_data[column])\n",
    "        print(f\"{column} - Shapiro-Wilk p-value: {p}\")\n",
    "        # If p < 0.05, the normality assumption is not met.\n",
    "    print(\"\\n\")  # Adds spaces to separate each cluster"
   ]
  },
  {
   "cell_type": "markdown",
   "id": "5884680a",
   "metadata": {
    "papermill": {
     "duration": 0.013617,
     "end_time": "2024-10-27T11:41:24.060275",
     "exception": false,
     "start_time": "2024-10-27T11:41:24.046658",
     "status": "completed"
    },
    "tags": []
   },
   "source": [
    "**The results are written with a negative power of 10, so these values are actually very close to zero, well below 0.05\n",
    "1.1171185237531973e-58 means 1.1171185237531973 x 10^(-58), which is very close to zero \n",
    "This refers to a value that is almost zero (too many zeros), such as 0.000...001117**\n",
    "\n",
    "**Since I got this warning \"UserWarning: scipy.stats.shapiro: For N > 5000, computed p-value may not be accurate. Current N is 6998.\" when conducting Shapiro test, I will go ahead and try Kolmogorov-Smirnov normality test to make sure nothing goes unnoticed.**"
   ]
  },
  {
   "cell_type": "code",
   "execution_count": 29,
   "id": "701237b9",
   "metadata": {
    "execution": {
     "iopub.execute_input": "2024-10-27T11:41:24.089981Z",
     "iopub.status.busy": "2024-10-27T11:41:24.089538Z",
     "iopub.status.idle": "2024-10-27T11:41:24.311970Z",
     "shell.execute_reply": "2024-10-27T11:41:24.310861Z"
    },
    "papermill": {
     "duration": 0.240323,
     "end_time": "2024-10-27T11:41:24.314506",
     "exception": false,
     "start_time": "2024-10-27T11:41:24.074183",
     "status": "completed"
    },
    "tags": []
   },
   "outputs": [
    {
     "name": "stdout",
     "output_type": "stream",
     "text": [
      "Kolmogorov-Smirnov normality test for Cluster 1:\n",
      "order_num_total_ever_online K-S test p-value: 0.0\n",
      "order_num_total_ever_offline K-S test p-value: 0.0\n",
      "customer_value_total_ever_offline K-S test p-value: 2.33772872726167e-80\n",
      "customer_value_total_ever_online K-S test p-value: 4.8454928723471716e-163\n",
      "order_num_total K-S test p-value: 2.8345825535589177e-242\n",
      "customer_value_total K-S test p-value: 1.62131196561683e-91\n",
      "recency K-S test p-value: 2.1377079739631682e-66\n",
      "tenure K-S test p-value: 4.021019648115164e-24\n",
      "\n",
      "\n",
      "Kolmogorov-Smirnov normality test for Cluster 4:\n",
      "order_num_total_ever_online K-S test p-value: 6.840568607935771e-10\n",
      "order_num_total_ever_offline K-S test p-value: 5.442999138565393e-29\n",
      "customer_value_total_ever_offline K-S test p-value: 1.2658066984797715e-15\n",
      "customer_value_total_ever_online K-S test p-value: 1.4870849623568274e-10\n",
      "order_num_total K-S test p-value: 3.256984045316293e-11\n",
      "customer_value_total K-S test p-value: 9.634264472058777e-10\n",
      "recency K-S test p-value: 3.690397698855108e-10\n",
      "tenure K-S test p-value: 0.00011542092198075777\n",
      "\n",
      "\n",
      "Kolmogorov-Smirnov normality test for Cluster 5:\n",
      "order_num_total_ever_online K-S test p-value: 0.0\n",
      "order_num_total_ever_offline K-S test p-value: 0.0\n",
      "customer_value_total_ever_offline K-S test p-value: 3.158127581377263e-83\n",
      "customer_value_total_ever_online K-S test p-value: 4.819451527799521e-137\n",
      "order_num_total K-S test p-value: 9.943666939558701e-226\n",
      "customer_value_total K-S test p-value: 2.7068384967699895e-67\n",
      "recency K-S test p-value: 1.2065786868460011e-47\n",
      "tenure K-S test p-value: 9.442252904956904e-22\n",
      "\n",
      "\n",
      "Kolmogorov-Smirnov normality test for Cluster 2:\n",
      "order_num_total_ever_online K-S test p-value: 9.136975169401296e-214\n",
      "order_num_total_ever_offline K-S test p-value: 0.0\n",
      "customer_value_total_ever_offline K-S test p-value: 2.518254614538567e-66\n",
      "customer_value_total_ever_online K-S test p-value: 2.936120729796847e-85\n",
      "order_num_total K-S test p-value: 4.384696497764561e-161\n",
      "customer_value_total K-S test p-value: 2.164734262119352e-48\n",
      "recency K-S test p-value: 2.5905282681587025e-24\n",
      "tenure K-S test p-value: 3.1230674695094714e-24\n",
      "\n",
      "\n",
      "Kolmogorov-Smirnov normality test for Cluster 7:\n",
      "order_num_total_ever_online K-S test p-value: 1.9686820200759784e-27\n",
      "order_num_total_ever_offline K-S test p-value: 3.813876901248883e-97\n",
      "customer_value_total_ever_offline K-S test p-value: 1.831166711152102e-16\n",
      "customer_value_total_ever_online K-S test p-value: 1.0117908642697651e-16\n",
      "order_num_total K-S test p-value: 1.1083440347917704e-19\n",
      "customer_value_total K-S test p-value: 1.4610497275063e-09\n",
      "recency K-S test p-value: 6.679656170072605e-05\n",
      "tenure K-S test p-value: 8.64441373398784e-12\n",
      "\n",
      "\n",
      "Kolmogorov-Smirnov normality test for Cluster 6:\n",
      "order_num_total_ever_online K-S test p-value: 4.065094211836761e-49\n",
      "order_num_total_ever_offline K-S test p-value: 2.5735468492119225e-53\n",
      "customer_value_total_ever_offline K-S test p-value: 2.6509438059749773e-21\n",
      "customer_value_total_ever_online K-S test p-value: 1.4207772971610149e-22\n",
      "order_num_total K-S test p-value: 1.3602498047730558e-41\n",
      "customer_value_total K-S test p-value: 1.1251446238360117e-16\n",
      "recency K-S test p-value: 6.493923735010056e-09\n",
      "tenure K-S test p-value: 2.736551276216248e-42\n",
      "\n",
      "\n",
      "Kolmogorov-Smirnov normality test for Cluster 3:\n",
      "order_num_total_ever_online K-S test p-value: 5.249643126182417e-31\n",
      "order_num_total_ever_offline K-S test p-value: 1.6548152876142884e-68\n",
      "customer_value_total_ever_offline K-S test p-value: 4.307216380946355e-22\n",
      "customer_value_total_ever_online K-S test p-value: 6.681038307831931e-24\n",
      "order_num_total K-S test p-value: 2.0014468305658648e-22\n",
      "customer_value_total K-S test p-value: 4.2180414849222736e-13\n",
      "recency K-S test p-value: 9.462930346301412e-07\n",
      "tenure K-S test p-value: 2.8306126015285822e-09\n",
      "\n",
      "\n"
     ]
    }
   ],
   "source": [
    "#Hypothesis\n",
    "# H0; normality is met\n",
    "# H1: normality isn't met\n",
    "\n",
    "from scipy.stats import kstest\n",
    "\n",
    "# Loop through each cluster and each numeric column\n",
    "for label in df_new[\"cluster\"].unique():\n",
    "    print(f\"Kolmogorov-Smirnov normality test for Cluster {label}:\")\n",
    "    cluster_data = df_new[df_new[\"cluster\"] == label]\n",
    "\n",
    "    for column in numeric_columns:\n",
    "        # Perform K-S test against a normal distribution\n",
    "        stat, p = kstest(cluster_data[column], 'norm', args=(cluster_data[column].mean(), cluster_data[column].std()))\n",
    "        print(f\"{column} K-S test p-value: {p}\")\n",
    "        # p < 0.05 indicates non-normality\n",
    "    print(\"\\n\")"
   ]
  },
  {
   "cell_type": "markdown",
   "id": "b15bf3d5",
   "metadata": {
    "papermill": {
     "duration": 0.014185,
     "end_time": "2024-10-27T11:41:24.343096",
     "exception": false,
     "start_time": "2024-10-27T11:41:24.328911",
     "status": "completed"
    },
    "tags": []
   },
   "source": [
    "**important;**\n",
    "* The results are written with a negative power of 10, so these values are actually very close to zero, well below 0.05.\n",
    "\n",
    "* 1.1171185237531973e-58 means 1.1171185237531973 x 10^(-58), which is very close to zero. \n",
    "\n",
    "* This refers to a value that is almost zero (too many zeros), such as 0.000...001117\n",
    "\n",
    "* P-values < 0.5, therefore \"H0; normality is met\" is declined, in other words; normality isn't met.\n",
    "\n",
    "* Since normality isn't met, moving forward with Kruskal non-parametric test"
   ]
  },
  {
   "cell_type": "code",
   "execution_count": 30,
   "id": "da98064f",
   "metadata": {
    "execution": {
     "iopub.execute_input": "2024-10-27T11:41:24.373614Z",
     "iopub.status.busy": "2024-10-27T11:41:24.373160Z",
     "iopub.status.idle": "2024-10-27T11:41:24.458058Z",
     "shell.execute_reply": "2024-10-27T11:41:24.456924Z"
    },
    "papermill": {
     "duration": 0.103331,
     "end_time": "2024-10-27T11:41:24.460616",
     "exception": false,
     "start_time": "2024-10-27T11:41:24.357285",
     "status": "completed"
    },
    "tags": []
   },
   "outputs": [
    {
     "name": "stdout",
     "output_type": "stream",
     "text": [
      "order_num_total_ever_online Kruskal-Wallis p-value: 0.0\n",
      "order_num_total_ever_offline Kruskal-Wallis p-value: 0.0\n",
      "customer_value_total_ever_offline Kruskal-Wallis p-value: 0.0\n",
      "customer_value_total_ever_online Kruskal-Wallis p-value: 0.0\n",
      "order_num_total Kruskal-Wallis p-value: 0.0\n",
      "customer_value_total Kruskal-Wallis p-value: 0.0\n",
      "recency Kruskal-Wallis p-value: 0.0\n",
      "tenure Kruskal-Wallis p-value: 0.0\n"
     ]
    }
   ],
   "source": [
    "#Since normality isn't met, conducting Kruskal non-parametric test\n",
    "from scipy.stats import kruskal\n",
    "\n",
    "# Perform Kruskal-Wallis test for each numeric column\n",
    "for column in numeric_columns:\n",
    "    data_per_cluster = [df_new[df_new[\"cluster\"] == label][column] for label in df_new[\"cluster\"].unique()]\n",
    "    stat, p = kruskal(*data_per_cluster)\n",
    "    print(f\"{column} Kruskal-Wallis p-value: {p}\")\n",
    "    # If p < 0.05, there is a significant difference between the clusters."
   ]
  },
  {
   "cell_type": "markdown",
   "id": "8fcb9cd2",
   "metadata": {
    "papermill": {
     "duration": 0.014329,
     "end_time": "2024-10-27T11:41:24.489650",
     "exception": false,
     "start_time": "2024-10-27T11:41:24.475321",
     "status": "completed"
    },
    "tags": []
   },
   "source": [
    "*** Based on the Kruskal-Wallis test results, the p-value for all variables was 0.0.**\n",
    "\n",
    "*** Since p < 0.05, we can say that there are statistically significant differences between the clusters.**\n",
    "\n",
    "*** In other words, at least one pair of clusters for each variable shows a significant difference in the distribution of this variable.**\n",
    "\n",
    "*** These results reveal that there are differences in the distribution of all variables between the clusters.**"
   ]
  },
  {
   "cell_type": "code",
   "execution_count": 31,
   "id": "e71ddd4b",
   "metadata": {
    "execution": {
     "iopub.execute_input": "2024-10-27T11:41:24.520631Z",
     "iopub.status.busy": "2024-10-27T11:41:24.520225Z",
     "iopub.status.idle": "2024-10-27T11:41:24.549996Z",
     "shell.execute_reply": "2024-10-27T11:41:24.548863Z"
    },
    "papermill": {
     "duration": 0.049229,
     "end_time": "2024-10-27T11:41:24.553452",
     "exception": false,
     "start_time": "2024-10-27T11:41:24.504223",
     "status": "completed"
    },
    "tags": []
   },
   "outputs": [
    {
     "name": "stdout",
     "output_type": "stream",
     "text": [
      "\n",
      "Correlation Matrix for Cluster 1:\n",
      "                      customer_value_total  order_num_total  recency  tenure\n",
      "customer_value_total                 1.000            0.721   -0.103   0.120\n",
      "order_num_total                      0.721            1.000   -0.077   0.262\n",
      "recency                             -0.103           -0.077    1.000  -0.004\n",
      "tenure                               0.120            0.262   -0.004   1.000\n",
      "\n",
      "Correlation Matrix for Cluster 4:\n",
      "                      customer_value_total  order_num_total  recency  tenure\n",
      "customer_value_total                 1.000            0.522   -0.047  -0.046\n",
      "order_num_total                      0.522            1.000    0.023   0.419\n",
      "recency                             -0.047            0.023    1.000   0.142\n",
      "tenure                              -0.046            0.419    0.142   1.000\n",
      "\n",
      "Correlation Matrix for Cluster 5:\n",
      "                      customer_value_total  order_num_total  recency  tenure\n",
      "customer_value_total                 1.000            0.714    0.067   0.144\n",
      "order_num_total                      0.714            1.000    0.032   0.292\n",
      "recency                              0.067            0.032    1.000   0.068\n",
      "tenure                               0.144            0.292    0.068   1.000\n",
      "\n",
      "Correlation Matrix for Cluster 2:\n",
      "                      customer_value_total  order_num_total  recency  tenure\n",
      "customer_value_total                 1.000            0.703   -0.039   0.106\n",
      "order_num_total                      0.703            1.000   -0.056   0.267\n",
      "recency                             -0.039           -0.056    1.000   0.062\n",
      "tenure                               0.106            0.267    0.062   1.000\n",
      "\n",
      "Correlation Matrix for Cluster 7:\n",
      "                      customer_value_total  order_num_total  recency  tenure\n",
      "customer_value_total                 1.000            0.785   -0.111  -0.035\n",
      "order_num_total                      0.785            1.000   -0.091   0.032\n",
      "recency                             -0.111           -0.091    1.000   0.046\n",
      "tenure                              -0.035            0.032    0.046   1.000\n",
      "\n",
      "Correlation Matrix for Cluster 6:\n",
      "                      customer_value_total  order_num_total  recency  tenure\n",
      "customer_value_total                 1.000            0.638    0.093   0.047\n",
      "order_num_total                      0.638            1.000    0.132   0.227\n",
      "recency                              0.093            0.132    1.000   0.118\n",
      "tenure                               0.047            0.227    0.118   1.000\n",
      "\n",
      "Correlation Matrix for Cluster 3:\n",
      "                      customer_value_total  order_num_total  recency  tenure\n",
      "customer_value_total                 1.000            0.824   -0.075  -0.052\n",
      "order_num_total                      0.824            1.000   -0.047  -0.014\n",
      "recency                             -0.075           -0.047    1.000   0.045\n",
      "tenure                              -0.052           -0.014    0.045   1.000\n"
     ]
    }
   ],
   "source": [
    "# Example Correlation Analysis within each cluster\n",
    "for cluster in df_new['cluster'].unique():\n",
    "    print(f\"\\nCorrelation Matrix for Cluster {cluster}:\")\n",
    "    print(df_new[df_new['cluster'] == cluster][['customer_value_total', 'order_num_total', 'recency', 'tenure']].corr())"
   ]
  }
 ],
 "metadata": {
  "kaggle": {
   "accelerator": "none",
   "dataSources": [
    {
     "datasetId": 5396530,
     "sourceId": 8965214,
     "sourceType": "datasetVersion"
    }
   ],
   "dockerImageVersionId": 30786,
   "isGpuEnabled": false,
   "isInternetEnabled": true,
   "language": "python",
   "sourceType": "notebook"
  },
  "kernelspec": {
   "display_name": "Python 3",
   "language": "python",
   "name": "python3"
  },
  "language_info": {
   "codemirror_mode": {
    "name": "ipython",
    "version": 3
   },
   "file_extension": ".py",
   "mimetype": "text/x-python",
   "name": "python",
   "nbconvert_exporter": "python",
   "pygments_lexer": "ipython3",
   "version": "3.10.14"
  },
  "papermill": {
   "default_parameters": {},
   "duration": 41.108603,
   "end_time": "2024-10-27T11:41:25.290276",
   "environment_variables": {},
   "exception": null,
   "input_path": "__notebook__.ipynb",
   "output_path": "__notebook__.ipynb",
   "parameters": {},
   "start_time": "2024-10-27T11:40:44.181673",
   "version": "2.6.0"
  }
 },
 "nbformat": 4,
 "nbformat_minor": 5
}
