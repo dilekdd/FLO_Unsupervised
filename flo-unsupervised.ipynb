{
 "cells": [
  {
   "cell_type": "code",
   "execution_count": 1,
   "id": "ad0fb324",
   "metadata": {
    "execution": {
     "iopub.execute_input": "2024-10-27T11:24:23.172869Z",
     "iopub.status.busy": "2024-10-27T11:24:23.172441Z",
     "iopub.status.idle": "2024-10-27T11:24:27.062073Z",
     "shell.execute_reply": "2024-10-27T11:24:27.060776Z"
    },
    "papermill": {
     "duration": 3.906336,
     "end_time": "2024-10-27T11:24:27.064979",
     "exception": false,
     "start_time": "2024-10-27T11:24:23.158643",
     "status": "completed"
    },
    "tags": []
   },
   "outputs": [],
   "source": [
    "# pip install yellowbrick\n",
    "import datetime as dt\n",
    "import numpy as np\n",
    "import pandas as pd\n",
    "import seaborn as sns\n",
    "import random\n",
    "import matplotlib.pyplot as plt\n",
    "from sklearn.cluster import KMeans\n",
    "from sklearn.preprocessing import MinMaxScaler\n",
    "from yellowbrick.cluster import KElbowVisualizer\n",
    "from scipy.cluster.hierarchy import linkage\n",
    "from scipy.cluster.hierarchy import dendrogram\n",
    "from sklearn.preprocessing import StandardScaler\n",
    "from sklearn.decomposition import PCA\n",
    "from sklearn.model_selection import cross_val_score, GridSearchCV\n",
    "from sklearn.preprocessing import LabelEncoder\n",
    "pd.set_option('display.width', 500)\n",
    "#adjusting the display settings\n",
    "pd.set_option('display.max_columns', None)\n",
    "pd.set_option('display.max_rows', None)\n",
    "pd.set_option('display.max_colwidth', None)\n",
    "pd.set_option('display.width', 500)\n",
    "pd.set_option('display.float_format', lambda x: '%.3f' % x)\n",
    "import warnings\n",
    "warnings.simplefilter(action='ignore', category=FutureWarning)"
   ]
  },
  {
   "cell_type": "code",
   "execution_count": 2,
   "id": "859f8ffa",
   "metadata": {
    "execution": {
     "iopub.execute_input": "2024-10-27T11:24:27.090773Z",
     "iopub.status.busy": "2024-10-27T11:24:27.089809Z",
     "iopub.status.idle": "2024-10-27T11:24:27.226785Z",
     "shell.execute_reply": "2024-10-27T11:24:27.225685Z"
    },
    "papermill": {
     "duration": 0.152979,
     "end_time": "2024-10-27T11:24:27.229674",
     "exception": false,
     "start_time": "2024-10-27T11:24:27.076695",
     "status": "completed"
    },
    "tags": []
   },
   "outputs": [],
   "source": [
    "df_ = pd.read_csv(\"/kaggle/input/flo-data/flo_data_20k.csv\")\n",
    "df = df_.copy()"
   ]
  },
  {
   "cell_type": "code",
   "execution_count": 3,
   "id": "a73b7410",
   "metadata": {
    "execution": {
     "iopub.execute_input": "2024-10-27T11:24:27.255346Z",
     "iopub.status.busy": "2024-10-27T11:24:27.254868Z",
     "iopub.status.idle": "2024-10-27T11:24:27.312175Z",
     "shell.execute_reply": "2024-10-27T11:24:27.311013Z"
    },
    "papermill": {
     "duration": 0.075222,
     "end_time": "2024-10-27T11:24:27.316342",
     "exception": false,
     "start_time": "2024-10-27T11:24:27.241120",
     "status": "completed"
    },
    "tags": []
   },
   "outputs": [
    {
     "name": "stdout",
     "output_type": "stream",
     "text": [
      "##################### Shape #####################\n",
      "(19945, 12)\n",
      "##################### Types #####################\n",
      "master_id                             object\n",
      "order_channel                         object\n",
      "last_order_channel                    object\n",
      "first_order_date                      object\n",
      "last_order_date                       object\n",
      "last_order_date_online                object\n",
      "last_order_date_offline               object\n",
      "order_num_total_ever_online          float64\n",
      "order_num_total_ever_offline         float64\n",
      "customer_value_total_ever_offline    float64\n",
      "customer_value_total_ever_online     float64\n",
      "interested_in_categories_12           object\n",
      "dtype: object\n",
      "##################### Head #####################\n",
      "                              master_id order_channel last_order_channel first_order_date last_order_date last_order_date_online last_order_date_offline  order_num_total_ever_online  order_num_total_ever_offline  customer_value_total_ever_offline  customer_value_total_ever_online       interested_in_categories_12\n",
      "0  cc294636-19f0-11eb-8d74-000d3a38a36f   Android App            Offline       2020-10-30      2021-02-26             2021-02-21              2021-02-26                        4.000                         1.000                            139.990                           799.380                           [KADIN]\n",
      "1  f431bd5a-ab7b-11e9-a2fc-000d3a38a36f   Android App             Mobile       2017-02-08      2021-02-16             2021-02-16              2020-01-10                       19.000                         2.000                            159.970                          1853.580  [ERKEK, COCUK, KADIN, AKTIFSPOR]\n",
      "2  69b69676-1a40-11ea-941b-000d3a38a36f   Android App        Android App       2019-11-27      2020-11-27             2020-11-27              2019-12-01                        3.000                         2.000                            189.970                           395.350                    [ERKEK, KADIN]\n",
      "3  1854e56c-491f-11eb-806e-000d3a38a36f   Android App        Android App       2021-01-06      2021-01-17             2021-01-17              2021-01-06                        1.000                         1.000                             39.990                            81.980               [AKTIFCOCUK, COCUK]\n",
      "4  d6ea1074-f1f5-11e9-9346-000d3a38a36f       Desktop            Desktop       2019-08-03      2021-03-07             2021-03-07              2019-08-03                        1.000                         1.000                             49.990                           159.990                       [AKTIFSPOR]\n",
      "##################### Tail #####################\n",
      "                                  master_id order_channel last_order_channel first_order_date last_order_date last_order_date_online last_order_date_offline  order_num_total_ever_online  order_num_total_ever_offline  customer_value_total_ever_offline  customer_value_total_ever_online interested_in_categories_12\n",
      "19940  727e2b6e-ddd4-11e9-a848-000d3a38a36f   Android App            Offline       2019-09-21      2020-07-05             2020-06-05              2020-07-05                        1.000                         2.000                            289.980                           111.980          [ERKEK, AKTIFSPOR]\n",
      "19941  25cd53d4-61bf-11ea-8dd8-000d3a38a36f       Desktop            Desktop       2020-03-01      2020-12-22             2020-12-22              2020-03-01                        1.000                         1.000                            150.480                           239.990                 [AKTIFSPOR]\n",
      "19942  8aea4c2a-d6fc-11e9-93bc-000d3a38a36f       Ios App            Ios App       2019-09-11      2021-05-24             2021-05-24              2019-09-11                        2.000                         1.000                            139.980                           492.960                 [AKTIFSPOR]\n",
      "19943  e50bb46c-ff30-11e9-a5e8-000d3a38a36f   Android App        Android App       2019-03-27      2021-02-13             2021-02-13              2021-01-08                        1.000                         5.000                            711.790                           297.980          [ERKEK, AKTIFSPOR]\n",
      "19944  740998d2-b1f7-11e9-89fa-000d3a38a36f   Android App        Android App       2019-09-03      2020-06-06             2020-06-06              2019-09-03                        1.000                         1.000                             39.990                           221.980          [KADIN, AKTIFSPOR]\n",
      "##################### NA #####################\n",
      "master_id                            0\n",
      "order_channel                        0\n",
      "last_order_channel                   0\n",
      "first_order_date                     0\n",
      "last_order_date                      0\n",
      "last_order_date_online               0\n",
      "last_order_date_offline              0\n",
      "order_num_total_ever_online          0\n",
      "order_num_total_ever_offline         0\n",
      "customer_value_total_ever_offline    0\n",
      "customer_value_total_ever_online     0\n",
      "interested_in_categories_12          0\n",
      "dtype: int64\n",
      "##################### Quantiles #####################\n",
      "                                   0.000  0.050   0.500    0.950    0.990     1.000\n",
      "order_num_total_ever_online        1.000  1.000   2.000   10.000   20.000   200.000\n",
      "order_num_total_ever_offline       1.000  1.000   1.000    4.000    7.000   109.000\n",
      "customer_value_total_ever_offline 10.000 39.990 179.980  694.222 1219.947 18119.140\n",
      "customer_value_total_ever_online  12.990 63.990 286.460 1556.726 3143.810 45220.130\n"
     ]
    }
   ],
   "source": [
    "def check_df(dataframe, head=5):\n",
    "    print(\"##################### Shape #####################\")\n",
    "    print(dataframe.shape)\n",
    "    print(\"##################### Types #####################\")\n",
    "    print(dataframe.dtypes)\n",
    "    print(\"##################### Head #####################\")\n",
    "    print(dataframe.head(head))\n",
    "    print(\"##################### Tail #####################\")\n",
    "    print(dataframe.tail(head))\n",
    "    print(\"##################### NA #####################\")\n",
    "    print(dataframe.isnull().sum())\n",
    "    print(\"##################### Quantiles #####################\")\n",
    "    print(dataframe.select_dtypes(include=[np.number]).quantile([0, 0.05, 0.50, 0.95, 0.99, 1]).T)\n",
    "\n",
    "\n",
    "check_df(df)"
   ]
  },
  {
   "cell_type": "code",
   "execution_count": 4,
   "id": "96bad9df",
   "metadata": {
    "execution": {
     "iopub.execute_input": "2024-10-27T11:24:27.342451Z",
     "iopub.status.busy": "2024-10-27T11:24:27.341981Z",
     "iopub.status.idle": "2024-10-27T11:24:27.395693Z",
     "shell.execute_reply": "2024-10-27T11:24:27.394035Z"
    },
    "papermill": {
     "duration": 0.069706,
     "end_time": "2024-10-27T11:24:27.398431",
     "exception": false,
     "start_time": "2024-10-27T11:24:27.328725",
     "status": "completed"
    },
    "tags": []
   },
   "outputs": [],
   "source": [
    "date_columns = df.columns[df.columns.str.contains(\"date\")]\n",
    "df[date_columns] = df[date_columns].apply(pd.to_datetime)"
   ]
  },
  {
   "cell_type": "code",
   "execution_count": 5,
   "id": "50e1a498",
   "metadata": {
    "execution": {
     "iopub.execute_input": "2024-10-27T11:24:27.425082Z",
     "iopub.status.busy": "2024-10-27T11:24:27.424058Z",
     "iopub.status.idle": "2024-10-27T11:24:27.432593Z",
     "shell.execute_reply": "2024-10-27T11:24:27.431623Z"
    },
    "papermill": {
     "duration": 0.024103,
     "end_time": "2024-10-27T11:24:27.435223",
     "exception": false,
     "start_time": "2024-10-27T11:24:27.411120",
     "status": "completed"
    },
    "tags": []
   },
   "outputs": [],
   "source": [
    "df[\"order_num_total\"] = df[\"order_num_total_ever_online\"] + df[\"order_num_total_ever_offline\"]\n",
    "df[\"customer_value_total\"] = df[\"customer_value_total_ever_offline\"] + df[\"customer_value_total_ever_online\"]"
   ]
  },
  {
   "cell_type": "code",
   "execution_count": 6,
   "id": "a7d94830",
   "metadata": {
    "execution": {
     "iopub.execute_input": "2024-10-27T11:24:27.460183Z",
     "iopub.status.busy": "2024-10-27T11:24:27.459717Z",
     "iopub.status.idle": "2024-10-27T11:24:27.470385Z",
     "shell.execute_reply": "2024-10-27T11:24:27.469410Z"
    },
    "papermill": {
     "duration": 0.026287,
     "end_time": "2024-10-27T11:24:27.473127",
     "exception": false,
     "start_time": "2024-10-27T11:24:27.446840",
     "status": "completed"
    },
    "tags": []
   },
   "outputs": [],
   "source": [
    "analysis_date = df['last_order_date'].max() + dt.timedelta(days=2)\n",
    "df[\"recency\"] = (analysis_date - df[\"last_order_date\"]).dt.days\n",
    "df[\"tenure\"] = (analysis_date - df[\"first_order_date\"]).dt.days"
   ]
  },
  {
   "cell_type": "code",
   "execution_count": 7,
   "id": "2a309f39",
   "metadata": {
    "execution": {
     "iopub.execute_input": "2024-10-27T11:24:27.498422Z",
     "iopub.status.busy": "2024-10-27T11:24:27.497956Z",
     "iopub.status.idle": "2024-10-27T11:24:27.521295Z",
     "shell.execute_reply": "2024-10-27T11:24:27.520115Z"
    },
    "papermill": {
     "duration": 0.03902,
     "end_time": "2024-10-27T11:24:27.523817",
     "exception": false,
     "start_time": "2024-10-27T11:24:27.484797",
     "status": "completed"
    },
    "tags": []
   },
   "outputs": [
    {
     "data": {
      "text/html": [
       "<div>\n",
       "<style scoped>\n",
       "    .dataframe tbody tr th:only-of-type {\n",
       "        vertical-align: middle;\n",
       "    }\n",
       "\n",
       "    .dataframe tbody tr th {\n",
       "        vertical-align: top;\n",
       "    }\n",
       "\n",
       "    .dataframe thead th {\n",
       "        text-align: right;\n",
       "    }\n",
       "</style>\n",
       "<table border=\"1\" class=\"dataframe\">\n",
       "  <thead>\n",
       "    <tr style=\"text-align: right;\">\n",
       "      <th></th>\n",
       "      <th>master_id</th>\n",
       "      <th>order_channel</th>\n",
       "      <th>last_order_channel</th>\n",
       "      <th>first_order_date</th>\n",
       "      <th>last_order_date</th>\n",
       "      <th>last_order_date_online</th>\n",
       "      <th>last_order_date_offline</th>\n",
       "      <th>order_num_total_ever_online</th>\n",
       "      <th>order_num_total_ever_offline</th>\n",
       "      <th>customer_value_total_ever_offline</th>\n",
       "      <th>customer_value_total_ever_online</th>\n",
       "      <th>interested_in_categories_12</th>\n",
       "      <th>order_num_total</th>\n",
       "      <th>customer_value_total</th>\n",
       "      <th>recency</th>\n",
       "      <th>tenure</th>\n",
       "    </tr>\n",
       "  </thead>\n",
       "  <tbody>\n",
       "    <tr>\n",
       "      <th>0</th>\n",
       "      <td>cc294636-19f0-11eb-8d74-000d3a38a36f</td>\n",
       "      <td>Android App</td>\n",
       "      <td>Offline</td>\n",
       "      <td>2020-10-30</td>\n",
       "      <td>2021-02-26</td>\n",
       "      <td>2021-02-21</td>\n",
       "      <td>2021-02-26</td>\n",
       "      <td>4.000</td>\n",
       "      <td>1.000</td>\n",
       "      <td>139.990</td>\n",
       "      <td>799.380</td>\n",
       "      <td>[KADIN]</td>\n",
       "      <td>5.000</td>\n",
       "      <td>939.370</td>\n",
       "      <td>95</td>\n",
       "      <td>214</td>\n",
       "    </tr>\n",
       "    <tr>\n",
       "      <th>1</th>\n",
       "      <td>f431bd5a-ab7b-11e9-a2fc-000d3a38a36f</td>\n",
       "      <td>Android App</td>\n",
       "      <td>Mobile</td>\n",
       "      <td>2017-02-08</td>\n",
       "      <td>2021-02-16</td>\n",
       "      <td>2021-02-16</td>\n",
       "      <td>2020-01-10</td>\n",
       "      <td>19.000</td>\n",
       "      <td>2.000</td>\n",
       "      <td>159.970</td>\n",
       "      <td>1853.580</td>\n",
       "      <td>[ERKEK, COCUK, KADIN, AKTIFSPOR]</td>\n",
       "      <td>21.000</td>\n",
       "      <td>2013.550</td>\n",
       "      <td>105</td>\n",
       "      <td>1574</td>\n",
       "    </tr>\n",
       "    <tr>\n",
       "      <th>2</th>\n",
       "      <td>69b69676-1a40-11ea-941b-000d3a38a36f</td>\n",
       "      <td>Android App</td>\n",
       "      <td>Android App</td>\n",
       "      <td>2019-11-27</td>\n",
       "      <td>2020-11-27</td>\n",
       "      <td>2020-11-27</td>\n",
       "      <td>2019-12-01</td>\n",
       "      <td>3.000</td>\n",
       "      <td>2.000</td>\n",
       "      <td>189.970</td>\n",
       "      <td>395.350</td>\n",
       "      <td>[ERKEK, KADIN]</td>\n",
       "      <td>5.000</td>\n",
       "      <td>585.320</td>\n",
       "      <td>186</td>\n",
       "      <td>552</td>\n",
       "    </tr>\n",
       "    <tr>\n",
       "      <th>3</th>\n",
       "      <td>1854e56c-491f-11eb-806e-000d3a38a36f</td>\n",
       "      <td>Android App</td>\n",
       "      <td>Android App</td>\n",
       "      <td>2021-01-06</td>\n",
       "      <td>2021-01-17</td>\n",
       "      <td>2021-01-17</td>\n",
       "      <td>2021-01-06</td>\n",
       "      <td>1.000</td>\n",
       "      <td>1.000</td>\n",
       "      <td>39.990</td>\n",
       "      <td>81.980</td>\n",
       "      <td>[AKTIFCOCUK, COCUK]</td>\n",
       "      <td>2.000</td>\n",
       "      <td>121.970</td>\n",
       "      <td>135</td>\n",
       "      <td>146</td>\n",
       "    </tr>\n",
       "    <tr>\n",
       "      <th>4</th>\n",
       "      <td>d6ea1074-f1f5-11e9-9346-000d3a38a36f</td>\n",
       "      <td>Desktop</td>\n",
       "      <td>Desktop</td>\n",
       "      <td>2019-08-03</td>\n",
       "      <td>2021-03-07</td>\n",
       "      <td>2021-03-07</td>\n",
       "      <td>2019-08-03</td>\n",
       "      <td>1.000</td>\n",
       "      <td>1.000</td>\n",
       "      <td>49.990</td>\n",
       "      <td>159.990</td>\n",
       "      <td>[AKTIFSPOR]</td>\n",
       "      <td>2.000</td>\n",
       "      <td>209.980</td>\n",
       "      <td>86</td>\n",
       "      <td>668</td>\n",
       "    </tr>\n",
       "  </tbody>\n",
       "</table>\n",
       "</div>"
      ],
      "text/plain": [
       "                              master_id order_channel last_order_channel first_order_date last_order_date last_order_date_online last_order_date_offline  order_num_total_ever_online  order_num_total_ever_offline  customer_value_total_ever_offline  customer_value_total_ever_online       interested_in_categories_12  order_num_total  customer_value_total  recency  tenure\n",
       "0  cc294636-19f0-11eb-8d74-000d3a38a36f   Android App            Offline       2020-10-30      2021-02-26             2021-02-21              2021-02-26                        4.000                         1.000                            139.990                           799.380                           [KADIN]            5.000               939.370       95     214\n",
       "1  f431bd5a-ab7b-11e9-a2fc-000d3a38a36f   Android App             Mobile       2017-02-08      2021-02-16             2021-02-16              2020-01-10                       19.000                         2.000                            159.970                          1853.580  [ERKEK, COCUK, KADIN, AKTIFSPOR]           21.000              2013.550      105    1574\n",
       "2  69b69676-1a40-11ea-941b-000d3a38a36f   Android App        Android App       2019-11-27      2020-11-27             2020-11-27              2019-12-01                        3.000                         2.000                            189.970                           395.350                    [ERKEK, KADIN]            5.000               585.320      186     552\n",
       "3  1854e56c-491f-11eb-806e-000d3a38a36f   Android App        Android App       2021-01-06      2021-01-17             2021-01-17              2021-01-06                        1.000                         1.000                             39.990                            81.980               [AKTIFCOCUK, COCUK]            2.000               121.970      135     146\n",
       "4  d6ea1074-f1f5-11e9-9346-000d3a38a36f       Desktop            Desktop       2019-08-03      2021-03-07             2021-03-07              2019-08-03                        1.000                         1.000                             49.990                           159.990                       [AKTIFSPOR]            2.000               209.980       86     668"
      ]
     },
     "execution_count": 7,
     "metadata": {},
     "output_type": "execute_result"
    }
   ],
   "source": [
    "df.head()"
   ]
  },
  {
   "cell_type": "code",
   "execution_count": 8,
   "id": "e058a56c",
   "metadata": {
    "execution": {
     "iopub.execute_input": "2024-10-27T11:24:27.549997Z",
     "iopub.status.busy": "2024-10-27T11:24:27.549557Z",
     "iopub.status.idle": "2024-10-27T11:24:27.605073Z",
     "shell.execute_reply": "2024-10-27T11:24:27.603879Z"
    },
    "papermill": {
     "duration": 0.071808,
     "end_time": "2024-10-27T11:24:27.607783",
     "exception": false,
     "start_time": "2024-10-27T11:24:27.535975",
     "status": "completed"
    },
    "tags": []
   },
   "outputs": [
    {
     "name": "stdout",
     "output_type": "stream",
     "text": [
      "Observations: 19945\n",
      "Variables: 16\n",
      "cat_cols: 2\n",
      "num_cols: 8\n",
      "cat_but_car: 2\n",
      "num_but_cat: 0\n",
      "date_cols: 4\n"
     ]
    }
   ],
   "source": [
    "def grab_col_names(dataframe, cat_th=5, car_th=20):\n",
    "    \"\"\"\n",
    "\n",
    "    Veri setindeki kategorik, numerik ve kategorik fakat kardinal değişkenlerin isimlerini verir.\n",
    "    Not: Kategorik değişkenlerin içerisine numerik görünümlü kategorik değişkenler de dahildir.\n",
    "\n",
    "    Parameters\n",
    "    ------\n",
    "        dataframe: dataframe\n",
    "                Değişken isimleri alınmak istenilen dataframe\n",
    "        cat_th: int, optional\n",
    "                numerik fakat kategorik olan değişkenler için sınıf eşik değeri\n",
    "        car_th: int, optinal\n",
    "                kategorik fakat kardinal değişkenler için sınıf eşik değeri\n",
    "\n",
    "    Returns\n",
    "    ------\n",
    "        cat_cols: list\n",
    "                Kategorik değişken listesi\n",
    "        num_cols: list\n",
    "                Numerik değişken listesi\n",
    "        cat_but_car: list\n",
    "                Kategorik görünümlü kardinal değişken listesi\n",
    "\n",
    "    Examples\n",
    "    ------\n",
    "        import seaborn as sns\n",
    "        df = sns.load_dataset(\"iris\")\n",
    "        print(grab_col_names(df))\n",
    "\n",
    "\n",
    "    Notes\n",
    "    ------\n",
    "        cat_cols + num_cols + cat_but_car = toplam değişken sayısı\n",
    "        num_but_cat cat_cols'un içerisinde.\n",
    "        Return olan 3 liste toplamı toplam değişken sayısına eşittir: cat_cols + num_cols + cat_but_car = değişken sayısı\n",
    "\n",
    "    \"\"\"\n",
    "\n",
    "    # cat_cols, cat_but_car\n",
    "    cat_cols = [col for col in dataframe.columns if dataframe[col].dtypes == \"O\"]\n",
    "    num_but_cat = [col for col in dataframe.columns if dataframe[col].nunique() < cat_th and\n",
    "                   dataframe[col].dtypes != \"O\"]\n",
    "    cat_but_car = [col for col in dataframe.columns if dataframe[col].nunique() > car_th and\n",
    "                   dataframe[col].dtypes == \"O\"]\n",
    "    cat_cols = cat_cols + num_but_cat\n",
    "    cat_cols = [col for col in cat_cols if col not in cat_but_car]\n",
    "\n",
    "    #date cols\n",
    "    date_cols = [col for col in dataframe.columns if dataframe[col].dtypes == 'datetime64[ns]']\n",
    "\n",
    "\n",
    "    # num_cols\n",
    "    num_cols = [col for col in dataframe.columns if dataframe[col].dtypes != \"O\"]\n",
    "    num_cols = [col for col in num_cols if col not in num_but_cat and col not in date_cols]\n",
    "\n",
    "\n",
    "    print(f\"Observations: {dataframe.shape[0]}\")\n",
    "    print(f\"Variables: {dataframe.shape[1]}\")\n",
    "    print(f'cat_cols: {len(cat_cols)}')\n",
    "    print(f'num_cols: {len(num_cols)}')\n",
    "    print(f'cat_but_car: {len(cat_but_car)}')\n",
    "    print(f'num_but_cat: {len(num_but_cat)}')\n",
    "    print(f'date_cols: {len(date_cols)}')\n",
    "\n",
    "    return cat_cols, num_cols, cat_but_car, date_cols\n",
    "\n",
    "cat_cols, num_cols, cat_but_car, date_cols = grab_col_names(df)"
   ]
  },
  {
   "cell_type": "code",
   "execution_count": 9,
   "id": "93a1a535",
   "metadata": {
    "execution": {
     "iopub.execute_input": "2024-10-27T11:24:27.633816Z",
     "iopub.status.busy": "2024-10-27T11:24:27.633379Z",
     "iopub.status.idle": "2024-10-27T11:24:27.640736Z",
     "shell.execute_reply": "2024-10-27T11:24:27.639627Z"
    },
    "papermill": {
     "duration": 0.023442,
     "end_time": "2024-10-27T11:24:27.643371",
     "exception": false,
     "start_time": "2024-10-27T11:24:27.619929",
     "status": "completed"
    },
    "tags": []
   },
   "outputs": [
    {
     "data": {
      "text/plain": [
       "['order_num_total_ever_online',\n",
       " 'order_num_total_ever_offline',\n",
       " 'customer_value_total_ever_offline',\n",
       " 'customer_value_total_ever_online',\n",
       " 'order_num_total',\n",
       " 'customer_value_total',\n",
       " 'recency',\n",
       " 'tenure']"
      ]
     },
     "execution_count": 9,
     "metadata": {},
     "output_type": "execute_result"
    }
   ],
   "source": [
    "num_cols"
   ]
  },
  {
   "cell_type": "code",
   "execution_count": 10,
   "id": "e7eae5a1",
   "metadata": {
    "execution": {
     "iopub.execute_input": "2024-10-27T11:24:27.669530Z",
     "iopub.status.busy": "2024-10-27T11:24:27.669064Z",
     "iopub.status.idle": "2024-10-27T11:24:27.718546Z",
     "shell.execute_reply": "2024-10-27T11:24:27.717295Z"
    },
    "papermill": {
     "duration": 0.065961,
     "end_time": "2024-10-27T11:24:27.721532",
     "exception": false,
     "start_time": "2024-10-27T11:24:27.655571",
     "status": "completed"
    },
    "tags": []
   },
   "outputs": [
    {
     "name": "stdout",
     "output_type": "stream",
     "text": [
      "order_num_total_ever_online True\n",
      "order_num_total_ever_offline True\n",
      "customer_value_total_ever_offline True\n",
      "customer_value_total_ever_online True\n",
      "order_num_total True\n",
      "customer_value_total True\n",
      "recency False\n",
      "tenure False\n"
     ]
    }
   ],
   "source": [
    "def outlier_thresholds(dataframe, col_name, q1=0.01, q3=0.99):\n",
    "    quartile1 = dataframe[col_name].quantile(q1)\n",
    "    quartile3 = dataframe[col_name].quantile(q3)\n",
    "    interquantile_range = quartile3 - quartile1\n",
    "    up_limit = quartile3 + 1.5 * interquantile_range\n",
    "    low_limit = quartile1 - 1.5 * interquantile_range\n",
    "    return low_limit, up_limit\n",
    "\n",
    "def replace_with_thresholds(dataframe, variable):\n",
    "    low_limit, up_limit = outlier_thresholds(dataframe, variable)\n",
    "    dataframe.loc[(dataframe[variable] < low_limit), variable] = low_limit\n",
    "    dataframe.loc[(dataframe[variable] > up_limit), variable] = up_limit\n",
    "\n",
    "def check_outlier(dataframe, col_name, q1=0.01, q3=0.99):\n",
    "    low_limit, up_limit = outlier_thresholds(dataframe, col_name, q1, q3)\n",
    "    if dataframe[(dataframe[col_name] > up_limit) | (dataframe[col_name] < low_limit)].any(axis=None):\n",
    "        return True\n",
    "    else:\n",
    "        return False\n",
    "\n",
    "for col in num_cols:\n",
    "    print(col, check_outlier(df, col))\n"
   ]
  },
  {
   "cell_type": "code",
   "execution_count": 11,
   "id": "022b381c",
   "metadata": {
    "execution": {
     "iopub.execute_input": "2024-10-27T11:24:27.749123Z",
     "iopub.status.busy": "2024-10-27T11:24:27.748671Z",
     "iopub.status.idle": "2024-10-27T11:24:27.843393Z",
     "shell.execute_reply": "2024-10-27T11:24:27.841897Z"
    },
    "papermill": {
     "duration": 0.11191,
     "end_time": "2024-10-27T11:24:27.845917",
     "exception": false,
     "start_time": "2024-10-27T11:24:27.734007",
     "status": "completed"
    },
    "tags": []
   },
   "outputs": [
    {
     "name": "stdout",
     "output_type": "stream",
     "text": [
      "order_num_total_ever_online True\n",
      "order_num_total_ever_offline True\n",
      "customer_value_total_ever_offline True\n",
      "customer_value_total_ever_online True\n",
      "order_num_total True\n",
      "customer_value_total True\n",
      "recency False\n",
      "tenure False\n"
     ]
    }
   ],
   "source": [
    "for col in num_cols:\n",
    "    print(col, check_outlier(df, col))  \n",
    "    if check_outlier(df, col):  # Check for outliers in the column\n",
    "        replace_with_thresholds(df, col)  # Replace outliers in `df` directly"
   ]
  },
  {
   "cell_type": "code",
   "execution_count": 12,
   "id": "b8e770a3",
   "metadata": {
    "execution": {
     "iopub.execute_input": "2024-10-27T11:24:27.873471Z",
     "iopub.status.busy": "2024-10-27T11:24:27.872437Z",
     "iopub.status.idle": "2024-10-27T11:24:27.914105Z",
     "shell.execute_reply": "2024-10-27T11:24:27.912831Z"
    },
    "papermill": {
     "duration": 0.058319,
     "end_time": "2024-10-27T11:24:27.916849",
     "exception": false,
     "start_time": "2024-10-27T11:24:27.858530",
     "status": "completed"
    },
    "tags": []
   },
   "outputs": [
    {
     "name": "stdout",
     "output_type": "stream",
     "text": [
      "order_num_total_ever_online False\n",
      "order_num_total_ever_offline False\n",
      "customer_value_total_ever_offline False\n",
      "customer_value_total_ever_online False\n",
      "order_num_total False\n",
      "customer_value_total False\n",
      "recency False\n",
      "tenure False\n"
     ]
    }
   ],
   "source": [
    "for col in num_cols:\n",
    "    print(col, check_outlier(df, col))"
   ]
  },
  {
   "cell_type": "code",
   "execution_count": 13,
   "id": "38c6db66",
   "metadata": {
    "execution": {
     "iopub.execute_input": "2024-10-27T11:24:27.944427Z",
     "iopub.status.busy": "2024-10-27T11:24:27.943946Z",
     "iopub.status.idle": "2024-10-27T11:24:28.859745Z",
     "shell.execute_reply": "2024-10-27T11:24:28.858571Z"
    },
    "papermill": {
     "duration": 0.933843,
     "end_time": "2024-10-27T11:24:28.863469",
     "exception": false,
     "start_time": "2024-10-27T11:24:27.929626",
     "status": "completed"
    },
    "tags": []
   },
   "outputs": [
    {
     "data": {
      "image/png": "[encoded data removed]",
      "text/plain": [
       "<Figure size 1200x1200 with 2 Axes>"
      ]
     },
     "metadata": {},
     "output_type": "display_data"
    }
   ],
   "source": [
    "# Sayısal sütunlarla veri çerçevesini filtreleyin\n",
    "df_numeric = df[num_cols]\n",
    "# Korelasyon Analizi (Analysis of Correlation)\n",
    "corr = df_numeric.corr()\n",
    "# Korelasyonların gösterilmesi\n",
    "sns.set(rc={'figure.figsize': (12, 12)})\n",
    "sns.heatmap(corr, cmap=\"RdBu\", annot=True, fmt=\".2f\", annot_kws={\"size\": 8})\n",
    "plt.tight_layout()\n",
    "plt.show()"
   ]
  },
  {
   "cell_type": "code",
   "execution_count": 14,
   "id": "021495d4",
   "metadata": {
    "execution": {
     "iopub.execute_input": "2024-10-27T11:24:28.895756Z",
     "iopub.status.busy": "2024-10-27T11:24:28.895316Z",
     "iopub.status.idle": "2024-10-27T11:24:28.949268Z",
     "shell.execute_reply": "2024-10-27T11:24:28.948036Z"
    },
    "papermill": {
     "duration": 0.073632,
     "end_time": "2024-10-27T11:24:28.952099",
     "exception": false,
     "start_time": "2024-10-27T11:24:28.878467",
     "status": "completed"
    },
    "tags": []
   },
   "outputs": [
    {
     "name": "stdout",
     "output_type": "stream",
     "text": [
      "Observations: 19945\n",
      "Variables: 16\n",
      "cat_cols: 2\n",
      "num_cols: 8\n",
      "cat_but_car: 2\n",
      "num_but_cat: 0\n",
      "date_cols: 4\n"
     ]
    },
    {
     "data": {
      "text/html": [
       "<div>\n",
       "<style scoped>\n",
       "    .dataframe tbody tr th:only-of-type {\n",
       "        vertical-align: middle;\n",
       "    }\n",
       "\n",
       "    .dataframe tbody tr th {\n",
       "        vertical-align: top;\n",
       "    }\n",
       "\n",
       "    .dataframe thead th {\n",
       "        text-align: right;\n",
       "    }\n",
       "</style>\n",
       "<table border=\"1\" class=\"dataframe\">\n",
       "  <thead>\n",
       "    <tr style=\"text-align: right;\">\n",
       "      <th></th>\n",
       "      <th>order_num_total_ever_online</th>\n",
       "      <th>order_num_total_ever_offline</th>\n",
       "      <th>customer_value_total_ever_offline</th>\n",
       "      <th>customer_value_total_ever_online</th>\n",
       "      <th>order_num_total</th>\n",
       "      <th>customer_value_total</th>\n",
       "      <th>recency</th>\n",
       "      <th>tenure</th>\n",
       "    </tr>\n",
       "  </thead>\n",
       "  <tbody>\n",
       "    <tr>\n",
       "      <th>0</th>\n",
       "      <td>4.000</td>\n",
       "      <td>1.000</td>\n",
       "      <td>139.990</td>\n",
       "      <td>799.380</td>\n",
       "      <td>5.000</td>\n",
       "      <td>939.370</td>\n",
       "      <td>95</td>\n",
       "      <td>214</td>\n",
       "    </tr>\n",
       "    <tr>\n",
       "      <th>1</th>\n",
       "      <td>19.000</td>\n",
       "      <td>2.000</td>\n",
       "      <td>159.970</td>\n",
       "      <td>1853.580</td>\n",
       "      <td>21.000</td>\n",
       "      <td>2013.550</td>\n",
       "      <td>105</td>\n",
       "      <td>1574</td>\n",
       "    </tr>\n",
       "    <tr>\n",
       "      <th>2</th>\n",
       "      <td>3.000</td>\n",
       "      <td>2.000</td>\n",
       "      <td>189.970</td>\n",
       "      <td>395.350</td>\n",
       "      <td>5.000</td>\n",
       "      <td>585.320</td>\n",
       "      <td>186</td>\n",
       "      <td>552</td>\n",
       "    </tr>\n",
       "    <tr>\n",
       "      <th>3</th>\n",
       "      <td>1.000</td>\n",
       "      <td>1.000</td>\n",
       "      <td>39.990</td>\n",
       "      <td>81.980</td>\n",
       "      <td>2.000</td>\n",
       "      <td>121.970</td>\n",
       "      <td>135</td>\n",
       "      <td>146</td>\n",
       "    </tr>\n",
       "    <tr>\n",
       "      <th>4</th>\n",
       "      <td>1.000</td>\n",
       "      <td>1.000</td>\n",
       "      <td>49.990</td>\n",
       "      <td>159.990</td>\n",
       "      <td>2.000</td>\n",
       "      <td>209.980</td>\n",
       "      <td>86</td>\n",
       "      <td>668</td>\n",
       "    </tr>\n",
       "  </tbody>\n",
       "</table>\n",
       "</div>"
      ],
      "text/plain": [
       "   order_num_total_ever_online  order_num_total_ever_offline  customer_value_total_ever_offline  customer_value_total_ever_online  order_num_total  customer_value_total  recency  tenure\n",
       "0                        4.000                         1.000                            139.990                           799.380            5.000               939.370       95     214\n",
       "1                       19.000                         2.000                            159.970                          1853.580           21.000              2013.550      105    1574\n",
       "2                        3.000                         2.000                            189.970                           395.350            5.000               585.320      186     552\n",
       "3                        1.000                         1.000                             39.990                            81.980            2.000               121.970      135     146\n",
       "4                        1.000                         1.000                             49.990                           159.990            2.000               209.980       86     668"
      ]
     },
     "execution_count": 14,
     "metadata": {},
     "output_type": "execute_result"
    }
   ],
   "source": [
    "cat_cols, num_cols, cat_but_car, date_cols = grab_col_names(df)\n",
    "df_new = df[num_cols]\n",
    "df_new.head()"
   ]
  },
  {
   "cell_type": "code",
   "execution_count": 15,
   "id": "22090192",
   "metadata": {
    "execution": {
     "iopub.execute_input": "2024-10-27T11:24:28.983754Z",
     "iopub.status.busy": "2024-10-27T11:24:28.983287Z",
     "iopub.status.idle": "2024-10-27T11:24:28.999439Z",
     "shell.execute_reply": "2024-10-27T11:24:28.998302Z"
    },
    "papermill": {
     "duration": 0.035899,
     "end_time": "2024-10-27T11:24:29.002876",
     "exception": false,
     "start_time": "2024-10-27T11:24:28.966977",
     "status": "completed"
    },
    "tags": []
   },
   "outputs": [
    {
     "data": {
      "text/plain": [
       "array([[0.06315789, 0.        , 0.04318774, 0.10099337, 0.06      ,\n",
       "        0.10163593, 0.25479452, 0.06841244],\n",
       "       [0.37894737, 0.06666667, 0.04982587, 0.23638065, 0.38      ,\n",
       "        0.22370269, 0.28219178, 0.51358429],\n",
       "       [0.04210526, 0.06666667, 0.05979304, 0.04910518, 0.06      ,\n",
       "        0.0614027 , 0.50410959, 0.17905074],\n",
       "       [0.        , 0.        , 0.00996385, 0.00886015, 0.        ,\n",
       "        0.00874892, 0.36438356, 0.04615385],\n",
       "       [0.        , 0.        , 0.01328624, 0.01887871, 0.        ,\n",
       "        0.01875013, 0.23013699, 0.21702128]])"
      ]
     },
     "execution_count": 15,
     "metadata": {},
     "output_type": "execute_result"
    }
   ],
   "source": [
    "sc = MinMaxScaler((0, 1))\n",
    "df_new = sc.fit_transform(df_new)\n",
    "df_new[0:5]"
   ]
  },
  {
   "cell_type": "code",
   "execution_count": 16,
   "id": "b4216990",
   "metadata": {
    "execution": {
     "iopub.execute_input": "2024-10-27T11:24:29.035352Z",
     "iopub.status.busy": "2024-10-27T11:24:29.034841Z",
     "iopub.status.idle": "2024-10-27T11:25:03.185658Z",
     "shell.execute_reply": "2024-10-27T11:25:03.184482Z"
    },
    "papermill": {
     "duration": 34.188281,
     "end_time": "2024-10-27T11:25:03.206841",
     "exception": false,
     "start_time": "2024-10-27T11:24:29.018560",
     "status": "completed"
    },
    "tags": []
   },
   "outputs": [
    {
     "data": {
      "image/png": "[encoded data removed]",
      "text/plain": [
       "<Figure size 1200x1200 with 2 Axes>"
      ]
     },
     "metadata": {},
     "output_type": "display_data"
    },
    {
     "data": {
      "text/plain": [
       "<Axes: title={'center': 'Distortion Score Elbow for KMeans Clustering'}, xlabel='k', ylabel='distortion score'>"
      ]
     },
     "execution_count": 16,
     "metadata": {},
     "output_type": "execute_result"
    }
   ],
   "source": [
    "kmeans = KMeans()\n",
    "elbow = KElbowVisualizer(kmeans, k=(2, 20))\n",
    "elbow.fit(df_new)\n",
    "elbow.show()"
   ]
  },
  {
   "cell_type": "code",
   "execution_count": 17,
   "id": "0c38fd8d",
   "metadata": {
    "execution": {
     "iopub.execute_input": "2024-10-27T11:25:03.242136Z",
     "iopub.status.busy": "2024-10-27T11:25:03.241672Z",
     "iopub.status.idle": "2024-10-27T11:25:03.249478Z",
     "shell.execute_reply": "2024-10-27T11:25:03.248323Z"
    },
    "papermill": {
     "duration": 0.028412,
     "end_time": "2024-10-27T11:25:03.251935",
     "exception": false,
     "start_time": "2024-10-27T11:25:03.223523",
     "status": "completed"
    },
    "tags": []
   },
   "outputs": [
    {
     "data": {
      "text/plain": [
       "7"
      ]
     },
     "execution_count": 17,
     "metadata": {},
     "output_type": "execute_result"
    }
   ],
   "source": [
    "elbow.elbow_value_"
   ]
  },
  {
   "cell_type": "code",
   "execution_count": 18,
   "id": "8198bdc1",
   "metadata": {
    "execution": {
     "iopub.execute_input": "2024-10-27T11:25:03.287730Z",
     "iopub.status.busy": "2024-10-27T11:25:03.287262Z",
     "iopub.status.idle": "2024-10-27T11:25:04.846611Z",
     "shell.execute_reply": "2024-10-27T11:25:04.845628Z"
    },
    "papermill": {
     "duration": 1.580361,
     "end_time": "2024-10-27T11:25:04.849298",
     "exception": false,
     "start_time": "2024-10-27T11:25:03.268937",
     "status": "completed"
    },
    "tags": []
   },
   "outputs": [],
   "source": [
    "kmeans = KMeans(n_clusters=elbow.elbow_value_).fit(df_new)"
   ]
  },
  {
   "cell_type": "code",
   "execution_count": 19,
   "id": "bc94bc6c",
   "metadata": {
    "execution": {
     "iopub.execute_input": "2024-10-27T11:25:04.886486Z",
     "iopub.status.busy": "2024-10-27T11:25:04.885509Z",
     "iopub.status.idle": "2024-10-27T11:25:04.893000Z",
     "shell.execute_reply": "2024-10-27T11:25:04.891872Z"
    },
    "papermill": {
     "duration": 0.028093,
     "end_time": "2024-10-27T11:25:04.895395",
     "exception": false,
     "start_time": "2024-10-27T11:25:04.867302",
     "status": "completed"
    },
    "tags": []
   },
   "outputs": [
    {
     "data": {
      "text/plain": [
       "7"
      ]
     },
     "execution_count": 19,
     "metadata": {},
     "output_type": "execute_result"
    }
   ],
   "source": [
    "kmeans.n_clusters"
   ]
  },
  {
   "cell_type": "code",
   "execution_count": 20,
   "id": "4c84950c",
   "metadata": {
    "execution": {
     "iopub.execute_input": "2024-10-27T11:25:04.931408Z",
     "iopub.status.busy": "2024-10-27T11:25:04.930913Z",
     "iopub.status.idle": "2024-10-27T11:25:04.939222Z",
     "shell.execute_reply": "2024-10-27T11:25:04.938033Z"
    },
    "papermill": {
     "duration": 0.029207,
     "end_time": "2024-10-27T11:25:04.941620",
     "exception": false,
     "start_time": "2024-10-27T11:25:04.912413",
     "status": "completed"
    },
    "tags": []
   },
   "outputs": [
    {
     "data": {
      "text/plain": [
       "array([[0.07283184, 0.0595122 , 0.07969681, 0.0687024 , 0.0870439 ,\n",
       "        0.0855509 , 0.71758904, 0.63284436],\n",
       "       [0.02150299, 0.04408959, 0.06569802, 0.04003587, 0.03365472,\n",
       "        0.0553975 , 0.81862915, 0.22283702],\n",
       "       [0.03241088, 0.0397599 , 0.06635419, 0.05358333, 0.04271831,\n",
       "        0.06760929, 0.11144581, 0.18334152],\n",
       "       [0.02398976, 0.04092888, 0.06581872, 0.04367491, 0.03506894,\n",
       "        0.05865876, 0.4323399 , 0.20370921],\n",
       "       [0.38083974, 0.07815231, 0.08826669, 0.39905826, 0.38632959,\n",
       "        0.38276389, 0.21721307, 0.46875939],\n",
       "       [0.08343728, 0.05913606, 0.07883521, 0.07980442, 0.09700624,\n",
       "        0.09507974, 0.19782037, 0.60553879],\n",
       "       [0.04461647, 0.30505232, 0.28285623, 0.0662588 , 0.14059193,\n",
       "        0.15552073, 0.19837091, 0.25176547]])"
      ]
     },
     "execution_count": 20,
     "metadata": {},
     "output_type": "execute_result"
    }
   ],
   "source": [
    "kmeans.cluster_centers_"
   ]
  },
  {
   "cell_type": "code",
   "execution_count": 21,
   "id": "4481e436",
   "metadata": {
    "execution": {
     "iopub.execute_input": "2024-10-27T11:25:04.979287Z",
     "iopub.status.busy": "2024-10-27T11:25:04.978779Z",
     "iopub.status.idle": "2024-10-27T11:25:04.986756Z",
     "shell.execute_reply": "2024-10-27T11:25:04.985613Z"
    },
    "papermill": {
     "duration": 0.029226,
     "end_time": "2024-10-27T11:25:04.989259",
     "exception": false,
     "start_time": "2024-10-27T11:25:04.960033",
     "status": "completed"
    },
    "tags": []
   },
   "outputs": [
    {
     "data": {
      "text/plain": [
       "array([2, 4, 3, ..., 2, 6, 1], dtype=int32)"
      ]
     },
     "execution_count": 21,
     "metadata": {},
     "output_type": "execute_result"
    }
   ],
   "source": [
    "kmeans.labels_"
   ]
  },
  {
   "cell_type": "code",
   "execution_count": 22,
   "id": "16a0a95e",
   "metadata": {
    "execution": {
     "iopub.execute_input": "2024-10-27T11:25:05.027320Z",
     "iopub.status.busy": "2024-10-27T11:25:05.026425Z",
     "iopub.status.idle": "2024-10-27T11:25:05.031631Z",
     "shell.execute_reply": "2024-10-27T11:25:05.030464Z"
    },
    "papermill": {
     "duration": 0.02681,
     "end_time": "2024-10-27T11:25:05.034134",
     "exception": false,
     "start_time": "2024-10-27T11:25:05.007324",
     "status": "completed"
    },
    "tags": []
   },
   "outputs": [],
   "source": [
    "clusters_kmeans = kmeans.labels_"
   ]
  },
  {
   "cell_type": "code",
   "execution_count": 23,
   "id": "3acd1212",
   "metadata": {
    "execution": {
     "iopub.execute_input": "2024-10-27T11:25:05.071157Z",
     "iopub.status.busy": "2024-10-27T11:25:05.070709Z",
     "iopub.status.idle": "2024-10-27T11:25:05.076550Z",
     "shell.execute_reply": "2024-10-27T11:25:05.075388Z"
    },
    "papermill": {
     "duration": 0.027137,
     "end_time": "2024-10-27T11:25:05.078953",
     "exception": false,
     "start_time": "2024-10-27T11:25:05.051816",
     "status": "completed"
    },
    "tags": []
   },
   "outputs": [],
   "source": [
    "df_new = pd.DataFrame(df_new, columns=num_cols)"
   ]
  },
  {
   "cell_type": "code",
   "execution_count": 24,
   "id": "8ba570b6",
   "metadata": {
    "execution": {
     "iopub.execute_input": "2024-10-27T11:25:05.115890Z",
     "iopub.status.busy": "2024-10-27T11:25:05.115436Z",
     "iopub.status.idle": "2024-10-27T11:25:05.121633Z",
     "shell.execute_reply": "2024-10-27T11:25:05.120492Z"
    },
    "papermill": {
     "duration": 0.02784,
     "end_time": "2024-10-27T11:25:05.124301",
     "exception": false,
     "start_time": "2024-10-27T11:25:05.096461",
     "status": "completed"
    },
    "tags": []
   },
   "outputs": [],
   "source": [
    "df_new[\"cluster\"] = clusters_kmeans"
   ]
  },
  {
   "cell_type": "code",
   "execution_count": 25,
   "id": "d6f400a9",
   "metadata": {
    "execution": {
     "iopub.execute_input": "2024-10-27T11:25:05.162322Z",
     "iopub.status.busy": "2024-10-27T11:25:05.161869Z",
     "iopub.status.idle": "2024-10-27T11:25:05.168085Z",
     "shell.execute_reply": "2024-10-27T11:25:05.167105Z"
    },
    "papermill": {
     "duration": 0.028431,
     "end_time": "2024-10-27T11:25:05.170508",
     "exception": false,
     "start_time": "2024-10-27T11:25:05.142077",
     "status": "completed"
    },
    "tags": []
   },
   "outputs": [],
   "source": [
    "df_new[\"cluster\"] = df_new[\"cluster\"] + 1"
   ]
  },
  {
   "cell_type": "code",
   "execution_count": 26,
   "id": "962092be",
   "metadata": {
    "execution": {
     "iopub.execute_input": "2024-10-27T11:25:05.208173Z",
     "iopub.status.busy": "2024-10-27T11:25:05.207095Z",
     "iopub.status.idle": "2024-10-27T11:25:05.223159Z",
     "shell.execute_reply": "2024-10-27T11:25:05.221942Z"
    },
    "papermill": {
     "duration": 0.037759,
     "end_time": "2024-10-27T11:25:05.225814",
     "exception": false,
     "start_time": "2024-10-27T11:25:05.188055",
     "status": "completed"
    },
    "tags": []
   },
   "outputs": [
    {
     "data": {
      "text/html": [
       "<div>\n",
       "<style scoped>\n",
       "    .dataframe tbody tr th:only-of-type {\n",
       "        vertical-align: middle;\n",
       "    }\n",
       "\n",
       "    .dataframe tbody tr th {\n",
       "        vertical-align: top;\n",
       "    }\n",
       "\n",
       "    .dataframe thead th {\n",
       "        text-align: right;\n",
       "    }\n",
       "</style>\n",
       "<table border=\"1\" class=\"dataframe\">\n",
       "  <thead>\n",
       "    <tr style=\"text-align: right;\">\n",
       "      <th></th>\n",
       "      <th>order_num_total_ever_online</th>\n",
       "      <th>order_num_total_ever_offline</th>\n",
       "      <th>customer_value_total_ever_offline</th>\n",
       "      <th>customer_value_total_ever_online</th>\n",
       "      <th>order_num_total</th>\n",
       "      <th>customer_value_total</th>\n",
       "      <th>recency</th>\n",
       "      <th>tenure</th>\n",
       "      <th>cluster</th>\n",
       "    </tr>\n",
       "  </thead>\n",
       "  <tbody>\n",
       "    <tr>\n",
       "      <th>0</th>\n",
       "      <td>0.063</td>\n",
       "      <td>0.000</td>\n",
       "      <td>0.043</td>\n",
       "      <td>0.101</td>\n",
       "      <td>0.060</td>\n",
       "      <td>0.102</td>\n",
       "      <td>0.255</td>\n",
       "      <td>0.068</td>\n",
       "      <td>3</td>\n",
       "    </tr>\n",
       "    <tr>\n",
       "      <th>1</th>\n",
       "      <td>0.379</td>\n",
       "      <td>0.067</td>\n",
       "      <td>0.050</td>\n",
       "      <td>0.236</td>\n",
       "      <td>0.380</td>\n",
       "      <td>0.224</td>\n",
       "      <td>0.282</td>\n",
       "      <td>0.514</td>\n",
       "      <td>5</td>\n",
       "    </tr>\n",
       "    <tr>\n",
       "      <th>2</th>\n",
       "      <td>0.042</td>\n",
       "      <td>0.067</td>\n",
       "      <td>0.060</td>\n",
       "      <td>0.049</td>\n",
       "      <td>0.060</td>\n",
       "      <td>0.061</td>\n",
       "      <td>0.504</td>\n",
       "      <td>0.179</td>\n",
       "      <td>4</td>\n",
       "    </tr>\n",
       "    <tr>\n",
       "      <th>3</th>\n",
       "      <td>0.000</td>\n",
       "      <td>0.000</td>\n",
       "      <td>0.010</td>\n",
       "      <td>0.009</td>\n",
       "      <td>0.000</td>\n",
       "      <td>0.009</td>\n",
       "      <td>0.364</td>\n",
       "      <td>0.046</td>\n",
       "      <td>4</td>\n",
       "    </tr>\n",
       "    <tr>\n",
       "      <th>4</th>\n",
       "      <td>0.000</td>\n",
       "      <td>0.000</td>\n",
       "      <td>0.013</td>\n",
       "      <td>0.019</td>\n",
       "      <td>0.000</td>\n",
       "      <td>0.019</td>\n",
       "      <td>0.230</td>\n",
       "      <td>0.217</td>\n",
       "      <td>3</td>\n",
       "    </tr>\n",
       "  </tbody>\n",
       "</table>\n",
       "</div>"
      ],
      "text/plain": [
       "   order_num_total_ever_online  order_num_total_ever_offline  customer_value_total_ever_offline  customer_value_total_ever_online  order_num_total  customer_value_total  recency  tenure  cluster\n",
       "0                        0.063                         0.000                              0.043                             0.101            0.060                 0.102    0.255   0.068        3\n",
       "1                        0.379                         0.067                              0.050                             0.236            0.380                 0.224    0.282   0.514        5\n",
       "2                        0.042                         0.067                              0.060                             0.049            0.060                 0.061    0.504   0.179        4\n",
       "3                        0.000                         0.000                              0.010                             0.009            0.000                 0.009    0.364   0.046        4\n",
       "4                        0.000                         0.000                              0.013                             0.019            0.000                 0.019    0.230   0.217        3"
      ]
     },
     "execution_count": 26,
     "metadata": {},
     "output_type": "execute_result"
    }
   ],
   "source": [
    "df_new.head()"
   ]
  },
  {
   "cell_type": "code",
   "execution_count": 27,
   "id": "a0a131d0",
   "metadata": {
    "execution": {
     "iopub.execute_input": "2024-10-27T11:25:05.263372Z",
     "iopub.status.busy": "2024-10-27T11:25:05.262857Z",
     "iopub.status.idle": "2024-10-27T11:25:05.333920Z",
     "shell.execute_reply": "2024-10-27T11:25:05.332713Z"
    },
    "papermill": {
     "duration": 0.093204,
     "end_time": "2024-10-27T11:25:05.336720",
     "exception": false,
     "start_time": "2024-10-27T11:25:05.243516",
     "status": "completed"
    },
    "tags": []
   },
   "outputs": [
    {
     "data": {
      "text/html": [
       "<div>\n",
       "<style scoped>\n",
       "    .dataframe tbody tr th:only-of-type {\n",
       "        vertical-align: middle;\n",
       "    }\n",
       "\n",
       "    .dataframe tbody tr th {\n",
       "        vertical-align: top;\n",
       "    }\n",
       "\n",
       "    .dataframe thead tr th {\n",
       "        text-align: left;\n",
       "    }\n",
       "\n",
       "    .dataframe thead tr:last-of-type th {\n",
       "        text-align: right;\n",
       "    }\n",
       "</style>\n",
       "<table border=\"1\" class=\"dataframe\">\n",
       "  <thead>\n",
       "    <tr>\n",
       "      <th></th>\n",
       "      <th colspan=\"5\" halign=\"left\">order_num_total_ever_online</th>\n",
       "      <th colspan=\"5\" halign=\"left\">order_num_total_ever_offline</th>\n",
       "      <th colspan=\"5\" halign=\"left\">customer_value_total_ever_offline</th>\n",
       "      <th colspan=\"5\" halign=\"left\">customer_value_total_ever_online</th>\n",
       "      <th colspan=\"5\" halign=\"left\">order_num_total</th>\n",
       "      <th colspan=\"5\" halign=\"left\">customer_value_total</th>\n",
       "      <th colspan=\"5\" halign=\"left\">recency</th>\n",
       "      <th colspan=\"5\" halign=\"left\">tenure</th>\n",
       "    </tr>\n",
       "    <tr>\n",
       "      <th></th>\n",
       "      <th>mean</th>\n",
       "      <th>max</th>\n",
       "      <th>min</th>\n",
       "      <th>median</th>\n",
       "      <th>count</th>\n",
       "      <th>mean</th>\n",
       "      <th>max</th>\n",
       "      <th>min</th>\n",
       "      <th>median</th>\n",
       "      <th>count</th>\n",
       "      <th>mean</th>\n",
       "      <th>max</th>\n",
       "      <th>min</th>\n",
       "      <th>median</th>\n",
       "      <th>count</th>\n",
       "      <th>mean</th>\n",
       "      <th>max</th>\n",
       "      <th>min</th>\n",
       "      <th>median</th>\n",
       "      <th>count</th>\n",
       "      <th>mean</th>\n",
       "      <th>max</th>\n",
       "      <th>min</th>\n",
       "      <th>median</th>\n",
       "      <th>count</th>\n",
       "      <th>mean</th>\n",
       "      <th>max</th>\n",
       "      <th>min</th>\n",
       "      <th>median</th>\n",
       "      <th>count</th>\n",
       "      <th>mean</th>\n",
       "      <th>max</th>\n",
       "      <th>min</th>\n",
       "      <th>median</th>\n",
       "      <th>count</th>\n",
       "      <th>mean</th>\n",
       "      <th>max</th>\n",
       "      <th>min</th>\n",
       "      <th>median</th>\n",
       "      <th>count</th>\n",
       "    </tr>\n",
       "    <tr>\n",
       "      <th>cluster</th>\n",
       "      <th></th>\n",
       "      <th></th>\n",
       "      <th></th>\n",
       "      <th></th>\n",
       "      <th></th>\n",
       "      <th></th>\n",
       "      <th></th>\n",
       "      <th></th>\n",
       "      <th></th>\n",
       "      <th></th>\n",
       "      <th></th>\n",
       "      <th></th>\n",
       "      <th></th>\n",
       "      <th></th>\n",
       "      <th></th>\n",
       "      <th></th>\n",
       "      <th></th>\n",
       "      <th></th>\n",
       "      <th></th>\n",
       "      <th></th>\n",
       "      <th></th>\n",
       "      <th></th>\n",
       "      <th></th>\n",
       "      <th></th>\n",
       "      <th></th>\n",
       "      <th></th>\n",
       "      <th></th>\n",
       "      <th></th>\n",
       "      <th></th>\n",
       "      <th></th>\n",
       "      <th></th>\n",
       "      <th></th>\n",
       "      <th></th>\n",
       "      <th></th>\n",
       "      <th></th>\n",
       "      <th></th>\n",
       "      <th></th>\n",
       "      <th></th>\n",
       "      <th></th>\n",
       "      <th></th>\n",
       "    </tr>\n",
       "  </thead>\n",
       "  <tbody>\n",
       "    <tr>\n",
       "      <th>1</th>\n",
       "      <td>0.073</td>\n",
       "      <td>0.505</td>\n",
       "      <td>0.000</td>\n",
       "      <td>0.042</td>\n",
       "      <td>1022</td>\n",
       "      <td>0.060</td>\n",
       "      <td>0.667</td>\n",
       "      <td>0.000</td>\n",
       "      <td>0.000</td>\n",
       "      <td>1022</td>\n",
       "      <td>0.080</td>\n",
       "      <td>0.613</td>\n",
       "      <td>0.001</td>\n",
       "      <td>0.056</td>\n",
       "      <td>1022</td>\n",
       "      <td>0.069</td>\n",
       "      <td>0.430</td>\n",
       "      <td>0.000</td>\n",
       "      <td>0.046</td>\n",
       "      <td>1022</td>\n",
       "      <td>0.087</td>\n",
       "      <td>0.500</td>\n",
       "      <td>0.000</td>\n",
       "      <td>0.060</td>\n",
       "      <td>1022</td>\n",
       "      <td>0.086</td>\n",
       "      <td>0.403</td>\n",
       "      <td>0.005</td>\n",
       "      <td>0.069</td>\n",
       "      <td>1022</td>\n",
       "      <td>0.718</td>\n",
       "      <td>1.000</td>\n",
       "      <td>0.447</td>\n",
       "      <td>0.704</td>\n",
       "      <td>1022</td>\n",
       "      <td>0.632</td>\n",
       "      <td>0.996</td>\n",
       "      <td>0.355</td>\n",
       "      <td>0.614</td>\n",
       "      <td>1022</td>\n",
       "    </tr>\n",
       "    <tr>\n",
       "      <th>2</th>\n",
       "      <td>0.022</td>\n",
       "      <td>0.358</td>\n",
       "      <td>0.000</td>\n",
       "      <td>0.000</td>\n",
       "      <td>3319</td>\n",
       "      <td>0.044</td>\n",
       "      <td>0.733</td>\n",
       "      <td>0.000</td>\n",
       "      <td>0.000</td>\n",
       "      <td>3319</td>\n",
       "      <td>0.066</td>\n",
       "      <td>0.568</td>\n",
       "      <td>0.000</td>\n",
       "      <td>0.047</td>\n",
       "      <td>3319</td>\n",
       "      <td>0.040</td>\n",
       "      <td>0.452</td>\n",
       "      <td>0.000</td>\n",
       "      <td>0.027</td>\n",
       "      <td>3319</td>\n",
       "      <td>0.034</td>\n",
       "      <td>0.340</td>\n",
       "      <td>0.000</td>\n",
       "      <td>0.020</td>\n",
       "      <td>3319</td>\n",
       "      <td>0.055</td>\n",
       "      <td>0.406</td>\n",
       "      <td>0.000</td>\n",
       "      <td>0.045</td>\n",
       "      <td>3319</td>\n",
       "      <td>0.819</td>\n",
       "      <td>1.000</td>\n",
       "      <td>0.622</td>\n",
       "      <td>0.841</td>\n",
       "      <td>3319</td>\n",
       "      <td>0.223</td>\n",
       "      <td>0.490</td>\n",
       "      <td>0.077</td>\n",
       "      <td>0.209</td>\n",
       "      <td>3319</td>\n",
       "    </tr>\n",
       "    <tr>\n",
       "      <th>3</th>\n",
       "      <td>0.032</td>\n",
       "      <td>0.358</td>\n",
       "      <td>0.000</td>\n",
       "      <td>0.021</td>\n",
       "      <td>6996</td>\n",
       "      <td>0.040</td>\n",
       "      <td>0.267</td>\n",
       "      <td>0.000</td>\n",
       "      <td>0.000</td>\n",
       "      <td>6996</td>\n",
       "      <td>0.066</td>\n",
       "      <td>0.464</td>\n",
       "      <td>0.001</td>\n",
       "      <td>0.053</td>\n",
       "      <td>6996</td>\n",
       "      <td>0.054</td>\n",
       "      <td>0.457</td>\n",
       "      <td>0.000</td>\n",
       "      <td>0.036</td>\n",
       "      <td>6996</td>\n",
       "      <td>0.043</td>\n",
       "      <td>0.340</td>\n",
       "      <td>0.000</td>\n",
       "      <td>0.040</td>\n",
       "      <td>6996</td>\n",
       "      <td>0.068</td>\n",
       "      <td>0.436</td>\n",
       "      <td>0.001</td>\n",
       "      <td>0.055</td>\n",
       "      <td>6996</td>\n",
       "      <td>0.111</td>\n",
       "      <td>0.282</td>\n",
       "      <td>0.000</td>\n",
       "      <td>0.093</td>\n",
       "      <td>6996</td>\n",
       "      <td>0.183</td>\n",
       "      <td>0.435</td>\n",
       "      <td>0.000</td>\n",
       "      <td>0.189</td>\n",
       "      <td>6996</td>\n",
       "    </tr>\n",
       "    <tr>\n",
       "      <th>4</th>\n",
       "      <td>0.024</td>\n",
       "      <td>0.358</td>\n",
       "      <td>0.000</td>\n",
       "      <td>0.000</td>\n",
       "      <td>5514</td>\n",
       "      <td>0.041</td>\n",
       "      <td>0.333</td>\n",
       "      <td>0.000</td>\n",
       "      <td>0.000</td>\n",
       "      <td>5514</td>\n",
       "      <td>0.066</td>\n",
       "      <td>0.442</td>\n",
       "      <td>0.000</td>\n",
       "      <td>0.050</td>\n",
       "      <td>5514</td>\n",
       "      <td>0.044</td>\n",
       "      <td>0.383</td>\n",
       "      <td>0.001</td>\n",
       "      <td>0.029</td>\n",
       "      <td>5514</td>\n",
       "      <td>0.035</td>\n",
       "      <td>0.340</td>\n",
       "      <td>0.000</td>\n",
       "      <td>0.020</td>\n",
       "      <td>5514</td>\n",
       "      <td>0.059</td>\n",
       "      <td>0.363</td>\n",
       "      <td>0.001</td>\n",
       "      <td>0.048</td>\n",
       "      <td>5514</td>\n",
       "      <td>0.432</td>\n",
       "      <td>0.630</td>\n",
       "      <td>0.263</td>\n",
       "      <td>0.433</td>\n",
       "      <td>5514</td>\n",
       "      <td>0.204</td>\n",
       "      <td>0.502</td>\n",
       "      <td>0.033</td>\n",
       "      <td>0.200</td>\n",
       "      <td>5514</td>\n",
       "    </tr>\n",
       "    <tr>\n",
       "      <th>5</th>\n",
       "      <td>0.381</td>\n",
       "      <td>1.000</td>\n",
       "      <td>0.042</td>\n",
       "      <td>0.337</td>\n",
       "      <td>534</td>\n",
       "      <td>0.078</td>\n",
       "      <td>1.000</td>\n",
       "      <td>0.000</td>\n",
       "      <td>0.067</td>\n",
       "      <td>534</td>\n",
       "      <td>0.088</td>\n",
       "      <td>1.000</td>\n",
       "      <td>0.001</td>\n",
       "      <td>0.060</td>\n",
       "      <td>534</td>\n",
       "      <td>0.399</td>\n",
       "      <td>1.000</td>\n",
       "      <td>0.115</td>\n",
       "      <td>0.349</td>\n",
       "      <td>534</td>\n",
       "      <td>0.386</td>\n",
       "      <td>1.000</td>\n",
       "      <td>0.040</td>\n",
       "      <td>0.340</td>\n",
       "      <td>534</td>\n",
       "      <td>0.383</td>\n",
       "      <td>1.000</td>\n",
       "      <td>0.141</td>\n",
       "      <td>0.334</td>\n",
       "      <td>534</td>\n",
       "      <td>0.217</td>\n",
       "      <td>0.940</td>\n",
       "      <td>0.000</td>\n",
       "      <td>0.153</td>\n",
       "      <td>534</td>\n",
       "      <td>0.469</td>\n",
       "      <td>1.000</td>\n",
       "      <td>0.028</td>\n",
       "      <td>0.453</td>\n",
       "      <td>534</td>\n",
       "    </tr>\n",
       "    <tr>\n",
       "      <th>6</th>\n",
       "      <td>0.083</td>\n",
       "      <td>0.316</td>\n",
       "      <td>0.000</td>\n",
       "      <td>0.063</td>\n",
       "      <td>1445</td>\n",
       "      <td>0.059</td>\n",
       "      <td>0.533</td>\n",
       "      <td>0.000</td>\n",
       "      <td>0.067</td>\n",
       "      <td>1445</td>\n",
       "      <td>0.079</td>\n",
       "      <td>0.468</td>\n",
       "      <td>0.001</td>\n",
       "      <td>0.063</td>\n",
       "      <td>1445</td>\n",
       "      <td>0.080</td>\n",
       "      <td>0.364</td>\n",
       "      <td>0.001</td>\n",
       "      <td>0.063</td>\n",
       "      <td>1445</td>\n",
       "      <td>0.097</td>\n",
       "      <td>0.320</td>\n",
       "      <td>0.000</td>\n",
       "      <td>0.080</td>\n",
       "      <td>1445</td>\n",
       "      <td>0.095</td>\n",
       "      <td>0.384</td>\n",
       "      <td>0.000</td>\n",
       "      <td>0.084</td>\n",
       "      <td>1445</td>\n",
       "      <td>0.198</td>\n",
       "      <td>0.463</td>\n",
       "      <td>0.000</td>\n",
       "      <td>0.200</td>\n",
       "      <td>1445</td>\n",
       "      <td>0.606</td>\n",
       "      <td>0.998</td>\n",
       "      <td>0.344</td>\n",
       "      <td>0.584</td>\n",
       "      <td>1445</td>\n",
       "    </tr>\n",
       "    <tr>\n",
       "      <th>7</th>\n",
       "      <td>0.045</td>\n",
       "      <td>0.337</td>\n",
       "      <td>0.000</td>\n",
       "      <td>0.021</td>\n",
       "      <td>1115</td>\n",
       "      <td>0.305</td>\n",
       "      <td>1.000</td>\n",
       "      <td>0.000</td>\n",
       "      <td>0.267</td>\n",
       "      <td>1115</td>\n",
       "      <td>0.283</td>\n",
       "      <td>1.000</td>\n",
       "      <td>0.027</td>\n",
       "      <td>0.240</td>\n",
       "      <td>1115</td>\n",
       "      <td>0.066</td>\n",
       "      <td>0.445</td>\n",
       "      <td>0.000</td>\n",
       "      <td>0.045</td>\n",
       "      <td>1115</td>\n",
       "      <td>0.141</td>\n",
       "      <td>1.000</td>\n",
       "      <td>0.020</td>\n",
       "      <td>0.120</td>\n",
       "      <td>1115</td>\n",
       "      <td>0.156</td>\n",
       "      <td>1.000</td>\n",
       "      <td>0.033</td>\n",
       "      <td>0.134</td>\n",
       "      <td>1115</td>\n",
       "      <td>0.198</td>\n",
       "      <td>0.915</td>\n",
       "      <td>0.000</td>\n",
       "      <td>0.178</td>\n",
       "      <td>1115</td>\n",
       "      <td>0.252</td>\n",
       "      <td>0.909</td>\n",
       "      <td>0.016</td>\n",
       "      <td>0.249</td>\n",
       "      <td>1115</td>\n",
       "    </tr>\n",
       "  </tbody>\n",
       "</table>\n",
       "</div>"
      ],
      "text/plain": [
       "        order_num_total_ever_online                          order_num_total_ever_offline                          customer_value_total_ever_offline                          customer_value_total_ever_online                          order_num_total                          customer_value_total                          recency                          tenure                         \n",
       "                               mean   max   min median count                         mean   max   min median count                              mean   max   min median count                             mean   max   min median count            mean   max   min median count                 mean   max   min median count    mean   max   min median count   mean   max   min median count\n",
       "cluster                                                                                                                                                                                                                                                                                                                                                                                        \n",
       "1                             0.073 0.505 0.000  0.042  1022                        0.060 0.667 0.000  0.000  1022                             0.080 0.613 0.001  0.056  1022                            0.069 0.430 0.000  0.046  1022           0.087 0.500 0.000  0.060  1022                0.086 0.403 0.005  0.069  1022   0.718 1.000 0.447  0.704  1022  0.632 0.996 0.355  0.614  1022\n",
       "2                             0.022 0.358 0.000  0.000  3319                        0.044 0.733 0.000  0.000  3319                             0.066 0.568 0.000  0.047  3319                            0.040 0.452 0.000  0.027  3319           0.034 0.340 0.000  0.020  3319                0.055 0.406 0.000  0.045  3319   0.819 1.000 0.622  0.841  3319  0.223 0.490 0.077  0.209  3319\n",
       "3                             0.032 0.358 0.000  0.021  6996                        0.040 0.267 0.000  0.000  6996                             0.066 0.464 0.001  0.053  6996                            0.054 0.457 0.000  0.036  6996           0.043 0.340 0.000  0.040  6996                0.068 0.436 0.001  0.055  6996   0.111 0.282 0.000  0.093  6996  0.183 0.435 0.000  0.189  6996\n",
       "4                             0.024 0.358 0.000  0.000  5514                        0.041 0.333 0.000  0.000  5514                             0.066 0.442 0.000  0.050  5514                            0.044 0.383 0.001  0.029  5514           0.035 0.340 0.000  0.020  5514                0.059 0.363 0.001  0.048  5514   0.432 0.630 0.263  0.433  5514  0.204 0.502 0.033  0.200  5514\n",
       "5                             0.381 1.000 0.042  0.337   534                        0.078 1.000 0.000  0.067   534                             0.088 1.000 0.001  0.060   534                            0.399 1.000 0.115  0.349   534           0.386 1.000 0.040  0.340   534                0.383 1.000 0.141  0.334   534   0.217 0.940 0.000  0.153   534  0.469 1.000 0.028  0.453   534\n",
       "6                             0.083 0.316 0.000  0.063  1445                        0.059 0.533 0.000  0.067  1445                             0.079 0.468 0.001  0.063  1445                            0.080 0.364 0.001  0.063  1445           0.097 0.320 0.000  0.080  1445                0.095 0.384 0.000  0.084  1445   0.198 0.463 0.000  0.200  1445  0.606 0.998 0.344  0.584  1445\n",
       "7                             0.045 0.337 0.000  0.021  1115                        0.305 1.000 0.000  0.267  1115                             0.283 1.000 0.027  0.240  1115                            0.066 0.445 0.000  0.045  1115           0.141 1.000 0.020  0.120  1115                0.156 1.000 0.033  0.134  1115   0.198 0.915 0.000  0.178  1115  0.252 0.909 0.016  0.249  1115"
      ]
     },
     "execution_count": 27,
     "metadata": {},
     "output_type": "execute_result"
    }
   ],
   "source": [
    "df_new.groupby(\"cluster\").agg({\"mean\",\"median\", \"min\", \"max\",\"count\"})"
   ]
  },
  {
   "cell_type": "markdown",
   "id": "45c8ead4",
   "metadata": {
    "papermill": {
     "duration": 0.018333,
     "end_time": "2024-10-27T11:25:05.374848",
     "exception": false,
     "start_time": "2024-10-27T11:25:05.356515",
     "status": "completed"
    },
    "tags": []
   },
   "source": [
    "* Cluster 7 has highest max/mean values for 'customer_value_total',  relatively recent engagement 'recency' and 'highest order_num_total'. Cluster 7 fits the definition of Champions better than other clusters.\n",
    "\n",
    "* Cluster 4 and 5 could represent Loyal Customers / Potential Loyalists due to its high tenure but not the most recent engagement.\n",
    "\n",
    "* Cluster 6 could represent \"About to Sleep\" or \"Hibernating\" as they have  low customer_value_total mean and max, low order_num_total.\n",
    "\n",
    "* Cluster 1 could represent 'Promising' as they have moderate values in customer_value_total and order_num_total with decent recency.\n",
    "\n",
    "* Cluster 2 and 3 could represent 'At-Risk Customers'. These customers may have made significant purchases in the past but haven’t engaged recently. They could be a focus for win-back campaigns to prevent churn.\n",
    "\n",
    "\n",
    "Targeted Strategies:\n",
    "High-Value Clusters: Consider retention strategies, loyalty programs, or exclusive offers.\n",
    "Frequent Buyers: Clusters where order_num_total strongly correlates with customer_value_total might respond well to volume-based discounts or subscription models.\n",
    "New or Low Tenure Customers: For clusters with low tenure but high potential (e.g., Cluster 6), we should consider engagement strategies to increase their customer lifetime value.\n"
   ]
  },
  {
   "cell_type": "code",
   "execution_count": 28,
   "id": "46dc4329",
   "metadata": {
    "execution": {
     "iopub.execute_input": "2024-10-27T11:25:05.413845Z",
     "iopub.status.busy": "2024-10-27T11:25:05.413396Z",
     "iopub.status.idle": "2024-10-27T11:25:05.468107Z",
     "shell.execute_reply": "2024-10-27T11:25:05.467076Z"
    },
    "papermill": {
     "duration": 0.078666,
     "end_time": "2024-10-27T11:25:05.472055",
     "exception": false,
     "start_time": "2024-10-27T11:25:05.393389",
     "status": "completed"
    },
    "tags": []
   },
   "outputs": [
    {
     "name": "stdout",
     "output_type": "stream",
     "text": [
      "Normality tests for Cluster 3:\n",
      "order_num_total_ever_online - Shapiro-Wilk p-value: 1.4438415445512626e-73\n",
      "order_num_total_ever_offline - Shapiro-Wilk p-value: 2.5771029103443546e-75\n",
      "customer_value_total_ever_offline - Shapiro-Wilk p-value: 1.1714076255672874e-58\n",
      "customer_value_total_ever_online - Shapiro-Wilk p-value: 2.107929232102274e-69\n",
      "order_num_total - Shapiro-Wilk p-value: 5.9984834239554075e-65\n",
      "customer_value_total - Shapiro-Wilk p-value: 8.804044336558193e-62\n",
      "recency - Shapiro-Wilk p-value: 1.86600862900091e-47\n",
      "tenure - Shapiro-Wilk p-value: 1.3803730248860264e-28\n",
      "\n",
      "\n",
      "Normality tests for Cluster 5:\n",
      "order_num_total_ever_online - Shapiro-Wilk p-value: 4.792803653964101e-22\n",
      "order_num_total_ever_offline - Shapiro-Wilk p-value: 1.12333048698512e-30\n",
      "customer_value_total_ever_offline - Shapiro-Wilk p-value: 1.2196838766142699e-29\n",
      "customer_value_total_ever_online - Shapiro-Wilk p-value: 9.09588448824861e-22\n",
      "order_num_total - Shapiro-Wilk p-value: 5.113723918836894e-22\n",
      "customer_value_total - Shapiro-Wilk p-value: 8.979953033376728e-23\n",
      "recency - Shapiro-Wilk p-value: 2.592055962841709e-19\n",
      "tenure - Shapiro-Wilk p-value: 3.1974331704361697e-10\n",
      "\n",
      "\n",
      "Normality tests for Cluster 4:\n",
      "order_num_total_ever_online - Shapiro-Wilk p-value: 5.466526412432878e-72\n",
      "order_num_total_ever_offline - Shapiro-Wilk p-value: 5.4150259445372874e-71\n",
      "customer_value_total_ever_offline - Shapiro-Wilk p-value: 1.5451617830798287e-56\n",
      "customer_value_total_ever_online - Shapiro-Wilk p-value: 1.2396485048149526e-67\n",
      "order_num_total - Shapiro-Wilk p-value: 7.4662959651854795e-62\n",
      "customer_value_total - Shapiro-Wilk p-value: 1.089931205709483e-58\n",
      "recency - Shapiro-Wilk p-value: 1.0062322927026621e-38\n",
      "tenure - Shapiro-Wilk p-value: 1.1682900229758378e-29\n",
      "\n",
      "\n",
      "Normality tests for Cluster 2:\n",
      "order_num_total_ever_online - Shapiro-Wilk p-value: 1.2428080880297505e-63\n",
      "order_num_total_ever_offline - Shapiro-Wilk p-value: 1.0919343096173302e-62\n",
      "customer_value_total_ever_offline - Shapiro-Wilk p-value: 1.4857061198481805e-53\n",
      "customer_value_total_ever_online - Shapiro-Wilk p-value: 9.806159635356303e-58\n",
      "order_num_total - Shapiro-Wilk p-value: 2.8854433932958745e-55\n",
      "customer_value_total - Shapiro-Wilk p-value: 5.179136666183585e-50\n",
      "recency - Shapiro-Wilk p-value: 1.958051156446283e-36\n",
      "tenure - Shapiro-Wilk p-value: 4.126057612881239e-31\n",
      "\n",
      "\n",
      "Normality tests for Cluster 6:\n",
      "order_num_total_ever_online - Shapiro-Wilk p-value: 1.2686349720027503e-28\n",
      "order_num_total_ever_offline - Shapiro-Wilk p-value: 1.2404644874066018e-41\n",
      "customer_value_total_ever_offline - Shapiro-Wilk p-value: 1.024260522621978e-32\n",
      "customer_value_total_ever_online - Shapiro-Wilk p-value: 1.4843107632081087e-28\n",
      "order_num_total - Shapiro-Wilk p-value: 1.7638291159075414e-23\n",
      "customer_value_total - Shapiro-Wilk p-value: 3.813413693922289e-23\n",
      "recency - Shapiro-Wilk p-value: 2.870688635142485e-18\n",
      "tenure - Shapiro-Wilk p-value: 2.8814704489414057e-20\n",
      "\n",
      "\n",
      "Normality tests for Cluster 7:\n",
      "order_num_total_ever_online - Shapiro-Wilk p-value: 7.92170536795276e-36\n",
      "order_num_total_ever_offline - Shapiro-Wilk p-value: 4.543447590707449e-35\n",
      "customer_value_total_ever_offline - Shapiro-Wilk p-value: 7.526691003751959e-35\n",
      "customer_value_total_ever_online - Shapiro-Wilk p-value: 4.059155001791558e-33\n",
      "order_num_total - Shapiro-Wilk p-value: 1.8972050439218745e-44\n",
      "customer_value_total - Shapiro-Wilk p-value: 1.1195081973496219e-38\n",
      "recency - Shapiro-Wilk p-value: 4.5756089659306945e-23\n",
      "tenure - Shapiro-Wilk p-value: 6.590614201095609e-31\n",
      "\n",
      "\n",
      "Normality tests for Cluster 1:\n",
      "order_num_total_ever_online - Shapiro-Wilk p-value: 6.87415437594711e-32\n",
      "order_num_total_ever_offline - Shapiro-Wilk p-value: 1.9758993636264738e-39\n",
      "customer_value_total_ever_offline - Shapiro-Wilk p-value: 1.1458200276363909e-33\n",
      "customer_value_total_ever_online - Shapiro-Wilk p-value: 5.856385809989295e-32\n",
      "order_num_total - Shapiro-Wilk p-value: 4.8922266110402815e-28\n",
      "customer_value_total - Shapiro-Wilk p-value: 1.8407776725330152e-28\n",
      "recency - Shapiro-Wilk p-value: 1.2333780954972846e-17\n",
      "tenure - Shapiro-Wilk p-value: 1.5690954545002243e-15\n",
      "\n",
      "\n"
     ]
    },
    {
     "name": "stderr",
     "output_type": "stream",
     "text": [
      "/opt/conda/lib/python3.10/site-packages/scipy/stats/_axis_nan_policy.py:573: UserWarning: scipy.stats.shapiro: For N > 5000, computed p-value may not be accurate. Current N is 6996.\n",
      "  res = hypotest_fun_out(*samples, **kwds)\n",
      "/opt/conda/lib/python3.10/site-packages/scipy/stats/_axis_nan_policy.py:573: UserWarning: scipy.stats.shapiro: For N > 5000, computed p-value may not be accurate. Current N is 5514.\n",
      "  res = hypotest_fun_out(*samples, **kwds)\n"
     ]
    }
   ],
   "source": [
    "#Hypothesis\n",
    "# H0; normality is met\n",
    "# H1: normality is met\n",
    "\n",
    "from scipy.stats import shapiro\n",
    "\n",
    "# Specify the numeric columns to be analyzed\n",
    "numeric_columns = df_new.drop([\"cluster\"], axis=1)\n",
    "\n",
    "# Test for normality for each cluster and each numeric column\n",
    "for label in df_new[\"cluster\"].unique():\n",
    "    print(f\"Normality tests for Cluster {label}:\")\n",
    "    cluster_data = df_new[df_new[\"cluster\"] == label]\n",
    "    \n",
    "    for column in numeric_columns:\n",
    "        stat, p = shapiro(cluster_data[column])\n",
    "        print(f\"{column} - Shapiro-Wilk p-value: {p}\")\n",
    "        # If p < 0.05, the normality assumption is not met.\n",
    "    print(\"\\n\")  # Adds spaces to separate each cluster"
   ]
  },
  {
   "cell_type": "markdown",
   "id": "5029d594",
   "metadata": {
    "papermill": {
     "duration": 0.019423,
     "end_time": "2024-10-27T11:25:05.511080",
     "exception": false,
     "start_time": "2024-10-27T11:25:05.491657",
     "status": "completed"
    },
    "tags": []
   },
   "source": [
    "The results are written with a negative power of 10, so these values are actually very close to zero, well below 0.05\n",
    "1.1171185237531973e-58 means 1.1171185237531973 x 10^(-58), which is very close to zero \n",
    "This refers to a value that is almost zero (too many zeros), such as 0.000...001117\n",
    "\n",
    "Since I got this warning \"UserWarning: scipy.stats.shapiro: For N > 5000, computed p-value may not be accurate. Current N is 6998.\" when conducting Shapiro test, I will go ahead and try Kolmogorov-Smirnov normality test to make sure nothing goes unnoticed."
   ]
  },
  {
   "cell_type": "code",
   "execution_count": 29,
   "id": "e3f38966",
   "metadata": {
    "execution": {
     "iopub.execute_input": "2024-10-27T11:25:05.554243Z",
     "iopub.status.busy": "2024-10-27T11:25:05.553786Z",
     "iopub.status.idle": "2024-10-27T11:25:05.796649Z",
     "shell.execute_reply": "2024-10-27T11:25:05.795350Z"
    },
    "papermill": {
     "duration": 0.267385,
     "end_time": "2024-10-27T11:25:05.799238",
     "exception": false,
     "start_time": "2024-10-27T11:25:05.531853",
     "status": "completed"
    },
    "tags": []
   },
   "outputs": [
    {
     "name": "stdout",
     "output_type": "stream",
     "text": [
      "Kolmogorov-Smirnov normality test for Cluster 3:\n",
      "order_num_total_ever_online K-S test p-value: 0.0\n",
      "order_num_total_ever_offline K-S test p-value: 0.0\n",
      "customer_value_total_ever_offline K-S test p-value: 3.0703272639387446e-80\n",
      "customer_value_total_ever_online K-S test p-value: 6.522281234416815e-163\n",
      "order_num_total K-S test p-value: 3.531280234963322e-242\n",
      "customer_value_total K-S test p-value: 1.834248777992489e-91\n",
      "recency K-S test p-value: 2.4784884021489667e-66\n",
      "tenure K-S test p-value: 3.856554096495924e-24\n",
      "\n",
      "\n",
      "Kolmogorov-Smirnov normality test for Cluster 5:\n",
      "order_num_total_ever_online K-S test p-value: 6.840568607935771e-10\n",
      "order_num_total_ever_offline K-S test p-value: 5.442999138565393e-29\n",
      "customer_value_total_ever_offline K-S test p-value: 1.2658066984797715e-15\n",
      "customer_value_total_ever_online K-S test p-value: 1.4870849623568274e-10\n",
      "order_num_total K-S test p-value: 3.256984045316293e-11\n",
      "customer_value_total K-S test p-value: 9.634264472058777e-10\n",
      "recency K-S test p-value: 3.690397698855108e-10\n",
      "tenure K-S test p-value: 0.00011542092198075777\n",
      "\n",
      "\n",
      "Kolmogorov-Smirnov normality test for Cluster 4:\n",
      "order_num_total_ever_online K-S test p-value: 0.0\n",
      "order_num_total_ever_offline K-S test p-value: 0.0\n",
      "customer_value_total_ever_offline K-S test p-value: 3.587400408183642e-83\n",
      "customer_value_total_ever_online K-S test p-value: 4.912797820649224e-137\n",
      "order_num_total K-S test p-value: 1.0092928273259246e-225\n",
      "customer_value_total K-S test p-value: 2.49675858254368e-67\n",
      "recency K-S test p-value: 1.0072922858367838e-47\n",
      "tenure K-S test p-value: 6.482311439054443e-22\n",
      "\n",
      "\n",
      "Kolmogorov-Smirnov normality test for Cluster 2:\n",
      "order_num_total_ever_online K-S test p-value: 3.67187304884036e-214\n",
      "order_num_total_ever_offline K-S test p-value: 0.0\n",
      "customer_value_total_ever_offline K-S test p-value: 9.835478951037699e-67\n",
      "customer_value_total_ever_online K-S test p-value: 2.2361651464872328e-85\n",
      "order_num_total K-S test p-value: 4.3257800270423985e-161\n",
      "customer_value_total K-S test p-value: 1.889055217819438e-48\n",
      "recency K-S test p-value: 2.1024817030842376e-24\n",
      "tenure K-S test p-value: 3.024473639449066e-24\n",
      "\n",
      "\n",
      "Kolmogorov-Smirnov normality test for Cluster 6:\n",
      "order_num_total_ever_online K-S test p-value: 1.5493854335502519e-27\n",
      "order_num_total_ever_offline K-S test p-value: 2.4997036119883464e-97\n",
      "customer_value_total_ever_offline K-S test p-value: 1.7085322133759858e-16\n",
      "customer_value_total_ever_online K-S test p-value: 9.680803574394345e-17\n",
      "order_num_total K-S test p-value: 9.506169086394066e-20\n",
      "customer_value_total K-S test p-value: 1.476893120071334e-09\n",
      "recency K-S test p-value: 5.594337388953536e-05\n",
      "tenure K-S test p-value: 7.614353574929533e-12\n",
      "\n",
      "\n",
      "Kolmogorov-Smirnov normality test for Cluster 7:\n",
      "order_num_total_ever_online K-S test p-value: 3.278354049875357e-49\n",
      "order_num_total_ever_offline K-S test p-value: 2.5735468492119225e-53\n",
      "customer_value_total_ever_offline K-S test p-value: 2.5546872747351183e-21\n",
      "customer_value_total_ever_online K-S test p-value: 1.2338705981872212e-22\n",
      "order_num_total K-S test p-value: 1.0344844669555595e-41\n",
      "customer_value_total K-S test p-value: 7.859230128558072e-17\n",
      "recency K-S test p-value: 7.714894174713862e-09\n",
      "tenure K-S test p-value: 2.3651821331809515e-42\n",
      "\n",
      "\n",
      "Kolmogorov-Smirnov normality test for Cluster 1:\n",
      "order_num_total_ever_online K-S test p-value: 6.6128613075311275e-31\n",
      "order_num_total_ever_offline K-S test p-value: 1.4919485333034018e-68\n",
      "customer_value_total_ever_offline K-S test p-value: 7.339882511423284e-22\n",
      "customer_value_total_ever_online K-S test p-value: 7.921947937452316e-24\n",
      "order_num_total K-S test p-value: 2.3181819782684937e-22\n",
      "customer_value_total K-S test p-value: 3.743212844879883e-13\n",
      "recency K-S test p-value: 1.0722484995908778e-06\n",
      "tenure K-S test p-value: 3.0586966788838818e-09\n",
      "\n",
      "\n"
     ]
    }
   ],
   "source": [
    "#Hypothesis\n",
    "# H0; normality is met\n",
    "# H1: normality is met\n",
    "\n",
    "from scipy.stats import kstest\n",
    "\n",
    "# Loop through each cluster and each numeric column\n",
    "for label in df_new[\"cluster\"].unique():\n",
    "    print(f\"Kolmogorov-Smirnov normality test for Cluster {label}:\")\n",
    "    cluster_data = df_new[df_new[\"cluster\"] == label]\n",
    "\n",
    "    for column in numeric_columns:\n",
    "        # Perform K-S test against a normal distribution\n",
    "        stat, p = kstest(cluster_data[column], 'norm', args=(cluster_data[column].mean(), cluster_data[column].std()))\n",
    "        print(f\"{column} K-S test p-value: {p}\")\n",
    "        # p < 0.05 indicates non-normality\n",
    "    print(\"\\n\")"
   ]
  },
  {
   "cell_type": "markdown",
   "id": "feb326b9",
   "metadata": {
    "papermill": {
     "duration": 0.019003,
     "end_time": "2024-10-27T11:25:05.837445",
     "exception": false,
     "start_time": "2024-10-27T11:25:05.818442",
     "status": "completed"
    },
    "tags": []
   },
   "source": [
    "**important;**\n",
    "* The results are written with a negative power of 10, so these values are actually very close to zero, well below 0.05.\n",
    "* 1.1171185237531973e-58 means 1.1171185237531973 x 10^(-58), which is very close to zero. \n",
    "* This refers to a value that is almost zero (too many zeros), such as 0.000...001117\n",
    "\n",
    "* P-values < 0.5, therefore \"H0; normality is met\" is declined, in other words; normality isn't met.\n",
    "\n",
    "* Since normality isn't met, moving forward with Kruskal non-parametric test"
   ]
  },
  {
   "cell_type": "code",
   "execution_count": 30,
   "id": "a1e3d13e",
   "metadata": {
    "execution": {
     "iopub.execute_input": "2024-10-27T11:25:05.877845Z",
     "iopub.status.busy": "2024-10-27T11:25:05.877402Z",
     "iopub.status.idle": "2024-10-27T11:25:05.966915Z",
     "shell.execute_reply": "2024-10-27T11:25:05.965863Z"
    },
    "papermill": {
     "duration": 0.112822,
     "end_time": "2024-10-27T11:25:05.969592",
     "exception": false,
     "start_time": "2024-10-27T11:25:05.856770",
     "status": "completed"
    },
    "tags": []
   },
   "outputs": [
    {
     "name": "stdout",
     "output_type": "stream",
     "text": [
      "order_num_total_ever_online Kruskal-Wallis p-value: 0.0\n",
      "order_num_total_ever_offline Kruskal-Wallis p-value: 0.0\n",
      "customer_value_total_ever_offline Kruskal-Wallis p-value: 0.0\n",
      "customer_value_total_ever_online Kruskal-Wallis p-value: 0.0\n",
      "order_num_total Kruskal-Wallis p-value: 0.0\n",
      "customer_value_total Kruskal-Wallis p-value: 0.0\n",
      "recency Kruskal-Wallis p-value: 0.0\n",
      "tenure Kruskal-Wallis p-value: 0.0\n"
     ]
    }
   ],
   "source": [
    "#Since normality isn't met, conducting Kruskal non-parametric test\n",
    "from scipy.stats import kruskal\n",
    "\n",
    "# Perform Kruskal-Wallis test for each numeric column\n",
    "for column in numeric_columns:\n",
    "    data_per_cluster = [df_new[df_new[\"cluster\"] == label][column] for label in df_new[\"cluster\"].unique()]\n",
    "    stat, p = kruskal(*data_per_cluster)\n",
    "    print(f\"{column} Kruskal-Wallis p-value: {p}\")\n",
    "    # If p < 0.05, there is a significant difference between the clusters."
   ]
  },
  {
   "cell_type": "markdown",
   "id": "948ae0e6",
   "metadata": {
    "papermill": {
     "duration": 0.019512,
     "end_time": "2024-10-27T11:25:06.008478",
     "exception": false,
     "start_time": "2024-10-27T11:25:05.988966",
     "status": "completed"
    },
    "tags": []
   },
   "source": [
    "Based on the Kruskal-Wallis test results, the p-value for all variables was 0.0. In this case:\n",
    "\n",
    "Since p < 0.05, we can say that there are statistically significant differences between the clusters.\n",
    "\n",
    "In other words, at least one pair of clusters for each variable shows a significant difference in the distribution of this variable.\n",
    "\n",
    "These results reveal that there are differences in the distribution of all variables between the clusters."
   ]
  },
  {
   "cell_type": "code",
   "execution_count": 31,
   "id": "5addc168",
   "metadata": {
    "execution": {
     "iopub.execute_input": "2024-10-27T11:25:06.049670Z",
     "iopub.status.busy": "2024-10-27T11:25:06.048695Z",
     "iopub.status.idle": "2024-10-27T11:25:06.079902Z",
     "shell.execute_reply": "2024-10-27T11:25:06.078604Z"
    },
    "papermill": {
     "duration": 0.054752,
     "end_time": "2024-10-27T11:25:06.082617",
     "exception": false,
     "start_time": "2024-10-27T11:25:06.027865",
     "status": "completed"
    },
    "tags": []
   },
   "outputs": [
    {
     "name": "stdout",
     "output_type": "stream",
     "text": [
      "\n",
      "Correlation Matrix for Cluster 3:\n",
      "                      customer_value_total  order_num_total  recency  tenure\n",
      "customer_value_total                 1.000            0.721   -0.103   0.121\n",
      "order_num_total                      0.721            1.000   -0.077   0.263\n",
      "recency                             -0.103           -0.077    1.000  -0.004\n",
      "tenure                               0.121            0.263   -0.004   1.000\n",
      "\n",
      "Correlation Matrix for Cluster 5:\n",
      "                      customer_value_total  order_num_total  recency  tenure\n",
      "customer_value_total                 1.000            0.522   -0.047  -0.046\n",
      "order_num_total                      0.522            1.000    0.023   0.419\n",
      "recency                             -0.047            0.023    1.000   0.142\n",
      "tenure                              -0.046            0.419    0.142   1.000\n",
      "\n",
      "Correlation Matrix for Cluster 4:\n",
      "                      customer_value_total  order_num_total  recency  tenure\n",
      "customer_value_total                 1.000            0.714    0.067   0.144\n",
      "order_num_total                      0.714            1.000    0.032   0.291\n",
      "recency                              0.067            0.032    1.000   0.068\n",
      "tenure                               0.144            0.291    0.068   1.000\n",
      "\n",
      "Correlation Matrix for Cluster 2:\n",
      "                      customer_value_total  order_num_total  recency  tenure\n",
      "customer_value_total                 1.000            0.703   -0.039   0.108\n",
      "order_num_total                      0.703            1.000   -0.057   0.267\n",
      "recency                             -0.039           -0.057    1.000   0.062\n",
      "tenure                               0.108            0.267    0.062   1.000\n",
      "\n",
      "Correlation Matrix for Cluster 6:\n",
      "                      customer_value_total  order_num_total  recency  tenure\n",
      "customer_value_total                 1.000            0.785   -0.111  -0.035\n",
      "order_num_total                      0.785            1.000   -0.092   0.031\n",
      "recency                             -0.111           -0.092    1.000   0.049\n",
      "tenure                              -0.035            0.031    0.049   1.000\n",
      "\n",
      "Correlation Matrix for Cluster 7:\n",
      "                      customer_value_total  order_num_total  recency  tenure\n",
      "customer_value_total                 1.000            0.639    0.093   0.047\n",
      "order_num_total                      0.639            1.000    0.133   0.226\n",
      "recency                              0.093            0.133    1.000   0.121\n",
      "tenure                               0.047            0.226    0.121   1.000\n",
      "\n",
      "Correlation Matrix for Cluster 1:\n",
      "                      customer_value_total  order_num_total  recency  tenure\n",
      "customer_value_total                 1.000            0.825   -0.076  -0.051\n",
      "order_num_total                      0.825            1.000   -0.046  -0.015\n",
      "recency                             -0.076           -0.046    1.000   0.046\n",
      "tenure                              -0.051           -0.015    0.046   1.000\n"
     ]
    }
   ],
   "source": [
    "# Example Correlation Analysis within each cluster\n",
    "for cluster in df_new['cluster'].unique():\n",
    "    print(f\"\\nCorrelation Matrix for Cluster {cluster}:\")\n",
    "    print(df_new[df_new['cluster'] == cluster][['customer_value_total', 'order_num_total', 'recency', 'tenure']].corr())"
   ]
  }
 ],
 "metadata": {
  "kaggle": {
   "accelerator": "none",
   "dataSources": [
    {
     "datasetId": 5396530,
     "sourceId": 8965214,
     "sourceType": "datasetVersion"
    }
   ],
   "dockerImageVersionId": 30786,
   "isGpuEnabled": false,
   "isInternetEnabled": true,
   "language": "python",
   "sourceType": "notebook"
  },
  "kernelspec": {
   "display_name": "Python 3",
   "language": "python",
   "name": "python3"
  },
  "language_info": {
   "codemirror_mode": {
    "name": "ipython",
    "version": 3
   },
   "file_extension": ".py",
   "mimetype": "text/x-python",
   "name": "python",
   "nbconvert_exporter": "python",
   "pygments_lexer": "ipython3",
   "version": "3.10.14"
  },
  "papermill": {
   "default_parameters": {},
   "duration": 46.925352,
   "end_time": "2024-10-27T11:25:06.824498",
   "environment_variables": {},
   "exception": null,
   "input_path": "__notebook__.ipynb",
   "output_path": "__notebook__.ipynb",
   "parameters": {},
   "start_time": "2024-10-27T11:24:19.899146",
   "version": "2.6.0"
  }
 },
 "nbformat": 4,
 "nbformat_minor": 5
}
