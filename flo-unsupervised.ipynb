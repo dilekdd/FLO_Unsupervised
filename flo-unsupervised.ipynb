{
 "cells": [
  {
   "cell_type": "code",
   "execution_count": 1,
   "id": "e7d26f40",
   "metadata": {
    "execution": {
     "iopub.execute_input": "2024-10-29T22:52:00.447771Z",
     "iopub.status.busy": "2024-10-29T22:52:00.446894Z",
     "iopub.status.idle": "2024-10-29T22:52:06.176454Z",
     "shell.execute_reply": "2024-10-29T22:52:06.173982Z"
    },
    "papermill": {
     "duration": 5.757404,
     "end_time": "2024-10-29T22:52:06.180372",
     "exception": false,
     "start_time": "2024-10-29T22:52:00.422968",
     "status": "completed"
    },
    "tags": []
   },
   "outputs": [],
   "source": [
    "# pip install yellowbrick\n",
    "import datetime as dt\n",
    "import numpy as np\n",
    "import pandas as pd\n",
    "import seaborn as sns\n",
    "import random\n",
    "import matplotlib.pyplot as plt\n",
    "from sklearn.cluster import KMeans\n",
    "from sklearn.preprocessing import MinMaxScaler\n",
    "from yellowbrick.cluster import KElbowVisualizer\n",
    "from scipy.cluster.hierarchy import linkage\n",
    "from scipy.cluster.hierarchy import dendrogram\n",
    "from scipy.cluster.hierarchy import linkage, dendrogram, fcluster\n",
    "from sklearn.cluster import AgglomerativeClustering\n",
    "from sklearn.preprocessing import StandardScaler\n",
    "from sklearn.decomposition import PCA\n",
    "from sklearn.model_selection import cross_val_score, GridSearchCV\n",
    "from sklearn.preprocessing import LabelEncoder\n",
    "pd.set_option('display.width', 500)\n",
    "#adjusting the display settings\n",
    "pd.set_option('display.max_columns', None)\n",
    "pd.set_option('display.max_rows', None)\n",
    "pd.set_option('display.max_colwidth', None)\n",
    "pd.set_option('display.width', 500)\n",
    "pd.set_option('display.float_format', lambda x: '%.3f' % x)\n",
    "import warnings\n",
    "warnings.simplefilter(action='ignore', category=FutureWarning)"
   ]
  },
  {
   "cell_type": "code",
   "execution_count": 2,
   "id": "ce7d8e5d",
   "metadata": {
    "execution": {
     "iopub.execute_input": "2024-10-29T22:52:06.227347Z",
     "iopub.status.busy": "2024-10-29T22:52:06.225284Z",
     "iopub.status.idle": "2024-10-29T22:52:06.379463Z",
     "shell.execute_reply": "2024-10-29T22:52:06.378010Z"
    },
    "papermill": {
     "duration": 0.180131,
     "end_time": "2024-10-29T22:52:06.382746",
     "exception": false,
     "start_time": "2024-10-29T22:52:06.202615",
     "status": "completed"
    },
    "tags": []
   },
   "outputs": [],
   "source": [
    "df_ = pd.read_csv(\"/kaggle/input/flo-data/flo_data_20k.csv\")\n",
    "df = df_.copy()"
   ]
  },
  {
   "cell_type": "markdown",
   "id": "cbe3a8e0",
   "metadata": {
    "papermill": {
     "duration": 0.015322,
     "end_time": "2024-10-29T22:52:06.414432",
     "exception": false,
     "start_time": "2024-10-29T22:52:06.399110",
     "status": "completed"
    },
    "tags": []
   },
   "source": [
    "# Customer Segmentation with K-Means"
   ]
  },
  {
   "cell_type": "code",
   "execution_count": 3,
   "id": "04d22607",
   "metadata": {
    "execution": {
     "iopub.execute_input": "2024-10-29T22:52:06.447084Z",
     "iopub.status.busy": "2024-10-29T22:52:06.446157Z",
     "iopub.status.idle": "2024-10-29T22:52:06.508864Z",
     "shell.execute_reply": "2024-10-29T22:52:06.506778Z"
    },
    "papermill": {
     "duration": 0.084827,
     "end_time": "2024-10-29T22:52:06.514490",
     "exception": false,
     "start_time": "2024-10-29T22:52:06.429663",
     "status": "completed"
    },
    "tags": []
   },
   "outputs": [
    {
     "name": "stdout",
     "output_type": "stream",
     "text": [
      "##################### Shape #####################\n",
      "(19945, 12)\n",
      "##################### Types #####################\n",
      "master_id                             object\n",
      "order_channel                         object\n",
      "last_order_channel                    object\n",
      "first_order_date                      object\n",
      "last_order_date                       object\n",
      "last_order_date_online                object\n",
      "last_order_date_offline               object\n",
      "order_num_total_ever_online          float64\n",
      "order_num_total_ever_offline         float64\n",
      "customer_value_total_ever_offline    float64\n",
      "customer_value_total_ever_online     float64\n",
      "interested_in_categories_12           object\n",
      "dtype: object\n",
      "##################### Head #####################\n",
      "                              master_id order_channel last_order_channel first_order_date last_order_date last_order_date_online last_order_date_offline  order_num_total_ever_online  order_num_total_ever_offline  customer_value_total_ever_offline  customer_value_total_ever_online       interested_in_categories_12\n",
      "0  cc294636-19f0-11eb-8d74-000d3a38a36f   Android App            Offline       2020-10-30      2021-02-26             2021-02-21              2021-02-26                        4.000                         1.000                            139.990                           799.380                           [KADIN]\n",
      "1  f431bd5a-ab7b-11e9-a2fc-000d3a38a36f   Android App             Mobile       2017-02-08      2021-02-16             2021-02-16              2020-01-10                       19.000                         2.000                            159.970                          1853.580  [ERKEK, COCUK, KADIN, AKTIFSPOR]\n",
      "2  69b69676-1a40-11ea-941b-000d3a38a36f   Android App        Android App       2019-11-27      2020-11-27             2020-11-27              2019-12-01                        3.000                         2.000                            189.970                           395.350                    [ERKEK, KADIN]\n",
      "3  1854e56c-491f-11eb-806e-000d3a38a36f   Android App        Android App       2021-01-06      2021-01-17             2021-01-17              2021-01-06                        1.000                         1.000                             39.990                            81.980               [AKTIFCOCUK, COCUK]\n",
      "4  d6ea1074-f1f5-11e9-9346-000d3a38a36f       Desktop            Desktop       2019-08-03      2021-03-07             2021-03-07              2019-08-03                        1.000                         1.000                             49.990                           159.990                       [AKTIFSPOR]\n",
      "##################### Tail #####################\n",
      "                                  master_id order_channel last_order_channel first_order_date last_order_date last_order_date_online last_order_date_offline  order_num_total_ever_online  order_num_total_ever_offline  customer_value_total_ever_offline  customer_value_total_ever_online interested_in_categories_12\n",
      "19940  727e2b6e-ddd4-11e9-a848-000d3a38a36f   Android App            Offline       2019-09-21      2020-07-05             2020-06-05              2020-07-05                        1.000                         2.000                            289.980                           111.980          [ERKEK, AKTIFSPOR]\n",
      "19941  25cd53d4-61bf-11ea-8dd8-000d3a38a36f       Desktop            Desktop       2020-03-01      2020-12-22             2020-12-22              2020-03-01                        1.000                         1.000                            150.480                           239.990                 [AKTIFSPOR]\n",
      "19942  8aea4c2a-d6fc-11e9-93bc-000d3a38a36f       Ios App            Ios App       2019-09-11      2021-05-24             2021-05-24              2019-09-11                        2.000                         1.000                            139.980                           492.960                 [AKTIFSPOR]\n",
      "19943  e50bb46c-ff30-11e9-a5e8-000d3a38a36f   Android App        Android App       2019-03-27      2021-02-13             2021-02-13              2021-01-08                        1.000                         5.000                            711.790                           297.980          [ERKEK, AKTIFSPOR]\n",
      "19944  740998d2-b1f7-11e9-89fa-000d3a38a36f   Android App        Android App       2019-09-03      2020-06-06             2020-06-06              2019-09-03                        1.000                         1.000                             39.990                           221.980          [KADIN, AKTIFSPOR]\n",
      "##################### NA #####################\n",
      "master_id                            0\n",
      "order_channel                        0\n",
      "last_order_channel                   0\n",
      "first_order_date                     0\n",
      "last_order_date                      0\n",
      "last_order_date_online               0\n",
      "last_order_date_offline              0\n",
      "order_num_total_ever_online          0\n",
      "order_num_total_ever_offline         0\n",
      "customer_value_total_ever_offline    0\n",
      "customer_value_total_ever_online     0\n",
      "interested_in_categories_12          0\n",
      "dtype: int64\n",
      "##################### Quantiles #####################\n",
      "                                   0.000  0.050   0.500    0.950    0.990     1.000\n",
      "order_num_total_ever_online        1.000  1.000   2.000   10.000   20.000   200.000\n",
      "order_num_total_ever_offline       1.000  1.000   1.000    4.000    7.000   109.000\n",
      "customer_value_total_ever_offline 10.000 39.990 179.980  694.222 1219.947 18119.140\n",
      "customer_value_total_ever_online  12.990 63.990 286.460 1556.726 3143.810 45220.130\n"
     ]
    }
   ],
   "source": [
    "def check_df(dataframe, head=5):\n",
    "    print(\"##################### Shape #####################\")\n",
    "    print(dataframe.shape)\n",
    "    print(\"##################### Types #####################\")\n",
    "    print(dataframe.dtypes)\n",
    "    print(\"##################### Head #####################\")\n",
    "    print(dataframe.head(head))\n",
    "    print(\"##################### Tail #####################\")\n",
    "    print(dataframe.tail(head))\n",
    "    print(\"##################### NA #####################\")\n",
    "    print(dataframe.isnull().sum())\n",
    "    print(\"##################### Quantiles #####################\")\n",
    "    print(dataframe.select_dtypes(include=[np.number]).quantile([0, 0.05, 0.50, 0.95, 0.99, 1]).T)\n",
    "\n",
    "\n",
    "check_df(df)"
   ]
  },
  {
   "cell_type": "code",
   "execution_count": 4,
   "id": "69882747",
   "metadata": {
    "execution": {
     "iopub.execute_input": "2024-10-29T22:52:06.551675Z",
     "iopub.status.busy": "2024-10-29T22:52:06.551219Z",
     "iopub.status.idle": "2024-10-29T22:52:06.608776Z",
     "shell.execute_reply": "2024-10-29T22:52:06.606878Z"
    },
    "papermill": {
     "duration": 0.079437,
     "end_time": "2024-10-29T22:52:06.612374",
     "exception": false,
     "start_time": "2024-10-29T22:52:06.532937",
     "status": "completed"
    },
    "tags": []
   },
   "outputs": [],
   "source": [
    "date_columns = df.columns[df.columns.str.contains(\"date\")]\n",
    "df[date_columns] = df[date_columns].apply(pd.to_datetime)"
   ]
  },
  {
   "cell_type": "code",
   "execution_count": 5,
   "id": "c7e5a248",
   "metadata": {
    "execution": {
     "iopub.execute_input": "2024-10-29T22:52:06.645647Z",
     "iopub.status.busy": "2024-10-29T22:52:06.645215Z",
     "iopub.status.idle": "2024-10-29T22:52:06.655987Z",
     "shell.execute_reply": "2024-10-29T22:52:06.654632Z"
    },
    "papermill": {
     "duration": 0.030656,
     "end_time": "2024-10-29T22:52:06.658930",
     "exception": false,
     "start_time": "2024-10-29T22:52:06.628274",
     "status": "completed"
    },
    "tags": []
   },
   "outputs": [],
   "source": [
    "df[\"frequency\"] = df[\"order_num_total_ever_online\"] + df[\"order_num_total_ever_offline\"]\n",
    "df[\"monetary\"] = df[\"customer_value_total_ever_offline\"] + df[\"customer_value_total_ever_online\"]"
   ]
  },
  {
   "cell_type": "code",
   "execution_count": 6,
   "id": "cf789661",
   "metadata": {
    "execution": {
     "iopub.execute_input": "2024-10-29T22:52:06.692206Z",
     "iopub.status.busy": "2024-10-29T22:52:06.691753Z",
     "iopub.status.idle": "2024-10-29T22:52:06.705726Z",
     "shell.execute_reply": "2024-10-29T22:52:06.704054Z"
    },
    "papermill": {
     "duration": 0.034688,
     "end_time": "2024-10-29T22:52:06.709236",
     "exception": false,
     "start_time": "2024-10-29T22:52:06.674548",
     "status": "completed"
    },
    "tags": []
   },
   "outputs": [],
   "source": [
    "analysis_date = df['last_order_date'].max() + dt.timedelta(days=2)\n",
    "df[\"recency\"] = (analysis_date - df[\"last_order_date\"]).dt.days\n",
    "df[\"tenure\"] = (analysis_date - df[\"first_order_date\"]).dt.days"
   ]
  },
  {
   "cell_type": "code",
   "execution_count": 7,
   "id": "388a6cdc",
   "metadata": {
    "execution": {
     "iopub.execute_input": "2024-10-29T22:52:06.743866Z",
     "iopub.status.busy": "2024-10-29T22:52:06.743399Z",
     "iopub.status.idle": "2024-10-29T22:52:06.769372Z",
     "shell.execute_reply": "2024-10-29T22:52:06.768084Z"
    },
    "papermill": {
     "duration": 0.047698,
     "end_time": "2024-10-29T22:52:06.772658",
     "exception": false,
     "start_time": "2024-10-29T22:52:06.724960",
     "status": "completed"
    },
    "tags": []
   },
   "outputs": [
    {
     "data": {
      "text/html": [
       "<div>\n",
       "<style scoped>\n",
       "    .dataframe tbody tr th:only-of-type {\n",
       "        vertical-align: middle;\n",
       "    }\n",
       "\n",
       "    .dataframe tbody tr th {\n",
       "        vertical-align: top;\n",
       "    }\n",
       "\n",
       "    .dataframe thead th {\n",
       "        text-align: right;\n",
       "    }\n",
       "</style>\n",
       "<table border=\"1\" class=\"dataframe\">\n",
       "  <thead>\n",
       "    <tr style=\"text-align: right;\">\n",
       "      <th></th>\n",
       "      <th>master_id</th>\n",
       "      <th>order_channel</th>\n",
       "      <th>last_order_channel</th>\n",
       "      <th>first_order_date</th>\n",
       "      <th>last_order_date</th>\n",
       "      <th>last_order_date_online</th>\n",
       "      <th>last_order_date_offline</th>\n",
       "      <th>order_num_total_ever_online</th>\n",
       "      <th>order_num_total_ever_offline</th>\n",
       "      <th>customer_value_total_ever_offline</th>\n",
       "      <th>customer_value_total_ever_online</th>\n",
       "      <th>interested_in_categories_12</th>\n",
       "      <th>frequency</th>\n",
       "      <th>monetary</th>\n",
       "      <th>recency</th>\n",
       "      <th>tenure</th>\n",
       "    </tr>\n",
       "  </thead>\n",
       "  <tbody>\n",
       "    <tr>\n",
       "      <th>0</th>\n",
       "      <td>cc294636-19f0-11eb-8d74-000d3a38a36f</td>\n",
       "      <td>Android App</td>\n",
       "      <td>Offline</td>\n",
       "      <td>2020-10-30</td>\n",
       "      <td>2021-02-26</td>\n",
       "      <td>2021-02-21</td>\n",
       "      <td>2021-02-26</td>\n",
       "      <td>4.000</td>\n",
       "      <td>1.000</td>\n",
       "      <td>139.990</td>\n",
       "      <td>799.380</td>\n",
       "      <td>[KADIN]</td>\n",
       "      <td>5.000</td>\n",
       "      <td>939.370</td>\n",
       "      <td>95</td>\n",
       "      <td>214</td>\n",
       "    </tr>\n",
       "    <tr>\n",
       "      <th>1</th>\n",
       "      <td>f431bd5a-ab7b-11e9-a2fc-000d3a38a36f</td>\n",
       "      <td>Android App</td>\n",
       "      <td>Mobile</td>\n",
       "      <td>2017-02-08</td>\n",
       "      <td>2021-02-16</td>\n",
       "      <td>2021-02-16</td>\n",
       "      <td>2020-01-10</td>\n",
       "      <td>19.000</td>\n",
       "      <td>2.000</td>\n",
       "      <td>159.970</td>\n",
       "      <td>1853.580</td>\n",
       "      <td>[ERKEK, COCUK, KADIN, AKTIFSPOR]</td>\n",
       "      <td>21.000</td>\n",
       "      <td>2013.550</td>\n",
       "      <td>105</td>\n",
       "      <td>1574</td>\n",
       "    </tr>\n",
       "    <tr>\n",
       "      <th>2</th>\n",
       "      <td>69b69676-1a40-11ea-941b-000d3a38a36f</td>\n",
       "      <td>Android App</td>\n",
       "      <td>Android App</td>\n",
       "      <td>2019-11-27</td>\n",
       "      <td>2020-11-27</td>\n",
       "      <td>2020-11-27</td>\n",
       "      <td>2019-12-01</td>\n",
       "      <td>3.000</td>\n",
       "      <td>2.000</td>\n",
       "      <td>189.970</td>\n",
       "      <td>395.350</td>\n",
       "      <td>[ERKEK, KADIN]</td>\n",
       "      <td>5.000</td>\n",
       "      <td>585.320</td>\n",
       "      <td>186</td>\n",
       "      <td>552</td>\n",
       "    </tr>\n",
       "    <tr>\n",
       "      <th>3</th>\n",
       "      <td>1854e56c-491f-11eb-806e-000d3a38a36f</td>\n",
       "      <td>Android App</td>\n",
       "      <td>Android App</td>\n",
       "      <td>2021-01-06</td>\n",
       "      <td>2021-01-17</td>\n",
       "      <td>2021-01-17</td>\n",
       "      <td>2021-01-06</td>\n",
       "      <td>1.000</td>\n",
       "      <td>1.000</td>\n",
       "      <td>39.990</td>\n",
       "      <td>81.980</td>\n",
       "      <td>[AKTIFCOCUK, COCUK]</td>\n",
       "      <td>2.000</td>\n",
       "      <td>121.970</td>\n",
       "      <td>135</td>\n",
       "      <td>146</td>\n",
       "    </tr>\n",
       "    <tr>\n",
       "      <th>4</th>\n",
       "      <td>d6ea1074-f1f5-11e9-9346-000d3a38a36f</td>\n",
       "      <td>Desktop</td>\n",
       "      <td>Desktop</td>\n",
       "      <td>2019-08-03</td>\n",
       "      <td>2021-03-07</td>\n",
       "      <td>2021-03-07</td>\n",
       "      <td>2019-08-03</td>\n",
       "      <td>1.000</td>\n",
       "      <td>1.000</td>\n",
       "      <td>49.990</td>\n",
       "      <td>159.990</td>\n",
       "      <td>[AKTIFSPOR]</td>\n",
       "      <td>2.000</td>\n",
       "      <td>209.980</td>\n",
       "      <td>86</td>\n",
       "      <td>668</td>\n",
       "    </tr>\n",
       "  </tbody>\n",
       "</table>\n",
       "</div>"
      ],
      "text/plain": [
       "                              master_id order_channel last_order_channel first_order_date last_order_date last_order_date_online last_order_date_offline  order_num_total_ever_online  order_num_total_ever_offline  customer_value_total_ever_offline  customer_value_total_ever_online       interested_in_categories_12  frequency  monetary  recency  tenure\n",
       "0  cc294636-19f0-11eb-8d74-000d3a38a36f   Android App            Offline       2020-10-30      2021-02-26             2021-02-21              2021-02-26                        4.000                         1.000                            139.990                           799.380                           [KADIN]      5.000   939.370       95     214\n",
       "1  f431bd5a-ab7b-11e9-a2fc-000d3a38a36f   Android App             Mobile       2017-02-08      2021-02-16             2021-02-16              2020-01-10                       19.000                         2.000                            159.970                          1853.580  [ERKEK, COCUK, KADIN, AKTIFSPOR]     21.000  2013.550      105    1574\n",
       "2  69b69676-1a40-11ea-941b-000d3a38a36f   Android App        Android App       2019-11-27      2020-11-27             2020-11-27              2019-12-01                        3.000                         2.000                            189.970                           395.350                    [ERKEK, KADIN]      5.000   585.320      186     552\n",
       "3  1854e56c-491f-11eb-806e-000d3a38a36f   Android App        Android App       2021-01-06      2021-01-17             2021-01-17              2021-01-06                        1.000                         1.000                             39.990                            81.980               [AKTIFCOCUK, COCUK]      2.000   121.970      135     146\n",
       "4  d6ea1074-f1f5-11e9-9346-000d3a38a36f       Desktop            Desktop       2019-08-03      2021-03-07             2021-03-07              2019-08-03                        1.000                         1.000                             49.990                           159.990                       [AKTIFSPOR]      2.000   209.980       86     668"
      ]
     },
     "execution_count": 7,
     "metadata": {},
     "output_type": "execute_result"
    }
   ],
   "source": [
    "df.head()"
   ]
  },
  {
   "cell_type": "code",
   "execution_count": 8,
   "id": "9a89d331",
   "metadata": {
    "execution": {
     "iopub.execute_input": "2024-10-29T22:52:06.810293Z",
     "iopub.status.busy": "2024-10-29T22:52:06.809794Z",
     "iopub.status.idle": "2024-10-29T22:52:06.831420Z",
     "shell.execute_reply": "2024-10-29T22:52:06.829582Z"
    },
    "papermill": {
     "duration": 0.044894,
     "end_time": "2024-10-29T22:52:06.834853",
     "exception": false,
     "start_time": "2024-10-29T22:52:06.789959",
     "status": "completed"
    },
    "tags": []
   },
   "outputs": [
    {
     "data": {
      "text/html": [
       "<div>\n",
       "<style scoped>\n",
       "    .dataframe tbody tr th:only-of-type {\n",
       "        vertical-align: middle;\n",
       "    }\n",
       "\n",
       "    .dataframe tbody tr th {\n",
       "        vertical-align: top;\n",
       "    }\n",
       "\n",
       "    .dataframe thead th {\n",
       "        text-align: right;\n",
       "    }\n",
       "</style>\n",
       "<table border=\"1\" class=\"dataframe\">\n",
       "  <thead>\n",
       "    <tr style=\"text-align: right;\">\n",
       "      <th></th>\n",
       "      <th>frequency</th>\n",
       "      <th>monetary</th>\n",
       "      <th>recency</th>\n",
       "      <th>tenure</th>\n",
       "    </tr>\n",
       "  </thead>\n",
       "  <tbody>\n",
       "    <tr>\n",
       "      <th>0</th>\n",
       "      <td>5.000</td>\n",
       "      <td>939.370</td>\n",
       "      <td>95</td>\n",
       "      <td>214</td>\n",
       "    </tr>\n",
       "    <tr>\n",
       "      <th>1</th>\n",
       "      <td>21.000</td>\n",
       "      <td>2013.550</td>\n",
       "      <td>105</td>\n",
       "      <td>1574</td>\n",
       "    </tr>\n",
       "    <tr>\n",
       "      <th>2</th>\n",
       "      <td>5.000</td>\n",
       "      <td>585.320</td>\n",
       "      <td>186</td>\n",
       "      <td>552</td>\n",
       "    </tr>\n",
       "    <tr>\n",
       "      <th>3</th>\n",
       "      <td>2.000</td>\n",
       "      <td>121.970</td>\n",
       "      <td>135</td>\n",
       "      <td>146</td>\n",
       "    </tr>\n",
       "    <tr>\n",
       "      <th>4</th>\n",
       "      <td>2.000</td>\n",
       "      <td>209.980</td>\n",
       "      <td>86</td>\n",
       "      <td>668</td>\n",
       "    </tr>\n",
       "  </tbody>\n",
       "</table>\n",
       "</div>"
      ],
      "text/plain": [
       "   frequency  monetary  recency  tenure\n",
       "0      5.000   939.370       95     214\n",
       "1     21.000  2013.550      105    1574\n",
       "2      5.000   585.320      186     552\n",
       "3      2.000   121.970      135     146\n",
       "4      2.000   209.980       86     668"
      ]
     },
     "execution_count": 8,
     "metadata": {},
     "output_type": "execute_result"
    }
   ],
   "source": [
    "# copying the recently derived  \"frequency\",\"monetary\",\"recency\",\"tenure\" columns and re-creating the df dataframe\n",
    "df = df[[\"frequency\",\"monetary\",\"recency\",\"tenure\"]].copy()\n",
    "df.head()"
   ]
  },
  {
   "cell_type": "code",
   "execution_count": 9,
   "id": "77c56bee",
   "metadata": {
    "execution": {
     "iopub.execute_input": "2024-10-29T22:52:06.873211Z",
     "iopub.status.busy": "2024-10-29T22:52:06.872752Z",
     "iopub.status.idle": "2024-10-29T22:52:06.899143Z",
     "shell.execute_reply": "2024-10-29T22:52:06.897634Z"
    },
    "papermill": {
     "duration": 0.049564,
     "end_time": "2024-10-29T22:52:06.903474",
     "exception": false,
     "start_time": "2024-10-29T22:52:06.853910",
     "status": "completed"
    },
    "tags": []
   },
   "outputs": [
    {
     "name": "stdout",
     "output_type": "stream",
     "text": [
      "Observations: 19945\n",
      "Variables: 4\n",
      "cat_cols: 0\n",
      "num_cols: 4\n",
      "cat_but_car: 0\n",
      "num_but_cat: 0\n",
      "date_cols: 0\n"
     ]
    }
   ],
   "source": [
    "def grab_col_names(dataframe, cat_th=5, car_th=20):\n",
    "    \"\"\"\n",
    "\n",
    "    Veri setindeki kategorik, numerik ve kategorik fakat kardinal değişkenlerin isimlerini verir.\n",
    "    Not: Kategorik değişkenlerin içerisine numerik görünümlü kategorik değişkenler de dahildir.\n",
    "\n",
    "    Parameters\n",
    "    ------\n",
    "        dataframe: dataframe\n",
    "                Değişken isimleri alınmak istenilen dataframe\n",
    "        cat_th: int, optional\n",
    "                numerik fakat kategorik olan değişkenler için sınıf eşik değeri\n",
    "        car_th: int, optinal\n",
    "                kategorik fakat kardinal değişkenler için sınıf eşik değeri\n",
    "\n",
    "    Returns\n",
    "    ------\n",
    "        cat_cols: list\n",
    "                Kategorik değişken listesi\n",
    "        num_cols: list\n",
    "                Numerik değişken listesi\n",
    "        cat_but_car: list\n",
    "                Kategorik görünümlü kardinal değişken listesi\n",
    "\n",
    "    Examples\n",
    "    ------\n",
    "        import seaborn as sns\n",
    "        df = sns.load_dataset(\"iris\")\n",
    "        print(grab_col_names(df))\n",
    "\n",
    "\n",
    "    Notes\n",
    "    ------\n",
    "        cat_cols + num_cols + cat_but_car = toplam değişken sayısı\n",
    "        num_but_cat cat_cols'un içerisinde.\n",
    "        Return olan 3 liste toplamı toplam değişken sayısına eşittir: cat_cols + num_cols + cat_but_car = değişken sayısı\n",
    "\n",
    "    \"\"\"\n",
    "\n",
    "    # cat_cols, cat_but_car\n",
    "    cat_cols = [col for col in dataframe.columns if dataframe[col].dtypes == \"O\"]\n",
    "    num_but_cat = [col for col in dataframe.columns if dataframe[col].nunique() < cat_th and\n",
    "                   dataframe[col].dtypes != \"O\"]\n",
    "    cat_but_car = [col for col in dataframe.columns if dataframe[col].nunique() > car_th and\n",
    "                   dataframe[col].dtypes == \"O\"]\n",
    "    cat_cols = cat_cols + num_but_cat\n",
    "    cat_cols = [col for col in cat_cols if col not in cat_but_car]\n",
    "\n",
    "    #date cols\n",
    "    date_cols = [col for col in dataframe.columns if dataframe[col].dtypes == 'datetime64[ns]']\n",
    "\n",
    "\n",
    "    # num_cols\n",
    "    num_cols = [col for col in dataframe.columns if dataframe[col].dtypes != \"O\"]\n",
    "    num_cols = [col for col in num_cols if col not in num_but_cat and col not in date_cols]\n",
    "\n",
    "\n",
    "    print(f\"Observations: {dataframe.shape[0]}\")\n",
    "    print(f\"Variables: {dataframe.shape[1]}\")\n",
    "    print(f'cat_cols: {len(cat_cols)}')\n",
    "    print(f'num_cols: {len(num_cols)}')\n",
    "    print(f'cat_but_car: {len(cat_but_car)}')\n",
    "    print(f'num_but_cat: {len(num_but_cat)}')\n",
    "    print(f'date_cols: {len(date_cols)}')\n",
    "\n",
    "    return cat_cols, num_cols, cat_but_car, date_cols\n",
    "\n",
    "cat_cols, num_cols, cat_but_car, date_cols = grab_col_names(df)"
   ]
  },
  {
   "cell_type": "code",
   "execution_count": 10,
   "id": "c19ea498",
   "metadata": {
    "execution": {
     "iopub.execute_input": "2024-10-29T22:52:06.938659Z",
     "iopub.status.busy": "2024-10-29T22:52:06.938203Z",
     "iopub.status.idle": "2024-10-29T22:52:06.947236Z",
     "shell.execute_reply": "2024-10-29T22:52:06.945231Z"
    },
    "papermill": {
     "duration": 0.029857,
     "end_time": "2024-10-29T22:52:06.949949",
     "exception": false,
     "start_time": "2024-10-29T22:52:06.920092",
     "status": "completed"
    },
    "tags": []
   },
   "outputs": [
    {
     "data": {
      "text/plain": [
       "['frequency', 'monetary', 'recency', 'tenure']"
      ]
     },
     "execution_count": 10,
     "metadata": {},
     "output_type": "execute_result"
    }
   ],
   "source": [
    "num_cols"
   ]
  },
  {
   "cell_type": "code",
   "execution_count": 11,
   "id": "71accd1a",
   "metadata": {
    "execution": {
     "iopub.execute_input": "2024-10-29T22:52:06.985728Z",
     "iopub.status.busy": "2024-10-29T22:52:06.985285Z",
     "iopub.status.idle": "2024-10-29T22:52:07.014607Z",
     "shell.execute_reply": "2024-10-29T22:52:07.013337Z"
    },
    "papermill": {
     "duration": 0.051162,
     "end_time": "2024-10-29T22:52:07.018068",
     "exception": false,
     "start_time": "2024-10-29T22:52:06.966906",
     "status": "completed"
    },
    "tags": []
   },
   "outputs": [
    {
     "name": "stdout",
     "output_type": "stream",
     "text": [
      "frequency True\n",
      "monetary True\n",
      "recency False\n",
      "tenure False\n"
     ]
    }
   ],
   "source": [
    "#outlier capping function\n",
    "def outlier_thresholds(dataframe, col_name, q1=0.01, q3=0.99):\n",
    "    quartile1 = dataframe[col_name].quantile(q1)\n",
    "    quartile3 = dataframe[col_name].quantile(q3)\n",
    "    interquantile_range = quartile3 - quartile1\n",
    "    up_limit = quartile3 + 1.5 * interquantile_range\n",
    "    low_limit = quartile1 - 1.5 * interquantile_range\n",
    "    return low_limit, up_limit\n",
    "\n",
    "def replace_with_thresholds(dataframe, variable):\n",
    "    low_limit, up_limit = outlier_thresholds(dataframe, variable)\n",
    "    dataframe.loc[(dataframe[variable] < low_limit), variable] = low_limit\n",
    "    dataframe.loc[(dataframe[variable] > up_limit), variable] = up_limit\n",
    "\n",
    "# checking the outliers\n",
    "def check_outlier(dataframe, col_name, q1=0.01, q3=0.99):\n",
    "    low_limit, up_limit = outlier_thresholds(dataframe, col_name, q1, q3)\n",
    "    if dataframe[(dataframe[col_name] > up_limit) | (dataframe[col_name] < low_limit)].any(axis=None):\n",
    "        return True\n",
    "    else:\n",
    "        return False\n",
    "\n",
    "for col in num_cols:\n",
    "    print(col, check_outlier(df, col))\n"
   ]
  },
  {
   "cell_type": "code",
   "execution_count": 12,
   "id": "b621d6d4",
   "metadata": {
    "execution": {
     "iopub.execute_input": "2024-10-29T22:52:07.055774Z",
     "iopub.status.busy": "2024-10-29T22:52:07.055356Z",
     "iopub.status.idle": "2024-10-29T22:52:07.103274Z",
     "shell.execute_reply": "2024-10-29T22:52:07.100848Z"
    },
    "papermill": {
     "duration": 0.07016,
     "end_time": "2024-10-29T22:52:07.106456",
     "exception": false,
     "start_time": "2024-10-29T22:52:07.036296",
     "status": "completed"
    },
    "tags": []
   },
   "outputs": [
    {
     "name": "stdout",
     "output_type": "stream",
     "text": [
      "frequency True\n",
      "monetary True\n",
      "recency False\n",
      "tenure False\n"
     ]
    }
   ],
   "source": [
    "#capping the outliers\n",
    "for col in num_cols:\n",
    "    print(col, check_outlier(df, col))  \n",
    "    if check_outlier(df, col):  # Check for outliers in the column\n",
    "        replace_with_thresholds(df, col)  # Replace outliers in `df` directly"
   ]
  },
  {
   "cell_type": "code",
   "execution_count": 13,
   "id": "7bed530a",
   "metadata": {
    "execution": {
     "iopub.execute_input": "2024-10-29T22:52:07.141819Z",
     "iopub.status.busy": "2024-10-29T22:52:07.141394Z",
     "iopub.status.idle": "2024-10-29T22:52:07.163716Z",
     "shell.execute_reply": "2024-10-29T22:52:07.162202Z"
    },
    "papermill": {
     "duration": 0.043886,
     "end_time": "2024-10-29T22:52:07.167076",
     "exception": false,
     "start_time": "2024-10-29T22:52:07.123190",
     "status": "completed"
    },
    "tags": []
   },
   "outputs": [
    {
     "name": "stdout",
     "output_type": "stream",
     "text": [
      "frequency False\n",
      "monetary False\n",
      "recency False\n",
      "tenure False\n"
     ]
    }
   ],
   "source": [
    "#checking the outliers again\n",
    "for col in num_cols:\n",
    "    print(col, check_outlier(df, col))"
   ]
  },
  {
   "cell_type": "code",
   "execution_count": 14,
   "id": "5eabbc53",
   "metadata": {
    "execution": {
     "iopub.execute_input": "2024-10-29T22:52:07.201635Z",
     "iopub.status.busy": "2024-10-29T22:52:07.201210Z",
     "iopub.status.idle": "2024-10-29T22:52:07.222427Z",
     "shell.execute_reply": "2024-10-29T22:52:07.220872Z"
    },
    "papermill": {
     "duration": 0.042375,
     "end_time": "2024-10-29T22:52:07.225715",
     "exception": false,
     "start_time": "2024-10-29T22:52:07.183340",
     "status": "completed"
    },
    "tags": []
   },
   "outputs": [
    {
     "name": "stdout",
     "output_type": "stream",
     "text": [
      "##################### Shape #####################\n",
      "(19945, 4)\n",
      "##################### Types #####################\n",
      "frequency    float64\n",
      "monetary     float64\n",
      "recency        int64\n",
      "tenure         int64\n",
      "dtype: object\n",
      "##################### Head #####################\n",
      "   frequency  monetary  recency  tenure\n",
      "0      5.000   939.370       95     214\n",
      "1     21.000  2013.550      105    1574\n",
      "2      5.000   585.320      186     552\n",
      "3      2.000   121.970      135     146\n",
      "4      2.000   209.980       86     668\n",
      "##################### Tail #####################\n",
      "       frequency  monetary  recency  tenure\n",
      "19940      3.000   401.960      331     619\n",
      "19941      2.000   390.470      161     457\n",
      "19942      3.000   632.940        8     629\n",
      "19943      6.000  1009.770      108     797\n",
      "19944      2.000   261.970      360     637\n",
      "##################### NA #####################\n",
      "frequency    0\n",
      "monetary     0\n",
      "recency      0\n",
      "tenure       0\n",
      "dtype: int64\n",
      "##################### Quantiles #####################\n",
      "           0.000   0.050   0.500    0.950    0.990    1.000\n",
      "frequency  2.000   2.000   4.000   12.000   22.000   52.000\n",
      "monetary  44.980 175.480 545.270 1921.924 3606.356 8844.919\n",
      "recency    2.000   9.000 111.000  335.000  360.000  367.000\n",
      "tenure     5.000 209.200 651.000 2074.000 2605.000 3060.000\n"
     ]
    }
   ],
   "source": [
    "check_df(df)"
   ]
  },
  {
   "cell_type": "code",
   "execution_count": 15,
   "id": "3ebaa526",
   "metadata": {
    "execution": {
     "iopub.execute_input": "2024-10-29T22:52:07.262422Z",
     "iopub.status.busy": "2024-10-29T22:52:07.261926Z",
     "iopub.status.idle": "2024-10-29T22:52:07.851249Z",
     "shell.execute_reply": "2024-10-29T22:52:07.849897Z"
    },
    "papermill": {
     "duration": 0.611751,
     "end_time": "2024-10-29T22:52:07.854285",
     "exception": false,
     "start_time": "2024-10-29T22:52:07.242534",
     "status": "completed"
    },
    "tags": []
   },
   "outputs": [
    {
     "data": {
      "image/png": "[encoded data removed]",
      "text/plain": [
       "<Figure size 1200x1200 with 2 Axes>"
      ]
     },
     "metadata": {},
     "output_type": "display_data"
    }
   ],
   "source": [
    "#Analysis of Correlation\n",
    "corr = df.corr()\n",
    "sns.set(rc={'figure.figsize': (12, 12)})\n",
    "sns.heatmap(corr, cmap=\"RdBu\", annot=True, fmt=\".2f\", annot_kws={\"size\": 8})\n",
    "plt.tight_layout()\n",
    "plt.show()"
   ]
  },
  {
   "cell_type": "markdown",
   "id": "ba64e89a",
   "metadata": {
    "papermill": {
     "duration": 0.017754,
     "end_time": "2024-10-29T22:52:07.889477",
     "exception": false,
     "start_time": "2024-10-29T22:52:07.871723",
     "status": "completed"
    },
    "tags": []
   },
   "source": [
    "* Monetary ile Frequency arasinda %83'luk pozitif bir korelasyon gorulmektedir."
   ]
  },
  {
   "cell_type": "code",
   "execution_count": 16,
   "id": "307e3bb1",
   "metadata": {
    "execution": {
     "iopub.execute_input": "2024-10-29T22:52:07.928434Z",
     "iopub.status.busy": "2024-10-29T22:52:07.927893Z",
     "iopub.status.idle": "2024-10-29T22:52:07.945768Z",
     "shell.execute_reply": "2024-10-29T22:52:07.944199Z"
    },
    "papermill": {
     "duration": 0.040478,
     "end_time": "2024-10-29T22:52:07.948704",
     "exception": false,
     "start_time": "2024-10-29T22:52:07.908226",
     "status": "completed"
    },
    "tags": []
   },
   "outputs": [
    {
     "data": {
      "text/plain": [
       "array([[0.06      , 0.10163593, 0.25479452, 0.06841244],\n",
       "       [0.38      , 0.22370269, 0.28219178, 0.51358429],\n",
       "       [0.06      , 0.0614027 , 0.50410959, 0.17905074],\n",
       "       [0.        , 0.00874892, 0.36438356, 0.04615385],\n",
       "       [0.        , 0.01875013, 0.23013699, 0.21702128]])"
      ]
     },
     "execution_count": 16,
     "metadata": {},
     "output_type": "execute_result"
    }
   ],
   "source": [
    "#scaling the dataset\n",
    "sc = MinMaxScaler((0, 1))\n",
    "df = sc.fit_transform(df)\n",
    "df[0:5] #df.head() wasn't applied here because after scaling the data, it turns to a numpy array.\n",
    "\n",
    "#since we capped the outliers, we don't use robust scalar here. Standard scalar can be used as well. "
   ]
  },
  {
   "cell_type": "code",
   "execution_count": 17,
   "id": "75f3d026",
   "metadata": {
    "execution": {
     "iopub.execute_input": "2024-10-29T22:52:07.985639Z",
     "iopub.status.busy": "2024-10-29T22:52:07.985210Z",
     "iopub.status.idle": "2024-10-29T22:52:22.308854Z",
     "shell.execute_reply": "2024-10-29T22:52:22.307626Z"
    },
    "papermill": {
     "duration": 14.346598,
     "end_time": "2024-10-29T22:52:22.312692",
     "exception": false,
     "start_time": "2024-10-29T22:52:07.966094",
     "status": "completed"
    },
    "tags": []
   },
   "outputs": [
    {
     "data": {
      "image/png": "[encoded data removed]",
      "text/plain": [
       "<Figure size 1200x1200 with 2 Axes>"
      ]
     },
     "metadata": {},
     "output_type": "display_data"
    },
    {
     "data": {
      "text/plain": [
       "<Axes: title={'center': 'Distortion Score Elbow for KMeans Clustering'}, xlabel='k', ylabel='distortion score'>"
      ]
     },
     "execution_count": 17,
     "metadata": {},
     "output_type": "execute_result"
    }
   ],
   "source": [
    "# Initialize KElbowVisualizer with KMeans to find the optimal number of clusters\n",
    "elbow = KElbowVisualizer(KMeans(random_state=42), k=(2, 10))\n",
    "# Fit the visualizer to the data, calculating distortion scores for each k in the range\n",
    "elbow.fit(df)\n",
    "# Display the elbow plot, where the \"elbow\" indicates the optimal number of clusters\n",
    "elbow.show()"
   ]
  },
  {
   "cell_type": "code",
   "execution_count": 18,
   "id": "2756dd70",
   "metadata": {
    "execution": {
     "iopub.execute_input": "2024-10-29T22:52:22.353881Z",
     "iopub.status.busy": "2024-10-29T22:52:22.353382Z",
     "iopub.status.idle": "2024-10-29T22:52:22.361451Z",
     "shell.execute_reply": "2024-10-29T22:52:22.360301Z"
    },
    "papermill": {
     "duration": 0.03167,
     "end_time": "2024-10-29T22:52:22.363994",
     "exception": false,
     "start_time": "2024-10-29T22:52:22.332324",
     "status": "completed"
    },
    "tags": []
   },
   "outputs": [
    {
     "data": {
      "text/plain": [
       "4"
      ]
     },
     "execution_count": 18,
     "metadata": {},
     "output_type": "execute_result"
    }
   ],
   "source": [
    "# optimal clusters, showing teh optimal number of clusters\n",
    "elbow.elbow_value_"
   ]
  },
  {
   "cell_type": "code",
   "execution_count": 19,
   "id": "7bfb6352",
   "metadata": {
    "execution": {
     "iopub.execute_input": "2024-10-29T22:52:22.407505Z",
     "iopub.status.busy": "2024-10-29T22:52:22.407052Z",
     "iopub.status.idle": "2024-10-29T22:52:23.448773Z",
     "shell.execute_reply": "2024-10-29T22:52:23.446826Z"
    },
    "papermill": {
     "duration": 1.068302,
     "end_time": "2024-10-29T22:52:23.452555",
     "exception": false,
     "start_time": "2024-10-29T22:52:22.384253",
     "status": "completed"
    },
    "tags": []
   },
   "outputs": [],
   "source": [
    "#creating the model, segmenting the customers \n",
    "kmeans = KMeans(n_clusters=elbow.elbow_value_, random_state=42).fit(df)"
   ]
  },
  {
   "cell_type": "code",
   "execution_count": 20,
   "id": "a77310b7",
   "metadata": {
    "execution": {
     "iopub.execute_input": "2024-10-29T22:52:23.536142Z",
     "iopub.status.busy": "2024-10-29T22:52:23.535669Z",
     "iopub.status.idle": "2024-10-29T22:52:23.544838Z",
     "shell.execute_reply": "2024-10-29T22:52:23.543126Z"
    },
    "papermill": {
     "duration": 0.046916,
     "end_time": "2024-10-29T22:52:23.548318",
     "exception": false,
     "start_time": "2024-10-29T22:52:23.501402",
     "status": "completed"
    },
    "tags": []
   },
   "outputs": [
    {
     "data": {
      "text/plain": [
       "4"
      ]
     },
     "execution_count": 20,
     "metadata": {},
     "output_type": "execute_result"
    }
   ],
   "source": [
    "#showing the number of clusters that the KMeans algorithm is using\n",
    "kmeans.n_clusters"
   ]
  },
  {
   "cell_type": "code",
   "execution_count": 21,
   "id": "914f144a",
   "metadata": {
    "execution": {
     "iopub.execute_input": "2024-10-29T22:52:23.599103Z",
     "iopub.status.busy": "2024-10-29T22:52:23.598459Z",
     "iopub.status.idle": "2024-10-29T22:52:23.614898Z",
     "shell.execute_reply": "2024-10-29T22:52:23.613185Z"
    },
    "papermill": {
     "duration": 0.048234,
     "end_time": "2024-10-29T22:52:23.618332",
     "exception": false,
     "start_time": "2024-10-29T22:52:23.570098",
     "status": "completed"
    },
    "tags": []
   },
   "outputs": [
    {
     "data": {
      "text/plain": [
       "array([[0.05602667, 0.08141783, 0.11320728, 0.19370915],\n",
       "       [0.04389879, 0.06133131, 0.82154289, 0.28762117],\n",
       "       [0.16548243, 0.15202678, 0.27305349, 0.63356119],\n",
       "       [0.03997648, 0.06363566, 0.43472621, 0.20758424]])"
      ]
     },
     "execution_count": 21,
     "metadata": {},
     "output_type": "execute_result"
    }
   ],
   "source": [
    "#showing the centroids of each cluster identified by the KMeans algorithm\n",
    "kmeans.cluster_centers_"
   ]
  },
  {
   "cell_type": "code",
   "execution_count": 22,
   "id": "344cda4f",
   "metadata": {
    "execution": {
     "iopub.execute_input": "2024-10-29T22:52:23.663590Z",
     "iopub.status.busy": "2024-10-29T22:52:23.663158Z",
     "iopub.status.idle": "2024-10-29T22:52:23.672879Z",
     "shell.execute_reply": "2024-10-29T22:52:23.671508Z"
    },
    "papermill": {
     "duration": 0.03478,
     "end_time": "2024-10-29T22:52:23.675702",
     "exception": false,
     "start_time": "2024-10-29T22:52:23.640922",
     "status": "completed"
    },
    "tags": []
   },
   "outputs": [
    {
     "data": {
      "text/plain": [
       "array([0, 2, 3, ..., 0, 3, 1], dtype=int32)"
      ]
     },
     "execution_count": 22,
     "metadata": {},
     "output_type": "execute_result"
    }
   ],
   "source": [
    "#Get the cluster labels for each data point in the dataset.\n",
    "kmeans.labels_"
   ]
  },
  {
   "cell_type": "code",
   "execution_count": 23,
   "id": "b8b7fde2",
   "metadata": {
    "execution": {
     "iopub.execute_input": "2024-10-29T22:52:23.721015Z",
     "iopub.status.busy": "2024-10-29T22:52:23.720530Z",
     "iopub.status.idle": "2024-10-29T22:52:23.728687Z",
     "shell.execute_reply": "2024-10-29T22:52:23.727294Z"
    },
    "papermill": {
     "duration": 0.034182,
     "end_time": "2024-10-29T22:52:23.732073",
     "exception": false,
     "start_time": "2024-10-29T22:52:23.697891",
     "status": "completed"
    },
    "tags": []
   },
   "outputs": [],
   "source": [
    "#converting the numpy array to a dataframe with the following columns\n",
    "df = pd.DataFrame(df, columns=[\"frequency\", \"monetary\", \"recency\", \"tenure\"]) "
   ]
  },
  {
   "cell_type": "code",
   "execution_count": 24,
   "id": "c42a662f",
   "metadata": {
    "execution": {
     "iopub.execute_input": "2024-10-29T22:52:23.778192Z",
     "iopub.status.busy": "2024-10-29T22:52:23.776404Z",
     "iopub.status.idle": "2024-10-29T22:52:23.786867Z",
     "shell.execute_reply": "2024-10-29T22:52:23.784942Z"
    },
    "papermill": {
     "duration": 0.036567,
     "end_time": "2024-10-29T22:52:23.790881",
     "exception": false,
     "start_time": "2024-10-29T22:52:23.754314",
     "status": "completed"
    },
    "tags": []
   },
   "outputs": [],
   "source": [
    "# we have 4 clusters(segments) but they start from zero, so add 1 to make them start from 1\n",
    "df[\"Segment\"] = kmeans.labels_ + 1"
   ]
  },
  {
   "cell_type": "code",
   "execution_count": 25,
   "id": "1f64fbb1",
   "metadata": {
    "execution": {
     "iopub.execute_input": "2024-10-29T22:52:23.845273Z",
     "iopub.status.busy": "2024-10-29T22:52:23.844773Z",
     "iopub.status.idle": "2024-10-29T22:52:23.862621Z",
     "shell.execute_reply": "2024-10-29T22:52:23.860969Z"
    },
    "papermill": {
     "duration": 0.049177,
     "end_time": "2024-10-29T22:52:23.865631",
     "exception": false,
     "start_time": "2024-10-29T22:52:23.816454",
     "status": "completed"
    },
    "tags": []
   },
   "outputs": [
    {
     "data": {
      "text/html": [
       "<div>\n",
       "<style scoped>\n",
       "    .dataframe tbody tr th:only-of-type {\n",
       "        vertical-align: middle;\n",
       "    }\n",
       "\n",
       "    .dataframe tbody tr th {\n",
       "        vertical-align: top;\n",
       "    }\n",
       "\n",
       "    .dataframe thead th {\n",
       "        text-align: right;\n",
       "    }\n",
       "</style>\n",
       "<table border=\"1\" class=\"dataframe\">\n",
       "  <thead>\n",
       "    <tr style=\"text-align: right;\">\n",
       "      <th></th>\n",
       "      <th>frequency</th>\n",
       "      <th>monetary</th>\n",
       "      <th>recency</th>\n",
       "      <th>tenure</th>\n",
       "      <th>Segment</th>\n",
       "    </tr>\n",
       "  </thead>\n",
       "  <tbody>\n",
       "    <tr>\n",
       "      <th>0</th>\n",
       "      <td>0.060</td>\n",
       "      <td>0.102</td>\n",
       "      <td>0.255</td>\n",
       "      <td>0.068</td>\n",
       "      <td>1</td>\n",
       "    </tr>\n",
       "    <tr>\n",
       "      <th>1</th>\n",
       "      <td>0.380</td>\n",
       "      <td>0.224</td>\n",
       "      <td>0.282</td>\n",
       "      <td>0.514</td>\n",
       "      <td>3</td>\n",
       "    </tr>\n",
       "    <tr>\n",
       "      <th>2</th>\n",
       "      <td>0.060</td>\n",
       "      <td>0.061</td>\n",
       "      <td>0.504</td>\n",
       "      <td>0.179</td>\n",
       "      <td>4</td>\n",
       "    </tr>\n",
       "    <tr>\n",
       "      <th>3</th>\n",
       "      <td>0.000</td>\n",
       "      <td>0.009</td>\n",
       "      <td>0.364</td>\n",
       "      <td>0.046</td>\n",
       "      <td>4</td>\n",
       "    </tr>\n",
       "    <tr>\n",
       "      <th>4</th>\n",
       "      <td>0.000</td>\n",
       "      <td>0.019</td>\n",
       "      <td>0.230</td>\n",
       "      <td>0.217</td>\n",
       "      <td>1</td>\n",
       "    </tr>\n",
       "  </tbody>\n",
       "</table>\n",
       "</div>"
      ],
      "text/plain": [
       "   frequency  monetary  recency  tenure  Segment\n",
       "0      0.060     0.102    0.255   0.068        1\n",
       "1      0.380     0.224    0.282   0.514        3\n",
       "2      0.060     0.061    0.504   0.179        4\n",
       "3      0.000     0.009    0.364   0.046        4\n",
       "4      0.000     0.019    0.230   0.217        1"
      ]
     },
     "execution_count": 25,
     "metadata": {},
     "output_type": "execute_result"
    }
   ],
   "source": [
    "#displaying the first 5 obrsevations of the dataframe 'df'\n",
    "df.head()"
   ]
  },
  {
   "cell_type": "code",
   "execution_count": 26,
   "id": "776e7479",
   "metadata": {
    "execution": {
     "iopub.execute_input": "2024-10-29T22:52:23.914245Z",
     "iopub.status.busy": "2024-10-29T22:52:23.913737Z",
     "iopub.status.idle": "2024-10-29T22:52:23.968396Z",
     "shell.execute_reply": "2024-10-29T22:52:23.966994Z"
    },
    "papermill": {
     "duration": 0.083552,
     "end_time": "2024-10-29T22:52:23.971353",
     "exception": false,
     "start_time": "2024-10-29T22:52:23.887801",
     "status": "completed"
    },
    "tags": []
   },
   "outputs": [
    {
     "data": {
      "text/html": [
       "<div>\n",
       "<style scoped>\n",
       "    .dataframe tbody tr th:only-of-type {\n",
       "        vertical-align: middle;\n",
       "    }\n",
       "\n",
       "    .dataframe tbody tr th {\n",
       "        vertical-align: top;\n",
       "    }\n",
       "\n",
       "    .dataframe thead tr th {\n",
       "        text-align: left;\n",
       "    }\n",
       "\n",
       "    .dataframe thead tr:last-of-type th {\n",
       "        text-align: right;\n",
       "    }\n",
       "</style>\n",
       "<table border=\"1\" class=\"dataframe\">\n",
       "  <thead>\n",
       "    <tr>\n",
       "      <th></th>\n",
       "      <th colspan=\"5\" halign=\"left\">frequency</th>\n",
       "      <th colspan=\"5\" halign=\"left\">monetary</th>\n",
       "      <th colspan=\"5\" halign=\"left\">recency</th>\n",
       "      <th colspan=\"5\" halign=\"left\">tenure</th>\n",
       "    </tr>\n",
       "    <tr>\n",
       "      <th></th>\n",
       "      <th>median</th>\n",
       "      <th>max</th>\n",
       "      <th>count</th>\n",
       "      <th>mean</th>\n",
       "      <th>min</th>\n",
       "      <th>median</th>\n",
       "      <th>max</th>\n",
       "      <th>count</th>\n",
       "      <th>mean</th>\n",
       "      <th>min</th>\n",
       "      <th>median</th>\n",
       "      <th>max</th>\n",
       "      <th>count</th>\n",
       "      <th>mean</th>\n",
       "      <th>min</th>\n",
       "      <th>median</th>\n",
       "      <th>max</th>\n",
       "      <th>count</th>\n",
       "      <th>mean</th>\n",
       "      <th>min</th>\n",
       "    </tr>\n",
       "    <tr>\n",
       "      <th>Segment</th>\n",
       "      <th></th>\n",
       "      <th></th>\n",
       "      <th></th>\n",
       "      <th></th>\n",
       "      <th></th>\n",
       "      <th></th>\n",
       "      <th></th>\n",
       "      <th></th>\n",
       "      <th></th>\n",
       "      <th></th>\n",
       "      <th></th>\n",
       "      <th></th>\n",
       "      <th></th>\n",
       "      <th></th>\n",
       "      <th></th>\n",
       "      <th></th>\n",
       "      <th></th>\n",
       "      <th></th>\n",
       "      <th></th>\n",
       "      <th></th>\n",
       "    </tr>\n",
       "  </thead>\n",
       "  <tbody>\n",
       "    <tr>\n",
       "      <th>1</th>\n",
       "      <td>0.040</td>\n",
       "      <td>0.580</td>\n",
       "      <td>8101</td>\n",
       "      <td>0.056</td>\n",
       "      <td>0.000</td>\n",
       "      <td>0.061</td>\n",
       "      <td>1.000</td>\n",
       "      <td>8101</td>\n",
       "      <td>0.081</td>\n",
       "      <td>0.001</td>\n",
       "      <td>0.096</td>\n",
       "      <td>0.288</td>\n",
       "      <td>8101</td>\n",
       "      <td>0.113</td>\n",
       "      <td>0.000</td>\n",
       "      <td>0.195</td>\n",
       "      <td>0.506</td>\n",
       "      <td>8101</td>\n",
       "      <td>0.194</td>\n",
       "      <td>0.000</td>\n",
       "    </tr>\n",
       "    <tr>\n",
       "      <th>2</th>\n",
       "      <td>0.020</td>\n",
       "      <td>1.000</td>\n",
       "      <td>3868</td>\n",
       "      <td>0.044</td>\n",
       "      <td>0.000</td>\n",
       "      <td>0.047</td>\n",
       "      <td>0.969</td>\n",
       "      <td>3868</td>\n",
       "      <td>0.061</td>\n",
       "      <td>0.000</td>\n",
       "      <td>0.844</td>\n",
       "      <td>1.000</td>\n",
       "      <td>3868</td>\n",
       "      <td>0.822</td>\n",
       "      <td>0.567</td>\n",
       "      <td>0.228</td>\n",
       "      <td>0.996</td>\n",
       "      <td>3868</td>\n",
       "      <td>0.288</td>\n",
       "      <td>0.081</td>\n",
       "    </tr>\n",
       "    <tr>\n",
       "      <th>3</th>\n",
       "      <td>0.120</td>\n",
       "      <td>1.000</td>\n",
       "      <td>2025</td>\n",
       "      <td>0.165</td>\n",
       "      <td>0.000</td>\n",
       "      <td>0.107</td>\n",
       "      <td>1.000</td>\n",
       "      <td>2025</td>\n",
       "      <td>0.152</td>\n",
       "      <td>0.000</td>\n",
       "      <td>0.244</td>\n",
       "      <td>0.874</td>\n",
       "      <td>2025</td>\n",
       "      <td>0.273</td>\n",
       "      <td>0.000</td>\n",
       "      <td>0.622</td>\n",
       "      <td>1.000</td>\n",
       "      <td>2025</td>\n",
       "      <td>0.633</td>\n",
       "      <td>0.153</td>\n",
       "    </tr>\n",
       "    <tr>\n",
       "      <th>4</th>\n",
       "      <td>0.020</td>\n",
       "      <td>0.440</td>\n",
       "      <td>5951</td>\n",
       "      <td>0.040</td>\n",
       "      <td>0.000</td>\n",
       "      <td>0.050</td>\n",
       "      <td>0.606</td>\n",
       "      <td>5951</td>\n",
       "      <td>0.064</td>\n",
       "      <td>0.001</td>\n",
       "      <td>0.433</td>\n",
       "      <td>0.658</td>\n",
       "      <td>5951</td>\n",
       "      <td>0.435</td>\n",
       "      <td>0.263</td>\n",
       "      <td>0.202</td>\n",
       "      <td>0.536</td>\n",
       "      <td>5951</td>\n",
       "      <td>0.207</td>\n",
       "      <td>0.033</td>\n",
       "    </tr>\n",
       "  </tbody>\n",
       "</table>\n",
       "</div>"
      ],
      "text/plain": [
       "        frequency                         monetary                         recency                         tenure                        \n",
       "           median   max count  mean   min   median   max count  mean   min  median   max count  mean   min median   max count  mean   min\n",
       "Segment                                                                                                                                  \n",
       "1           0.040 0.580  8101 0.056 0.000    0.061 1.000  8101 0.081 0.001   0.096 0.288  8101 0.113 0.000  0.195 0.506  8101 0.194 0.000\n",
       "2           0.020 1.000  3868 0.044 0.000    0.047 0.969  3868 0.061 0.000   0.844 1.000  3868 0.822 0.567  0.228 0.996  3868 0.288 0.081\n",
       "3           0.120 1.000  2025 0.165 0.000    0.107 1.000  2025 0.152 0.000   0.244 0.874  2025 0.273 0.000  0.622 1.000  2025 0.633 0.153\n",
       "4           0.020 0.440  5951 0.040 0.000    0.050 0.606  5951 0.064 0.001   0.433 0.658  5951 0.435 0.263  0.202 0.536  5951 0.207 0.033"
      ]
     },
     "execution_count": 26,
     "metadata": {},
     "output_type": "execute_result"
    }
   ],
   "source": [
    "# grouping the 'Segment' and calculating mean, median, min, max, and the count of each variable in the dataframe\n",
    "df.groupby(\"Segment\").agg({\"mean\",\"median\", \"min\", \"max\",\"count\"})"
   ]
  },
  {
   "cell_type": "code",
   "execution_count": 27,
   "id": "59c354fd",
   "metadata": {
    "execution": {
     "iopub.execute_input": "2024-10-29T22:52:24.022700Z",
     "iopub.status.busy": "2024-10-29T22:52:24.021018Z",
     "iopub.status.idle": "2024-10-29T22:52:24.058527Z",
     "shell.execute_reply": "2024-10-29T22:52:24.056540Z"
    },
    "papermill": {
     "duration": 0.066939,
     "end_time": "2024-10-29T22:52:24.062475",
     "exception": false,
     "start_time": "2024-10-29T22:52:23.995536",
     "status": "completed"
    },
    "tags": []
   },
   "outputs": [
    {
     "data": {
      "text/html": [
       "<div>\n",
       "<style scoped>\n",
       "    .dataframe tbody tr th:only-of-type {\n",
       "        vertical-align: middle;\n",
       "    }\n",
       "\n",
       "    .dataframe tbody tr th {\n",
       "        vertical-align: top;\n",
       "    }\n",
       "\n",
       "    .dataframe thead th {\n",
       "        text-align: right;\n",
       "    }\n",
       "</style>\n",
       "<table border=\"1\" class=\"dataframe\">\n",
       "  <thead>\n",
       "    <tr style=\"text-align: right;\">\n",
       "      <th></th>\n",
       "      <th>Count</th>\n",
       "      <th>Recency_Mean</th>\n",
       "      <th>T_Mean</th>\n",
       "      <th>Frequency_Mean</th>\n",
       "      <th>Monetary_Mean</th>\n",
       "    </tr>\n",
       "    <tr>\n",
       "      <th>Segment</th>\n",
       "      <th></th>\n",
       "      <th></th>\n",
       "      <th></th>\n",
       "      <th></th>\n",
       "      <th></th>\n",
       "    </tr>\n",
       "  </thead>\n",
       "  <tbody>\n",
       "    <tr>\n",
       "      <th>1</th>\n",
       "      <td>8101</td>\n",
       "      <td>0.113</td>\n",
       "      <td>0.194</td>\n",
       "      <td>0.056</td>\n",
       "      <td>0.081</td>\n",
       "    </tr>\n",
       "    <tr>\n",
       "      <th>2</th>\n",
       "      <td>3868</td>\n",
       "      <td>0.822</td>\n",
       "      <td>0.288</td>\n",
       "      <td>0.044</td>\n",
       "      <td>0.061</td>\n",
       "    </tr>\n",
       "    <tr>\n",
       "      <th>3</th>\n",
       "      <td>2025</td>\n",
       "      <td>0.273</td>\n",
       "      <td>0.633</td>\n",
       "      <td>0.165</td>\n",
       "      <td>0.152</td>\n",
       "    </tr>\n",
       "    <tr>\n",
       "      <th>4</th>\n",
       "      <td>5951</td>\n",
       "      <td>0.435</td>\n",
       "      <td>0.207</td>\n",
       "      <td>0.040</td>\n",
       "      <td>0.064</td>\n",
       "    </tr>\n",
       "  </tbody>\n",
       "</table>\n",
       "</div>"
      ],
      "text/plain": [
       "         Count  Recency_Mean  T_Mean  Frequency_Mean  Monetary_Mean\n",
       "Segment                                                            \n",
       "1         8101         0.113   0.194           0.056          0.081\n",
       "2         3868         0.822   0.288           0.044          0.061\n",
       "3         2025         0.273   0.633           0.165          0.152\n",
       "4         5951         0.435   0.207           0.040          0.064"
      ]
     },
     "execution_count": 27,
     "metadata": {},
     "output_type": "execute_result"
    }
   ],
   "source": [
    "#grouping the dataFrame df by the \"Segment\" column and calculating Count of each segment, Recency_Mean, T_Mean, Frequency_Mean, Monetary_Mean\n",
    "df.groupby(\"Segment\").agg(Count=(\"Segment\",\"count\"),\n",
    "                          Recency_Mean=(\"recency\",\"mean\"),\n",
    "                          T_Mean=(\"tenure\",\"mean\"),\n",
    "                          Frequency_Mean=(\"frequency\",\"mean\"),\n",
    "                          Monetary_Mean=(\"monetary\",\"mean\"))"
   ]
  },
  {
   "cell_type": "code",
   "execution_count": 28,
   "id": "37718edf",
   "metadata": {
    "execution": {
     "iopub.execute_input": "2024-10-29T22:52:24.116967Z",
     "iopub.status.busy": "2024-10-29T22:52:24.115322Z",
     "iopub.status.idle": "2024-10-29T22:52:24.123368Z",
     "shell.execute_reply": "2024-10-29T22:52:24.121285Z"
    },
    "papermill": {
     "duration": 0.03749,
     "end_time": "2024-10-29T22:52:24.126360",
     "exception": false,
     "start_time": "2024-10-29T22:52:24.088870",
     "status": "completed"
    },
    "tags": []
   },
   "outputs": [],
   "source": [
    "#different version of grouping the dataframe\n",
    "# print(df.groupby(\"Segment\").agg(Count=(\"Segment\",\"count\"),\n",
    "#                           Recency=(\"recency\", lambda x: f\" Mean: {x.mean():.0f}, Max:{x.max()}, Min:{x.min()}\"),\n",
    "#                           T=(\"tenure\", lambda x: f\" Mean: {x.mean():.0f}, Max:{x.max()}, Min:{x.min()}\"),\n",
    "#                           Frequency=(\"frequency\", lambda x: f\" Mean: {x.mean():.0f}, Max:{x.max()}, Min:{x.min()}\"),\n",
    "#                           Monetary=(\"monetary\", lambda x: f\" Mean: {x.mean():.0f}, Max:{x.max():.0f}, Min:{x.min():.0f}\")).to_markdown())"
   ]
  },
  {
   "cell_type": "markdown",
   "id": "82e6ca8c",
   "metadata": {
    "papermill": {
     "duration": 0.02144,
     "end_time": "2024-10-29T22:52:24.169739",
     "exception": false,
     "start_time": "2024-10-29T22:52:24.148299",
     "status": "completed"
    },
    "tags": []
   },
   "source": [
    "**Champions - Segment 3;** High values in frequency mean, monetary mean, and relatively low recency mean, indicating active and valuable customers.Tenure is relatively high, indicating they’ve been around longer.\n",
    "\n",
    "**Loyal Customers - Segment 4;** Moderate to high frequency and monetary values with mid-range tenure, showing consistent interaction without as high activity as \"Champions.\" Recency values are moderate, indicating relatively recent engagement but not as active as Champions.\n",
    "\n",
    "**Potential Loyalists / Loyals - Segment 1;** Lower monetary and frequency scores compared to Champions and Loyals but not completely inactive.\n",
    "Recency is low, indicating they’ve been recent but less frequent.\n",
    "\n",
    "**At Risk - Segment 2;** High recency (less recent), indicating these customers haven't interacted recently.\n",
    "Tenure is lower, and while they have interacted in the past, they’ve become inactive, and thus the segment might need attention to prevent churn.\n",
    "\n",
    "\n",
    "**Targeted Strategies:**\n",
    "\n",
    "**Champions and Loyals:** Focus on retention and growth through exclusive rewards, personalized experiences, and engagement.\n",
    "\n",
    "**Potential Loyalists:** Focus on nurturing to build loyalty, encouraging more frequent purchases, and developing a stronger brand connection.\n",
    "\n",
    "**At-Risk Customers:** Focus on re-engagement and win-back through targeted offers and understanding barriers to their continued engagement.\n"
   ]
  },
  {
   "cell_type": "markdown",
   "id": "31ac7383",
   "metadata": {
    "papermill": {
     "duration": 0.021052,
     "end_time": "2024-10-29T22:52:24.213638",
     "exception": false,
     "start_time": "2024-10-29T22:52:24.192586",
     "status": "completed"
    },
    "tags": []
   },
   "source": [
    "## Customer Segmentation with Hierarchical Clustering"
   ]
  },
  {
   "cell_type": "code",
   "execution_count": 29,
   "id": "d19fab69",
   "metadata": {
    "execution": {
     "iopub.execute_input": "2024-10-29T22:52:24.260276Z",
     "iopub.status.busy": "2024-10-29T22:52:24.259189Z",
     "iopub.status.idle": "2024-10-29T22:52:49.339840Z",
     "shell.execute_reply": "2024-10-29T22:52:49.338165Z"
    },
    "papermill": {
     "duration": 25.106988,
     "end_time": "2024-10-29T22:52:49.342784",
     "exception": false,
     "start_time": "2024-10-29T22:52:24.235796",
     "status": "completed"
    },
    "tags": []
   },
   "outputs": [],
   "source": [
    "hc = linkage(df, \"ward\")"
   ]
  },
  {
   "cell_type": "markdown",
   "id": "789d17a3",
   "metadata": {
    "papermill": {
     "duration": 0.020486,
     "end_time": "2024-10-29T22:52:49.384833",
     "exception": false,
     "start_time": "2024-10-29T22:52:49.364347",
     "status": "completed"
    },
    "tags": []
   },
   "source": [
    "These clustering methods define how the distance between clusters is measured in hierarchical clustering:\n",
    "\n",
    "**Single Linkage:** Minimum distance between clusters.\n",
    "\n",
    "**Complete Linkage:** Maximum distance between clusters.\n",
    "\n",
    "**Average Linkage:** Average distance between clusters.\n",
    "\n",
    "**Centroid Linkage:** Distance between cluster centroids (centers).\n",
    "\n",
    "**The Ward method** is a clustering technique that minimizes the variance within clusters. It merges clusters in a way that results in the smallest possible increase in total within-cluster variance, leading to more compact and homogeneous clusters.\n"
   ]
  },
  {
   "cell_type": "code",
   "execution_count": 30,
   "id": "39682875",
   "metadata": {
    "execution": {
     "iopub.execute_input": "2024-10-29T22:52:49.428851Z",
     "iopub.status.busy": "2024-10-29T22:52:49.428371Z",
     "iopub.status.idle": "2024-10-29T22:52:49.860569Z",
     "shell.execute_reply": "2024-10-29T22:52:49.858357Z"
    },
    "papermill": {
     "duration": 0.459282,
     "end_time": "2024-10-29T22:52:49.864896",
     "exception": false,
     "start_time": "2024-10-29T22:52:49.405614",
     "status": "completed"
    },
    "tags": []
   },
   "outputs": [
    {
     "data": {
      "image/png": "[encoded data removed]",
      "text/plain": [
       "<Figure size 1200x1200 with 1 Axes>"
      ]
     },
     "metadata": {},
     "output_type": "display_data"
    }
   ],
   "source": [
    "#plotting the dendogram, it is used in hierarchical clustering to visualize the arrangement of clusters and the distances between them.\n",
    "dendrogram(hc,\n",
    "           truncate_mode=\"lastp\", #A parameter that specifies how the dendrogram will be cropped. The lastp option means that the last p cluster will be shown.\n",
    "           p=10, # specifies the number of last p clusters to display.\n",
    "           show_contracted=False, # A parameter indicating that clustering nodes are combined\n",
    "           leaf_font_size=13) #Leaf nodes font size\n",
    "plt.axhline(y=105, color='r', linestyle='--')\n",
    "plt.show()\n",
    "\n",
    "#y is the cut-off point for cluster separation (red line)"
   ]
  },
  {
   "cell_type": "code",
   "execution_count": 31,
   "id": "642644fc",
   "metadata": {
    "execution": {
     "iopub.execute_input": "2024-10-29T22:52:49.926120Z",
     "iopub.status.busy": "2024-10-29T22:52:49.925541Z",
     "iopub.status.idle": "2024-10-29T22:52:50.025841Z",
     "shell.execute_reply": "2024-10-29T22:52:50.024634Z"
    },
    "papermill": {
     "duration": 0.132472,
     "end_time": "2024-10-29T22:52:50.028740",
     "exception": false,
     "start_time": "2024-10-29T22:52:49.896268",
     "status": "completed"
    },
    "tags": []
   },
   "outputs": [],
   "source": [
    "#creating the model\n",
    "df[\"Hc_Segments\"] = fcluster(hc, 105, criterion=\"distance\")"
   ]
  },
  {
   "cell_type": "code",
   "execution_count": 32,
   "id": "54ae7e13",
   "metadata": {
    "execution": {
     "iopub.execute_input": "2024-10-29T22:52:50.077400Z",
     "iopub.status.busy": "2024-10-29T22:52:50.075928Z",
     "iopub.status.idle": "2024-10-29T22:52:50.093663Z",
     "shell.execute_reply": "2024-10-29T22:52:50.091729Z"
    },
    "papermill": {
     "duration": 0.046328,
     "end_time": "2024-10-29T22:52:50.097416",
     "exception": false,
     "start_time": "2024-10-29T22:52:50.051088",
     "status": "completed"
    },
    "tags": []
   },
   "outputs": [
    {
     "data": {
      "text/html": [
       "<div>\n",
       "<style scoped>\n",
       "    .dataframe tbody tr th:only-of-type {\n",
       "        vertical-align: middle;\n",
       "    }\n",
       "\n",
       "    .dataframe tbody tr th {\n",
       "        vertical-align: top;\n",
       "    }\n",
       "\n",
       "    .dataframe thead th {\n",
       "        text-align: right;\n",
       "    }\n",
       "</style>\n",
       "<table border=\"1\" class=\"dataframe\">\n",
       "  <thead>\n",
       "    <tr style=\"text-align: right;\">\n",
       "      <th></th>\n",
       "      <th>frequency</th>\n",
       "      <th>monetary</th>\n",
       "      <th>recency</th>\n",
       "      <th>tenure</th>\n",
       "      <th>Segment</th>\n",
       "      <th>Hc_Segments</th>\n",
       "    </tr>\n",
       "  </thead>\n",
       "  <tbody>\n",
       "    <tr>\n",
       "      <th>0</th>\n",
       "      <td>0.060</td>\n",
       "      <td>0.102</td>\n",
       "      <td>0.255</td>\n",
       "      <td>0.068</td>\n",
       "      <td>1</td>\n",
       "      <td>2</td>\n",
       "    </tr>\n",
       "    <tr>\n",
       "      <th>1</th>\n",
       "      <td>0.380</td>\n",
       "      <td>0.224</td>\n",
       "      <td>0.282</td>\n",
       "      <td>0.514</td>\n",
       "      <td>3</td>\n",
       "      <td>1</td>\n",
       "    </tr>\n",
       "    <tr>\n",
       "      <th>2</th>\n",
       "      <td>0.060</td>\n",
       "      <td>0.061</td>\n",
       "      <td>0.504</td>\n",
       "      <td>0.179</td>\n",
       "      <td>4</td>\n",
       "      <td>1</td>\n",
       "    </tr>\n",
       "    <tr>\n",
       "      <th>3</th>\n",
       "      <td>0.000</td>\n",
       "      <td>0.009</td>\n",
       "      <td>0.364</td>\n",
       "      <td>0.046</td>\n",
       "      <td>4</td>\n",
       "      <td>1</td>\n",
       "    </tr>\n",
       "    <tr>\n",
       "      <th>4</th>\n",
       "      <td>0.000</td>\n",
       "      <td>0.019</td>\n",
       "      <td>0.230</td>\n",
       "      <td>0.217</td>\n",
       "      <td>1</td>\n",
       "      <td>2</td>\n",
       "    </tr>\n",
       "  </tbody>\n",
       "</table>\n",
       "</div>"
      ],
      "text/plain": [
       "   frequency  monetary  recency  tenure  Segment  Hc_Segments\n",
       "0      0.060     0.102    0.255   0.068        1            2\n",
       "1      0.380     0.224    0.282   0.514        3            1\n",
       "2      0.060     0.061    0.504   0.179        4            1\n",
       "3      0.000     0.009    0.364   0.046        4            1\n",
       "4      0.000     0.019    0.230   0.217        1            2"
      ]
     },
     "execution_count": 32,
     "metadata": {},
     "output_type": "execute_result"
    }
   ],
   "source": [
    "df.head()"
   ]
  },
  {
   "cell_type": "code",
   "execution_count": 33,
   "id": "68109db2",
   "metadata": {
    "execution": {
     "iopub.execute_input": "2024-10-29T22:52:50.155403Z",
     "iopub.status.busy": "2024-10-29T22:52:50.154748Z",
     "iopub.status.idle": "2024-10-29T22:52:50.194264Z",
     "shell.execute_reply": "2024-10-29T22:52:50.192847Z"
    },
    "papermill": {
     "duration": 0.067392,
     "end_time": "2024-10-29T22:52:50.197631",
     "exception": false,
     "start_time": "2024-10-29T22:52:50.130239",
     "status": "completed"
    },
    "tags": []
   },
   "outputs": [
    {
     "data": {
      "text/html": [
       "<div>\n",
       "<style scoped>\n",
       "    .dataframe tbody tr th:only-of-type {\n",
       "        vertical-align: middle;\n",
       "    }\n",
       "\n",
       "    .dataframe tbody tr th {\n",
       "        vertical-align: top;\n",
       "    }\n",
       "\n",
       "    .dataframe thead tr th {\n",
       "        text-align: left;\n",
       "    }\n",
       "\n",
       "    .dataframe thead tr:last-of-type th {\n",
       "        text-align: right;\n",
       "    }\n",
       "</style>\n",
       "<table border=\"1\" class=\"dataframe\">\n",
       "  <thead>\n",
       "    <tr>\n",
       "      <th></th>\n",
       "      <th colspan=\"4\" halign=\"left\">recency</th>\n",
       "      <th colspan=\"3\" halign=\"left\">tenure</th>\n",
       "      <th colspan=\"3\" halign=\"left\">frequency</th>\n",
       "      <th colspan=\"3\" halign=\"left\">monetary</th>\n",
       "    </tr>\n",
       "    <tr>\n",
       "      <th></th>\n",
       "      <th>count</th>\n",
       "      <th>min</th>\n",
       "      <th>max</th>\n",
       "      <th>mean</th>\n",
       "      <th>min</th>\n",
       "      <th>max</th>\n",
       "      <th>mean</th>\n",
       "      <th>min</th>\n",
       "      <th>max</th>\n",
       "      <th>mean</th>\n",
       "      <th>min</th>\n",
       "      <th>max</th>\n",
       "      <th>mean</th>\n",
       "    </tr>\n",
       "    <tr>\n",
       "      <th>Hc_Segments</th>\n",
       "      <th></th>\n",
       "      <th></th>\n",
       "      <th></th>\n",
       "      <th></th>\n",
       "      <th></th>\n",
       "      <th></th>\n",
       "      <th></th>\n",
       "      <th></th>\n",
       "      <th></th>\n",
       "      <th></th>\n",
       "      <th></th>\n",
       "      <th></th>\n",
       "      <th></th>\n",
       "    </tr>\n",
       "  </thead>\n",
       "  <tbody>\n",
       "    <tr>\n",
       "      <th>1</th>\n",
       "      <td>7976</td>\n",
       "      <td>0.000</td>\n",
       "      <td>0.874</td>\n",
       "      <td>0.394</td>\n",
       "      <td>0.033</td>\n",
       "      <td>1.000</td>\n",
       "      <td>0.316</td>\n",
       "      <td>0.000</td>\n",
       "      <td>1.000</td>\n",
       "      <td>0.072</td>\n",
       "      <td>0.000</td>\n",
       "      <td>1.000</td>\n",
       "      <td>0.086</td>\n",
       "    </tr>\n",
       "    <tr>\n",
       "      <th>2</th>\n",
       "      <td>11969</td>\n",
       "      <td>0.000</td>\n",
       "      <td>1.000</td>\n",
       "      <td>0.342</td>\n",
       "      <td>0.000</td>\n",
       "      <td>0.996</td>\n",
       "      <td>0.224</td>\n",
       "      <td>0.000</td>\n",
       "      <td>1.000</td>\n",
       "      <td>0.052</td>\n",
       "      <td>0.000</td>\n",
       "      <td>1.000</td>\n",
       "      <td>0.075</td>\n",
       "    </tr>\n",
       "  </tbody>\n",
       "</table>\n",
       "</div>"
      ],
      "text/plain": [
       "            recency                   tenure             frequency             monetary            \n",
       "              count   min   max  mean    min   max  mean       min   max  mean      min   max  mean\n",
       "Hc_Segments                                                                                        \n",
       "1              7976 0.000 0.874 0.394  0.033 1.000 0.316     0.000 1.000 0.072    0.000 1.000 0.086\n",
       "2             11969 0.000 1.000 0.342  0.000 0.996 0.224     0.000 1.000 0.052    0.000 1.000 0.075"
      ]
     },
     "execution_count": 33,
     "metadata": {},
     "output_type": "execute_result"
    }
   ],
   "source": [
    "# grouping the 'Agg_Segments' and calculating mean, median, min, max, and the count of each variable in the dataframe\n",
    "df.groupby(\"Hc_Segments\").agg({\"recency\":[\"count\",\"min\",\"max\",\"mean\"],\n",
    "                           \"tenure\": [\"min\",\"max\",\"mean\"],\n",
    "                           \"frequency\":[\"min\",\"max\",\"mean\"],\n",
    "                           \"monetary\":[\"min\",\"max\",\"mean\"]})"
   ]
  },
  {
   "cell_type": "markdown",
   "id": "298c1ad5",
   "metadata": {
    "papermill": {
     "duration": 0.022604,
     "end_time": "2024-10-29T22:52:50.246414",
     "exception": false,
     "start_time": "2024-10-29T22:52:50.223810",
     "status": "completed"
    },
    "tags": []
   },
   "source": [
    "**Hc_Segments 2:** This segment likely stands out with higher customer loyalty and spending capacity. To strengthen loyalty, strategies such as loyalty programs, personalized promotions, or exclusive discounts could be implemented for these customers.\n",
    "\n",
    "**Hc_Segments 1:** For this segment, strategies to increase shopping frequency could be developed. Examples include welcome discounts, small gifts, or discounts after reaching a certain spending threshold to encourage more frequent purchases."
   ]
  },
  {
   "cell_type": "markdown",
   "id": "6c069b62",
   "metadata": {
    "papermill": {
     "duration": 0.024283,
     "end_time": "2024-10-29T22:52:50.292826",
     "exception": false,
     "start_time": "2024-10-29T22:52:50.268543",
     "status": "completed"
    },
    "tags": []
   },
   "source": [
    "# Customer Segmentation with Agglomerative Clustering"
   ]
  },
  {
   "cell_type": "code",
   "execution_count": 34,
   "id": "a1c8fc52",
   "metadata": {
    "execution": {
     "iopub.execute_input": "2024-10-29T22:52:50.353889Z",
     "iopub.status.busy": "2024-10-29T22:52:50.353410Z",
     "iopub.status.idle": "2024-10-29T22:53:02.774734Z",
     "shell.execute_reply": "2024-10-29T22:53:02.772921Z"
    },
    "papermill": {
     "duration": 12.460396,
     "end_time": "2024-10-29T22:53:02.779211",
     "exception": false,
     "start_time": "2024-10-29T22:52:50.318815",
     "status": "completed"
    },
    "tags": []
   },
   "outputs": [
    {
     "data": {
      "image/png": "[encoded data removed]",
      "text/plain": [
       "<Figure size 1200x1200 with 2 Axes>"
      ]
     },
     "metadata": {},
     "output_type": "display_data"
    },
    {
     "data": {
      "text/plain": [
       "<Axes: title={'center': 'Distortion Score Elbow for KMeans Clustering'}, xlabel='k', ylabel='distortion score'>"
      ]
     },
     "execution_count": 34,
     "metadata": {},
     "output_type": "execute_result"
    }
   ],
   "source": [
    "# Initialize KElbowVisualizer with KMeans to find the optimal number of clusters\n",
    "elbow = KElbowVisualizer(KMeans(random_state=42), k=(2,10))\n",
    "elbow.fit(df)\n",
    "elbow.show()"
   ]
  },
  {
   "cell_type": "code",
   "execution_count": 35,
   "id": "34d1f466",
   "metadata": {
    "execution": {
     "iopub.execute_input": "2024-10-29T22:53:02.849319Z",
     "iopub.status.busy": "2024-10-29T22:53:02.848800Z",
     "iopub.status.idle": "2024-10-29T22:53:02.861478Z",
     "shell.execute_reply": "2024-10-29T22:53:02.859941Z"
    },
    "papermill": {
     "duration": 0.056684,
     "end_time": "2024-10-29T22:53:02.864708",
     "exception": false,
     "start_time": "2024-10-29T22:53:02.808024",
     "status": "completed"
    },
    "tags": []
   },
   "outputs": [
    {
     "data": {
      "text/plain": [
       "4"
      ]
     },
     "execution_count": 35,
     "metadata": {},
     "output_type": "execute_result"
    }
   ],
   "source": [
    "# optimal clusters, showing teh optimal number of clusters\n",
    "elbow.elbow_value_"
   ]
  },
  {
   "cell_type": "code",
   "execution_count": 36,
   "id": "4d0d01de",
   "metadata": {
    "execution": {
     "iopub.execute_input": "2024-10-29T22:53:02.933678Z",
     "iopub.status.busy": "2024-10-29T22:53:02.933003Z",
     "iopub.status.idle": "2024-10-29T22:53:02.941419Z",
     "shell.execute_reply": "2024-10-29T22:53:02.938542Z"
    },
    "papermill": {
     "duration": 0.047902,
     "end_time": "2024-10-29T22:53:02.944709",
     "exception": false,
     "start_time": "2024-10-29T22:53:02.896807",
     "status": "completed"
    },
    "tags": []
   },
   "outputs": [],
   "source": [
    "# creates an agglomerative clustering model that will form clusters \n",
    "# based on the Ward linkage approach, with the number of clusters determined by the elbow method\n",
    "cluster = AgglomerativeClustering(n_clusters=elbow.elbow_value_, linkage=\"ward\")"
   ]
  },
  {
   "cell_type": "code",
   "execution_count": 37,
   "id": "87531c53",
   "metadata": {
    "execution": {
     "iopub.execute_input": "2024-10-29T22:53:03.002575Z",
     "iopub.status.busy": "2024-10-29T22:53:03.002110Z",
     "iopub.status.idle": "2024-10-29T22:53:25.869319Z",
     "shell.execute_reply": "2024-10-29T22:53:25.867793Z"
    },
    "papermill": {
     "duration": 22.898629,
     "end_time": "2024-10-29T22:53:25.872446",
     "exception": false,
     "start_time": "2024-10-29T22:53:02.973817",
     "status": "completed"
    },
    "tags": []
   },
   "outputs": [],
   "source": [
    "# Fitting and predicting the clusters\n",
    "clusters = cluster.fit_predict(df)"
   ]
  },
  {
   "cell_type": "code",
   "execution_count": 38,
   "id": "25ebae2c",
   "metadata": {
    "execution": {
     "iopub.execute_input": "2024-10-29T22:53:25.924783Z",
     "iopub.status.busy": "2024-10-29T22:53:25.924313Z",
     "iopub.status.idle": "2024-10-29T22:53:25.930819Z",
     "shell.execute_reply": "2024-10-29T22:53:25.929793Z"
    },
    "papermill": {
     "duration": 0.037813,
     "end_time": "2024-10-29T22:53:25.934689",
     "exception": false,
     "start_time": "2024-10-29T22:53:25.896876",
     "status": "completed"
    },
    "tags": []
   },
   "outputs": [],
   "source": [
    "#initilazing the clusters from 1 instead of 0 'zero'\n",
    "df[\"Agg_Segments\"] = clusters + 1"
   ]
  },
  {
   "cell_type": "code",
   "execution_count": 39,
   "id": "af2dc98f",
   "metadata": {
    "execution": {
     "iopub.execute_input": "2024-10-29T22:53:25.987415Z",
     "iopub.status.busy": "2024-10-29T22:53:25.985973Z",
     "iopub.status.idle": "2024-10-29T22:53:26.000543Z",
     "shell.execute_reply": "2024-10-29T22:53:25.999135Z"
    },
    "papermill": {
     "duration": 0.042542,
     "end_time": "2024-10-29T22:53:26.003454",
     "exception": false,
     "start_time": "2024-10-29T22:53:25.960912",
     "status": "completed"
    },
    "tags": []
   },
   "outputs": [
    {
     "data": {
      "text/html": [
       "<div>\n",
       "<style scoped>\n",
       "    .dataframe tbody tr th:only-of-type {\n",
       "        vertical-align: middle;\n",
       "    }\n",
       "\n",
       "    .dataframe tbody tr th {\n",
       "        vertical-align: top;\n",
       "    }\n",
       "\n",
       "    .dataframe thead th {\n",
       "        text-align: right;\n",
       "    }\n",
       "</style>\n",
       "<table border=\"1\" class=\"dataframe\">\n",
       "  <thead>\n",
       "    <tr style=\"text-align: right;\">\n",
       "      <th></th>\n",
       "      <th>frequency</th>\n",
       "      <th>monetary</th>\n",
       "      <th>recency</th>\n",
       "      <th>tenure</th>\n",
       "      <th>Segment</th>\n",
       "      <th>Hc_Segments</th>\n",
       "      <th>Agg_Segments</th>\n",
       "    </tr>\n",
       "  </thead>\n",
       "  <tbody>\n",
       "    <tr>\n",
       "      <th>0</th>\n",
       "      <td>0.060</td>\n",
       "      <td>0.102</td>\n",
       "      <td>0.255</td>\n",
       "      <td>0.068</td>\n",
       "      <td>1</td>\n",
       "      <td>2</td>\n",
       "      <td>3</td>\n",
       "    </tr>\n",
       "    <tr>\n",
       "      <th>1</th>\n",
       "      <td>0.380</td>\n",
       "      <td>0.224</td>\n",
       "      <td>0.282</td>\n",
       "      <td>0.514</td>\n",
       "      <td>3</td>\n",
       "      <td>1</td>\n",
       "      <td>2</td>\n",
       "    </tr>\n",
       "    <tr>\n",
       "      <th>2</th>\n",
       "      <td>0.060</td>\n",
       "      <td>0.061</td>\n",
       "      <td>0.504</td>\n",
       "      <td>0.179</td>\n",
       "      <td>4</td>\n",
       "      <td>1</td>\n",
       "      <td>4</td>\n",
       "    </tr>\n",
       "    <tr>\n",
       "      <th>3</th>\n",
       "      <td>0.000</td>\n",
       "      <td>0.009</td>\n",
       "      <td>0.364</td>\n",
       "      <td>0.046</td>\n",
       "      <td>4</td>\n",
       "      <td>1</td>\n",
       "      <td>4</td>\n",
       "    </tr>\n",
       "    <tr>\n",
       "      <th>4</th>\n",
       "      <td>0.000</td>\n",
       "      <td>0.019</td>\n",
       "      <td>0.230</td>\n",
       "      <td>0.217</td>\n",
       "      <td>1</td>\n",
       "      <td>2</td>\n",
       "      <td>3</td>\n",
       "    </tr>\n",
       "  </tbody>\n",
       "</table>\n",
       "</div>"
      ],
      "text/plain": [
       "   frequency  monetary  recency  tenure  Segment  Hc_Segments  Agg_Segments\n",
       "0      0.060     0.102    0.255   0.068        1            2             3\n",
       "1      0.380     0.224    0.282   0.514        3            1             2\n",
       "2      0.060     0.061    0.504   0.179        4            1             4\n",
       "3      0.000     0.009    0.364   0.046        4            1             4\n",
       "4      0.000     0.019    0.230   0.217        1            2             3"
      ]
     },
     "execution_count": 39,
     "metadata": {},
     "output_type": "execute_result"
    }
   ],
   "source": [
    "df.head()"
   ]
  },
  {
   "cell_type": "code",
   "execution_count": 40,
   "id": "c0986261",
   "metadata": {
    "execution": {
     "iopub.execute_input": "2024-10-29T22:53:26.054257Z",
     "iopub.status.busy": "2024-10-29T22:53:26.053652Z",
     "iopub.status.idle": "2024-10-29T22:53:26.088577Z",
     "shell.execute_reply": "2024-10-29T22:53:26.086435Z"
    },
    "papermill": {
     "duration": 0.063482,
     "end_time": "2024-10-29T22:53:26.091726",
     "exception": false,
     "start_time": "2024-10-29T22:53:26.028244",
     "status": "completed"
    },
    "tags": []
   },
   "outputs": [
    {
     "data": {
      "text/html": [
       "<div>\n",
       "<style scoped>\n",
       "    .dataframe tbody tr th:only-of-type {\n",
       "        vertical-align: middle;\n",
       "    }\n",
       "\n",
       "    .dataframe tbody tr th {\n",
       "        vertical-align: top;\n",
       "    }\n",
       "\n",
       "    .dataframe thead tr th {\n",
       "        text-align: left;\n",
       "    }\n",
       "\n",
       "    .dataframe thead tr:last-of-type th {\n",
       "        text-align: right;\n",
       "    }\n",
       "</style>\n",
       "<table border=\"1\" class=\"dataframe\">\n",
       "  <thead>\n",
       "    <tr>\n",
       "      <th></th>\n",
       "      <th colspan=\"4\" halign=\"left\">recency</th>\n",
       "      <th colspan=\"3\" halign=\"left\">tenure</th>\n",
       "      <th colspan=\"3\" halign=\"left\">frequency</th>\n",
       "      <th colspan=\"3\" halign=\"left\">monetary</th>\n",
       "    </tr>\n",
       "    <tr>\n",
       "      <th></th>\n",
       "      <th>count</th>\n",
       "      <th>min</th>\n",
       "      <th>max</th>\n",
       "      <th>mean</th>\n",
       "      <th>min</th>\n",
       "      <th>max</th>\n",
       "      <th>mean</th>\n",
       "      <th>min</th>\n",
       "      <th>max</th>\n",
       "      <th>mean</th>\n",
       "      <th>min</th>\n",
       "      <th>max</th>\n",
       "      <th>mean</th>\n",
       "    </tr>\n",
       "    <tr>\n",
       "      <th>Agg_Segments</th>\n",
       "      <th></th>\n",
       "      <th></th>\n",
       "      <th></th>\n",
       "      <th></th>\n",
       "      <th></th>\n",
       "      <th></th>\n",
       "      <th></th>\n",
       "      <th></th>\n",
       "      <th></th>\n",
       "      <th></th>\n",
       "      <th></th>\n",
       "      <th></th>\n",
       "      <th></th>\n",
       "    </tr>\n",
       "  </thead>\n",
       "  <tbody>\n",
       "    <tr>\n",
       "      <th>1</th>\n",
       "      <td>3868</td>\n",
       "      <td>0.567</td>\n",
       "      <td>1.000</td>\n",
       "      <td>0.822</td>\n",
       "      <td>0.081</td>\n",
       "      <td>0.996</td>\n",
       "      <td>0.288</td>\n",
       "      <td>0.000</td>\n",
       "      <td>1.000</td>\n",
       "      <td>0.044</td>\n",
       "      <td>0.000</td>\n",
       "      <td>0.969</td>\n",
       "      <td>0.061</td>\n",
       "    </tr>\n",
       "    <tr>\n",
       "      <th>2</th>\n",
       "      <td>2025</td>\n",
       "      <td>0.000</td>\n",
       "      <td>0.874</td>\n",
       "      <td>0.273</td>\n",
       "      <td>0.153</td>\n",
       "      <td>1.000</td>\n",
       "      <td>0.633</td>\n",
       "      <td>0.000</td>\n",
       "      <td>1.000</td>\n",
       "      <td>0.165</td>\n",
       "      <td>0.000</td>\n",
       "      <td>1.000</td>\n",
       "      <td>0.152</td>\n",
       "    </tr>\n",
       "    <tr>\n",
       "      <th>3</th>\n",
       "      <td>8101</td>\n",
       "      <td>0.000</td>\n",
       "      <td>0.288</td>\n",
       "      <td>0.113</td>\n",
       "      <td>0.000</td>\n",
       "      <td>0.506</td>\n",
       "      <td>0.194</td>\n",
       "      <td>0.000</td>\n",
       "      <td>0.580</td>\n",
       "      <td>0.056</td>\n",
       "      <td>0.001</td>\n",
       "      <td>1.000</td>\n",
       "      <td>0.081</td>\n",
       "    </tr>\n",
       "    <tr>\n",
       "      <th>4</th>\n",
       "      <td>5951</td>\n",
       "      <td>0.263</td>\n",
       "      <td>0.658</td>\n",
       "      <td>0.435</td>\n",
       "      <td>0.033</td>\n",
       "      <td>0.536</td>\n",
       "      <td>0.207</td>\n",
       "      <td>0.000</td>\n",
       "      <td>0.440</td>\n",
       "      <td>0.040</td>\n",
       "      <td>0.001</td>\n",
       "      <td>0.606</td>\n",
       "      <td>0.064</td>\n",
       "    </tr>\n",
       "  </tbody>\n",
       "</table>\n",
       "</div>"
      ],
      "text/plain": [
       "             recency                   tenure             frequency             monetary            \n",
       "               count   min   max  mean    min   max  mean       min   max  mean      min   max  mean\n",
       "Agg_Segments                                                                                        \n",
       "1               3868 0.567 1.000 0.822  0.081 0.996 0.288     0.000 1.000 0.044    0.000 0.969 0.061\n",
       "2               2025 0.000 0.874 0.273  0.153 1.000 0.633     0.000 1.000 0.165    0.000 1.000 0.152\n",
       "3               8101 0.000 0.288 0.113  0.000 0.506 0.194     0.000 0.580 0.056    0.001 1.000 0.081\n",
       "4               5951 0.263 0.658 0.435  0.033 0.536 0.207     0.000 0.440 0.040    0.001 0.606 0.064"
      ]
     },
     "execution_count": 40,
     "metadata": {},
     "output_type": "execute_result"
    }
   ],
   "source": [
    "# grouping the 'Agg_Segments' and calculating mean, median, min, max, and the count of each variable in the dataframe\n",
    "df.groupby(\"Agg_Segments\").agg({\"recency\":[\"count\",\"min\",\"max\",\"mean\"],\n",
    "                           \"tenure\": [\"min\",\"max\",\"mean\"],\n",
    "                           \"frequency\":[\"min\",\"max\",\"mean\"],\n",
    "                           \"monetary\":[\"min\",\"max\",\"mean\"]})"
   ]
  },
  {
   "cell_type": "markdown",
   "id": "5d25f0f5",
   "metadata": {
    "papermill": {
     "duration": 0.025288,
     "end_time": "2024-10-29T22:53:26.141698",
     "exception": false,
     "start_time": "2024-10-29T22:53:26.116410",
     "status": "completed"
    },
    "tags": []
   },
   "source": [
    "**Agg_Segments 1**: Long-term inactive customers — re-engagement needed.\n",
    "\n",
    "**Agg_Segments 2:** Loyal, high-spending customers — reward their loyalty.\n",
    "\n",
    "**Agg_Segments 3:** New, low-engagement customers — incentivize engagement.\n",
    "\n",
    "**Agg_Segments 4:** New, moderately engaged customers — encourage frequent purchases."
   ]
  }
 ],
 "metadata": {
  "kaggle": {
   "accelerator": "none",
   "dataSources": [
    {
     "datasetId": 5396530,
     "sourceId": 8965214,
     "sourceType": "datasetVersion"
    }
   ],
   "dockerImageVersionId": 30786,
   "isGpuEnabled": false,
   "isInternetEnabled": true,
   "language": "python",
   "sourceType": "notebook"
  },
  "kernelspec": {
   "display_name": "Python 3",
   "language": "python",
   "name": "python3"
  },
  "language_info": {
   "codemirror_mode": {
    "name": "ipython",
    "version": 3
   },
   "file_extension": ".py",
   "mimetype": "text/x-python",
   "name": "python",
   "nbconvert_exporter": "python",
   "pygments_lexer": "ipython3",
   "version": "3.10.14"
  },
  "papermill": {
   "default_parameters": {},
   "duration": 90.308054,
   "end_time": "2024-10-29T22:53:26.990163",
   "environment_variables": {},
   "exception": null,
   "input_path": "__notebook__.ipynb",
   "output_path": "__notebook__.ipynb",
   "parameters": {},
   "start_time": "2024-10-29T22:51:56.682109",
   "version": "2.6.0"
  }
 },
 "nbformat": 4,
 "nbformat_minor": 5
}
